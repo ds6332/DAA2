{
  "cells": [
    {
      "cell_type": "code",
      "execution_count": 1,
      "metadata": {
        "colab": {
          "base_uri": "https://localhost:8080/"
        },
        "id": "RflvDPQRakRU",
        "outputId": "7a7c32c1-1633-40ac-8bee-0e8424d5e624"
      },
      "outputs": [
        {
          "output_type": "stream",
          "name": "stdout",
          "text": [
            "Looking in indexes: https://pypi.org/simple, https://us-python.pkg.dev/colab-wheels/public/simple/\n",
            "Collecting fastDamerauLevenshtein\n",
            "  Downloading fastDamerauLevenshtein-1.0.7.tar.gz (36 kB)\n",
            "Building wheels for collected packages: fastDamerauLevenshtein\n",
            "  Building wheel for fastDamerauLevenshtein (setup.py) ... \u001b[?25l\u001b[?25hdone\n",
            "  Created wheel for fastDamerauLevenshtein: filename=fastDamerauLevenshtein-1.0.7-cp37-cp37m-linux_x86_64.whl size=59386 sha256=819d4c1a2998ee22c63bf17af8bd3b49f57ed3786948b9531bdf8559526dcf0d\n",
            "  Stored in directory: /root/.cache/pip/wheels/3d/f6/ac/23a63dea60e40b449efa973a54f5b1ba766a984be2d7b95964\n",
            "Successfully built fastDamerauLevenshtein\n",
            "Installing collected packages: fastDamerauLevenshtein\n",
            "Successfully installed fastDamerauLevenshtein-1.0.7\n"
          ]
        }
      ],
      "source": [
        "pip install fastDamerauLevenshtein"
      ]
    },
    {
      "cell_type": "code",
      "execution_count": 2,
      "metadata": {
        "id": "Ucmizu2U8j9t"
      },
      "outputs": [],
      "source": [
        "import numpy as np\n",
        "import math\n",
        "import time\n",
        "import sys\n",
        "from fastDamerauLevenshtein import damerauLevenshtein\n",
        "import random"
      ]
    },
    {
      "cell_type": "code",
      "execution_count": 39,
      "metadata": {
        "id": "zW1NKfulwQRA"
      },
      "outputs": [],
      "source": [
        "\n",
        "alphabet = ['a','b','c','d','e','f','g','h','i','j','k','l','m','n','o','p','q','r','s','t','u','v','w','x','y','z']"
      ]
    },
    {
      "cell_type": "markdown",
      "metadata": {
        "id": "faeyVjuBcJE4"
      },
      "source": [
        "l1=input length, l2=pattern length"
      ]
    },
    {
      "cell_type": "markdown",
      "metadata": {
        "id": "qF7GU1TkdAwS"
      },
      "source": [
        "d is the array used in main.cpp\n",
        " edit_distance(input, pattern, length_input, length_pattern, dist_array, &elapsed_time);"
      ]
    },
    {
      "cell_type": "code",
      "execution_count": 26,
      "metadata": {
        "id": "CNjfB3xL7IqP"
      },
      "outputs": [],
      "source": [
        "rt_lev=[]\n",
        "d_lev=[]\n",
        "rt_diag_lev=[]\n",
        "d_diag_lev=[]\n",
        "rt_dp_lev=[]\n",
        "d_dp_lev=[]\n",
        "rt_sim=[]\n",
        "d_sim=[]\n",
        "rt_diag_sim=[]\n",
        "d_diag_sim=[]\n",
        "rt_dp_sim=[]\n",
        "d_dp_sim=[]\n",
        "rt_kb=[]\n",
        "d_kb=[]\n",
        "rt_diag_kb=[]\n",
        "d_diag_kb=[]\n",
        "rt_dp_kb=[]\n",
        "d_dp_kb=[]\n",
        "rt_dame_leve=[]\n",
        "d_dame_leve=[]\n",
        "#rt_jaro=[]\n",
        "d_jaro=[]\n",
        "rt_jw=[]\n",
        "d_jw=[]\n",
        "for i in range(9):\n",
        "  rt_dp_lev.append([])\n",
        "  d_dp_lev.append([])\n",
        "  rt_dp_sim.append([])\n",
        "  d_dp_sim.append([])\n",
        "  rt_dp_kb.append([])\n",
        "  d_dp_kb.append([])"
      ]
    },
    {
      "cell_type": "markdown",
      "metadata": {
        "id": "AWeV5aHY6NG6"
      },
      "source": [
        "#Lavenshtein distance"
      ]
    },
    {
      "cell_type": "markdown",
      "metadata": {
        "id": "hVD-Isw6ezep"
      },
      "source": [
        "#edit distance"
      ]
    },
    {
      "cell_type": "code",
      "execution_count": 4,
      "metadata": {
        "id": "IZ9bz3ExafgE"
      },
      "outputs": [],
      "source": [
        "def edit_distance(ip, pat, li, lp, d):\n",
        "  start=time.process_time()\n",
        "  for i in range(0,li+1):\n",
        "    d[i][0]=i\n",
        "  for i in range(0,lp+1):\n",
        "    d[0][i]=i\n",
        "\n",
        "  for i in range(1,li+1):\n",
        "    for j in range(1,lp+1):\n",
        "      if(ip[i-1] == pat[j-1]):\n",
        "        d[i][j] = d[i-1][j-1]\n",
        "      else:\n",
        "        d[i][j]=min(d[i][j-1],d[i-1][j],d[i-1][j-1])+1\n",
        "        \n",
        "  end=time.process_time()\n",
        "  run_time=end-start\n",
        "  d_lev.append(d[li][lp])\n",
        "  rt_lev.append(run_time)\n",
        "  "
      ]
    },
    {
      "cell_type": "markdown",
      "metadata": {
        "id": "Gi6bCbQpe2Ko"
      },
      "source": [
        "#edit distance diag"
      ]
    },
    {
      "cell_type": "code",
      "execution_count": 5,
      "metadata": {
        "id": "b7fLyFFbeyHx"
      },
      "outputs": [],
      "source": [
        "def edit_distance_diag(ip, pat, li, lp, d):\n",
        "  start=time.process_time()\n",
        "  for i in range(0,li+1):\n",
        "    d[i][0]=i\n",
        "  for i in range(0,lp+1):\n",
        "    d[0][i]=i\n",
        "  #upper left\n",
        "  for i in range(1,lp+1):\n",
        "    max=np.NaN\n",
        "    if (i <= li):\n",
        "      max = i + 1;\n",
        "    else:\n",
        "      max = li + 1;\n",
        "    for j in range(1,max):\n",
        "      \n",
        "      if ip[j-1]==pat[i-j]:\n",
        "        d[j][i-j+1]=d[j-1][i-j]\n",
        "      else:\n",
        "        d[j][i-j+1]=min(d[j-1][i-j],d[j-1][i-j+1],d[j][i-j])+1\n",
        "      \n",
        "      \n",
        "      \n",
        "  #upper right\n",
        "  for i in range(1,li):\n",
        "    diag_max=np.NaN\n",
        "    if ((li > lp) and(i <= li - lp)): \n",
        "      diag_max = lp; \n",
        "    else:\n",
        "      diag_max = li - i\n",
        "    for j in range(1,diag_max+1):\n",
        "      if ip[j+i-1]==pat[lp-j]:\n",
        "        d[i+j][lp-j+1]=d[j+i-1][lp-j]\n",
        "      else:\n",
        "        d[i+j][lp-j+1]=min(d[j+i-1][lp-j],d[i+j-1][lp-j+1],d[i+j][lp-j])+1\n",
        "      \n",
        "  end=time.process_time()\n",
        "  run_time=end-start\n",
        "  d_diag_lev.append(d[li][lp])\n",
        "  rt_diag_lev.append(run_time)"
      ]
    },
    {
      "cell_type": "markdown",
      "metadata": {
        "id": "BaZhVB6ZhSzf"
      },
      "source": [
        "#edit distance diag pruning"
      ]
    },
    {
      "cell_type": "code",
      "execution_count": 21,
      "metadata": {
        "id": "ISkBSuntha5e"
      },
      "outputs": [],
      "source": [
        "def edit_distance_diag_prun(ip, pat, li, lp,k, d):\n",
        "  pruning_bits=np.zeros(30,dtype='int')\n",
        "  p_traversal=0\n",
        "  start=time.process_time()\n",
        "  for i in range(0,li+1):\n",
        "    d[i][0] = i\n",
        "  for i in range(0,lp+1):\n",
        "    d[0][i]=i\n",
        "    pruning_bits[i]=0\n",
        "\n",
        "  pruning_bits[0] = 1\n",
        "  #upper left\n",
        "\n",
        "  for i in range(1,lp+1):\n",
        "    max=np.NaN\n",
        "    if (i <= li):\n",
        "      max = i + 1\n",
        "    else:\n",
        "      max = li + 1\n",
        "    for j in range(1,max):\n",
        "      if (pruning_bits[i-j+1] == 1):\n",
        "        break \n",
        "      #deletion for being equal to pattern\n",
        "      \n",
        "      \n",
        "      if (pruning_bits[i-j] == 0):        \n",
        "        if ip[j-1]==pat[i-j]:\n",
        "          d[j][i-j+1]=d[j-1][i-j]\n",
        "        else:\n",
        "          d[j][i-j+1]=min(d[j][i-j],d[j-1][i-j],d[j-1][i-j+1])+1\n",
        "        \n",
        "      else:\n",
        "        #for the leftmost column\n",
        "        m=np.NaN\n",
        "        if (i-j+1== 1):\n",
        "          #substitution: i-th input and j-th pattern character, string array starts from index 0 \n",
        "          \n",
        "          if ip[j-1]==pat[0]:\n",
        "            \n",
        "            m=d[j-1][0]\n",
        "          else:\n",
        "            m=min(d[j-1][0],d[j-1][i-j+1],d[j][0])+1\n",
        "          \n",
        "          if ((m > k) and (d[j][0] > k)):\n",
        "            p_traversal = i\n",
        "            pruning_bits[i-j+1] = 1\n",
        "          else:\n",
        "            d[j][i-j+1] = m               \n",
        "            break\n",
        "        else:\n",
        "          if p_traversal==i-1:\n",
        "            if ip[j-1]==pat[i-j]:\n",
        "              m=d[j-1][i-j]\n",
        "            else:\n",
        "              m=d[j-1][i-j]+1\n",
        "            \n",
        "          if (m > k):\n",
        "            p_traversal = i\n",
        "            pruning_bits[i-j+1]=1\n",
        "          else:\n",
        "            d[j][i-j+1] = m\n",
        "        break\n",
        "  #from upper right\n",
        "  for i in range(1,li):\n",
        "    diag_max=np.NaN\n",
        "    if ((li > lp) and (i <= li - lp)): \n",
        "      diag_max = lp \n",
        "    else:\n",
        "      diag_max = li - i\n",
        "    for j in range(1,diag_max+1):\n",
        "      if (pruning_bits[lp-j+1] == 1):\n",
        "        break\n",
        "      #deletion for being equal to pattern\n",
        "      \n",
        "      m=np.NaN\n",
        "      if (pruning_bits[lp-j] == 0):\n",
        "        #substitution \n",
        "        if ip[i+j-1]==pat[lp-j]:\n",
        "          d[i+j][lp-j+1]=d[i+j-1][lp-j]\n",
        "        else:\n",
        "          d[i+j][lp-j+1]=min(d[i+j-1][lp-j],d[i+j-1][lp-j+1],d[i+j][lp-j])+1\n",
        "        \n",
        "      else:\n",
        "        if (p_traversal == i-1 + lp):   \n",
        "          #substitution \n",
        "          if ip[i+j-1]==pat[lp-j]:\n",
        "            m=d[i+j-1][lp-j]\n",
        "          else:\n",
        "            m=min(d[i+j-1][lp-j],d[j+i-1][lp-j+1])+1\n",
        "          \n",
        "        if (m > k):\n",
        "          p_traversal = i+lp;\n",
        "          pruning_bits[lp-j+1] = 1\n",
        "        else:\n",
        "          d[i+j][lp-j+1] = m\n",
        "        break\n",
        "  end=time.process_time()\n",
        "  run_time=end-start\n",
        "  return (d[li][lp],run_time)\n",
        "  #d_dp_lev.append(d[li][lp])\n",
        "  #rt_dp_lev.append(run_time)\n",
        "        "
      ]
    },
    {
      "cell_type": "markdown",
      "metadata": {
        "id": "j1kBSlvyMRN-"
      },
      "source": [
        "#character shape Similarity metric\n",
        "\n",
        "\n"
      ]
    },
    {
      "cell_type": "code",
      "execution_count": 7,
      "metadata": {
        "id": "nXTUIK6KNJSZ"
      },
      "outputs": [],
      "source": [
        "const_sub=1.87\n",
        "simil_array=np.array([[0.00,2.13,2.50,2.57,3.40,1.06,3.30,1.57,1.16,1.13,1.13,1.10,1.40,1.63,3.13,2.03,2.60,1.43,2.13,1.07,2.40,1.23,1.13,1.10,1.07,1.37],[2.13,0.00,3.03,5.60,2.27,1.83,3.53,3.70,1.43,1.43,2.13,2.77,1.23,1.77,4.20,5.07,4.67,1.27,1.40,1.63,1.93,1.40,1.10,1.07,1.20,1.13],\n",
        "                      [2.50,3.03,0.00,3.57,4.43,1.24,2.47,1.30,1.10,1.13,1.30,1.17,1.20,2.00,5.23,2.60,2.77,1.40,2.43,1.40,2.17,1.53,1.23,1.23,1.29,1.47],[2.57,5.60,3.57,0.00,2.87,1.43,4.10,2.73,1.73,1.27,1.33,2.30,1.13,1.93,4.90,5.10,5.10,1.33,1.27,1.37,1.83,1.55,1.07,1.23,1.13,1.23],\n",
        "                      [3.40,2.27,4.43,2.87,0.00,1.33,2.37,1.23,1.20,1.17,1.20,1.07,1.13,1.73,4.13,2.40,2.43,1.27,2.20,1.20,1.57,1.23,1.30,1.30,1.37,1.33],[1.06,1.83,1.24,1.43,1.33,0.00,1.40,1.80,4.16,3.67,1.57,4.03,1.33,1.20,1.17,1.63,1.47,3.80,1.27,4.80,1.27,1.23,1.13,1.28,1.40,1.30],\n",
        "                      [3.30,3.53,2.47,4.10,2.37,1.40,0.00,1.57,1.53,2.33,1.17,1.30,1.27,1.70,3.47,4.50,5.30,1.27,1.80,1.13,1.73,1.20,1.17,1.20,2.67,1.23],[1.57,3.70,1.30,2.73,1.23,1.80,1.57,0.00,1.93,1.60,2.77,2.53,2.53,5.53,1.47,2.47,2.17,2.37,1.23,1.97,3.33,1.40,1.30,1.23,1.50,1.20],\n",
        "                      [1.16,1.43,1.10,1.73,1.20,4.16,1.53,1.93,0.00,5.17,1.90,6.13,1.63,1.50,1.33,1.60,1.55,2.70,1.07,3.90,1.67,1.67,1.30,1.40,1.50,1.13],[1.13,1.43,1.13,1.27,1.17,3.67,2.33,1.60,5.17,0.00,1.47,4.67,1.13,1.30,1.00,1.57,1.63,2.30,1.17,3.80,1.30,1.37,1.10,1.26,2.87,1.23],\n",
        "                      [1.13,2.13,1.30,1.33,1.20,1.57,1.17,2.77,1.90,1.47,0.00,2.80,1.20,1.53,1.03,1.53,1.47,2.00,1.40,2.13,1.26,1.97,2.07,3.55,2.03,1.50],[1.10,2.77,1.17,2.30,1.07,4.03,1.30,2.53,6.13,4.67,2.80,0.00,1.07,1.37,1.23,1.80,1.83,3.26,1.10,4.50,1.29,1.37,1.33,1.27,1.81,1.10],\n",
        "                      [1.40,1.23,1.20,1.13,1.13,1.33,1.27,2.53,1.63,1.13,1.20,1.07,0.00,4.67,1.30,1.33,1.17,2.23,1.20,1.07,2.27,1.33,3.40,1.10,1.20,1.10],[1.63,1.77,2.00,1.93,1.73,1.20,1.70,5.53,1.50,1.30,1.53,1.37,4.67,0.00,2.40,1.83,1.90,3.13,1.52,1.10,4.53,1.97,1.61,1.03,1.43,1.57],\n",
        "                      [3.13,4.20,5.23,4.90,4.13,1.17,3.47,1.47,1.33,1.00,1.03,1.23,1.30,2.40,0.00,3.60,4.10,1.13,2.27,1.13,2.83,1.27,1.13,1.07,1.17,1.27],[2.03,5.07,2.60,5.10,2.40,1.63,4.50,2.47,1.60,1.57,1.53,1.80,1.33,1.83,3.60,0.00,5.57,1.77,1.26,1.33,1.80,1.13,1.17,1.10,1.97,1.17],\n",
        "                      [2.60,4.67,2.77,5.10,2.43,1.47,5.30,2.17,1.55,1.63,1.47,1.83,1.17,1.90,4.10,5.57,0.00,1.47,1.23,1.80,2.30,1.20,1.03,1.10,2.03,1.17],[1.43,1.27,1.40,1.33,1.27,3.80,1.27,2.37,2.70,2.30,2.00,3.26,2.23,3.13,1.13,1.77,1.47,0.00,1.60,3.37,1.97,1.67,1.03,1.43,1.27,1.30],\n",
        "                      [2.13,1.40,2.43,1.27,2.20,1.27,1.80,1.23,1.07,1.17,1.40,1.10,1.20,1.52,2.27,1.26,1.23,1.60,0.00,1.20,1.33,1.13,1.10,1.63,1.33,2.17],[1.07,1.63,1.40,1.37,1.20,4.80,1.13,1.97,3.90,3.80,2.13,4.50,1.07,1.10,1.13,1.33,1.80,3.37,1.20,0.00,1.60,1.40,1.00,1.47,1.50,1.27],\n",
        "                      [2.40,1.93,2.17,1.83,1.57,1.27,1.73,3.33,1.67,1.30,1.26,1.29,2.27,4.53,2.83,1.80,2.30,1.97,1.33,1.60,0.00,4.93,2.73,1.40,3.13,1.57],[1.23,1.40,1.53,1.55,1.23,1.23,1.20,1.40,1.67,1.37,1.97,1.37,1.33,1.97,1.27,1.13,1.20,1.67,1.13,1.40,4.93,0.00,5.03,2.63,5.33,1.97],\n",
        "                      [1.13,1.10,1.23,1.07,1.30,1.13,1.17,1.30,1.30,1.10,2.07,1.33,3.40,1.61,1.13,1.17,1.03,1.03,1.10,1.00,2.73,5.03,0.00,2.23,2.43,1.67],[1.10,1.07,1.23,1.23,1.30,1.28,1.20,1.23,1.40,1.26,3.55,1.27,1.10,1.03,1.07,1.10,1.10,1.43,1.63,1.47,1.40,2.63,2.23,0.00,3.10,1.80],\n",
        "                      [1.07,1.20,1.29,1.13,1.37,1.40,2.67,1.50,1.50,2.87,2.03,1.81,1.20,1.43,1.17,1.97,2.03,1.27,1.33,1.50,3.13,5.33,2.43,3.10,0.00,1.93],[1.37,1.13,1.47,1.23,1.33,1.30,1.23,1.20,1.13,1.23,1.50,1.10,1.10,1.57,1.27,1.17,1.17,1.30,2.17,1.27,1.57,1.97,1.67,1.80,1.93,0.00]])\n",
        "avg_length=5.1"
      ]
    },
    {
      "cell_type": "code",
      "execution_count": 8,
      "metadata": {
        "id": "88ZfluLIO2mb"
      },
      "outputs": [],
      "source": [
        "def edit_distance_sim(ip,pat,li,lp,d,cost):\n",
        "  \n",
        "  start=time.process_time()\n",
        "  for i in range(0,li+1):\n",
        "    d[i][0] = cost * i\n",
        "\n",
        "  for i in range(0,lp+1):\n",
        "    d[0][i] = cost * i\n",
        "  \n",
        "  for i in range(1,li+1):\n",
        "    for j in range(1,lp+1):\n",
        "      #substition\n",
        "      min = d[i-1][j-1]+ 0 if ip[i-1]==pat[j-1] else 1/simil_array[ord(ip[i-1])-97][ord(pat[j-1])-97]*const_sub\n",
        "\n",
        "      #deletion\n",
        "      if(min > d[i-1][j] + cost):\n",
        "        min = d[i-1][j] + cost\n",
        "          \n",
        "      #insertion\n",
        "      if(min > d[i][j-1] + cost):\n",
        "        min = d[i][j-1] + cost\n",
        "\n",
        "      d[i][j] = min\n",
        "\n",
        " \n",
        "  end=time.process_time()\n",
        "  run_time=end-start\n",
        "  d_sim.append(d[li][lp])\n",
        "  rt_sim.append(run_time)\n",
        "   "
      ]
    },
    {
      "cell_type": "code",
      "execution_count": 9,
      "metadata": {
        "id": "PmOkVTWSYYJY"
      },
      "outputs": [],
      "source": [
        "def edit_distance_diag_sim(ip,pat,li,lp,d,cost):\n",
        "  start=time.process_time()\n",
        "  for i in range(0,li+1):\n",
        "    d[i][0] = cost * i\n",
        "\n",
        "  for i in range(0,lp+1):\n",
        "    d[0][i] = cost * i\n",
        "\n",
        "  #from upper left\n",
        "  for i in range(1,lp+1):\n",
        "\n",
        "    max=np.NaN\n",
        "    if (i <= li):\n",
        "      max = i + 1\n",
        "    else:\n",
        "      max = li + 1;\n",
        "\n",
        "    for j in range(1,max):\n",
        "    \n",
        "      #substition\n",
        "      min = d[j-1][i-j]+ 0 if (ip[j-1] == pat[i-j]) else 1/simil_array[ord(ip[j-1])-97][ord(pat[i-j])-97]*const_sub\n",
        "\n",
        "      #deletion\n",
        "      if(min > d[j-1][i-j+1] + cost): \n",
        "        min = d[j-1][i-j+1] + cost\n",
        "          \n",
        "      #insertion\n",
        "      if(min > d[j][i-j] + cost):\n",
        "        min = d[j][i-j] + cost\n",
        "\n",
        "      d[j][i-j+1] = min\n",
        "  \n",
        "  #from upper right\n",
        "  for i in range(1,li):\n",
        "    diag_max=np.NaN\n",
        "    if ((li > lp) and (i <= li - lp)): \n",
        "        diag_max = lp; \n",
        "    else:\n",
        "      diag_max = li - i\n",
        "      \n",
        "    for j in range(1,diag_max+1):\n",
        "      \n",
        "      #substitution\n",
        "      min = d[i+j-1][lp-j]+ 0 if ip[i+j-1] == pat[lp-j] else 1/simil_array[ord(ip[i+j-1])-97][ord(pat[lp-j])-97]*const_sub\n",
        "\n",
        "      #deletion\n",
        "      if(min > d[i+j-1][lp-j+1] + cost):\n",
        "        min = d[i+j-1][lp-j+1] + cost\n",
        "\n",
        "      #insertion\n",
        "      if(min > d[i+j][lp-j] + cost):\n",
        "        min = d[i+j][lp-j] + cost\n",
        "      d[i+j][lp-j+1] = min\n",
        "  end=time.process_time()\n",
        "  run_time=end-start\n",
        "  d_diag_sim.append(d[li][lp])\n",
        "  rt_diag_sim.append(run_time)\n",
        "  "
      ]
    },
    {
      "cell_type": "code",
      "execution_count": 23,
      "metadata": {
        "id": "8josueVFa61M"
      },
      "outputs": [],
      "source": [
        "def edit_distance_diag_prun_sim(ip,pat,li,lp,d,k,cost):\n",
        "  pruning_bits=np.zeros(30,dtype='int')\n",
        "  p_traversal=0\n",
        "  start=time.process_time()\n",
        "  for i in range(0,li+1):\n",
        "    d[i][0] = cost * i\n",
        "  for i in range(0,lp+1):\n",
        "  \n",
        "    d[0][i] = cost * i\n",
        "    pruning_bits[i] = 0\n",
        "  \n",
        "  pruning_bits[0] = 1\n",
        "  #from upper left\n",
        "  for i in range(1,lp+1):\n",
        "  \n",
        "    max=np.NaN\n",
        "    if (i <= li):\n",
        "      max = i + 1;\n",
        "    else:\n",
        "      max = li + 1\n",
        "\n",
        "    for j in range(1,max):\n",
        "    \n",
        "      if (pruning_bits[i-j+1] != 0):\n",
        "        break \n",
        "\n",
        "      #deletion for being equal to pattern\n",
        "      min = d[j-1][i-j+1]+ cost\n",
        "\n",
        "      if (pruning_bits[i-j] == 0):\n",
        "      \n",
        "        #substitution: i-th input and j-th pattern character, string array starts from index 0 \n",
        "        sub = d[j-1][i-j]+ 0 if (ip[j-1] == pat[i-j]) else 1/simil_array[ord(ip[j-1])-97][ord(pat[i-j])-97]*const_sub\n",
        "\n",
        "        if(min > sub):\n",
        "          min = sub\n",
        "\n",
        "        #insertion for being equal to pattern\n",
        "        if(min > d[j][i-j] + cost):\n",
        "          min = d[j][i-j] + cost\n",
        "\n",
        "        d[j][i-j+1] = min\n",
        "      \n",
        "      else:\n",
        "      \n",
        "        #for the leftmost column\n",
        "        if (i-j+1== 1):\n",
        "        \n",
        "          #substitution: i-th input and j-th pattern character, string array starts from index 0 \n",
        "          sub = d[j-1][0]+ 0 if ip[j-1] == pat[0] else 1/simil_array[ord(ip[j-1])-97][ord(pat[0])-97]*const_sub\n",
        "\n",
        "          if(min > sub):\n",
        "            min = sub\n",
        "\n",
        "          #insertion for being equal to pattern\n",
        "          if(min > d[j][0] + cost):\n",
        "            min = d[j][0] + cost\n",
        "\n",
        "          if ((min > k)and (d[j][0] > k)):\n",
        "          \n",
        "            p_traversal = i;\n",
        "            pruning_bits[i-j+1]=1\n",
        "          \n",
        "          else:\n",
        "            d[j][i-j+1] = min\n",
        "\n",
        "        \n",
        "        else:\n",
        "          if (p_traversal == i-1):\n",
        "            #substitution: i-th input and j-th pattern character, string array starts from index 0 \n",
        "            sub = d[j-1][i-j]+ 0 if ip[j-1] == pat[i-j] else 1/simil_array[ord(ip[j-1])-97][ord(pat[i-j])-97]*const_sub\n",
        "            if(min > sub):\n",
        "              min = sub\n",
        "          #no need to calculate distance of insertion\n",
        "          if (min > k) :\n",
        "            p_traversal = i\n",
        "            pruning_bits[i-j+1]=1\n",
        "          else:\n",
        "            d[j][i-j+1] = min\n",
        "        break\n",
        "\n",
        "  #from upper right\n",
        "  for i in range(1,li):\n",
        "    diag_max=np.NaN;\n",
        "    if ((li > lp) and (i <= li - lp)): \n",
        "      diag_max = lp \n",
        "    else:\n",
        "      diag_max = li - i\n",
        "    for j in range(1,diag_max+1):\n",
        "      if (pruning_bits[lp-j+1] == 1):\n",
        "        break\n",
        "      #deletion for being equal to pattern\n",
        "      min = d[j+i-1][lp-j+1] + cost\n",
        "      if (pruning_bits[lp-j] == 0):\n",
        "        #substitution \n",
        "        sub = d[i+j-1][lp-j] + 0 if ip[i+j-1]==pat[lp-j] else 1/simil_array[ord(ip[i+j-1])-97][ord(pat[lp-j])-97]*const_sub\n",
        "        if(min > sub):\n",
        "          min = sub\n",
        "        #insertion for being equal to pattern\n",
        "        if(min > d[i+j][lp-j] + cost):\n",
        "          min = d[i+j][lp-j] + cost\n",
        "        d[i+j][lp-j+1] = min\n",
        "      else:\n",
        "        if (p_traversal == i-1 + lp):   \n",
        "          #substitution \n",
        "          sub = d[i+j-1][lp-j] + 0 if ip[i+j-1]==pat[lp-j] else 1/simil_array[ord(ip[i+j-1])-97][ord(pat[lp-j])-97]*const_sub\n",
        "          if(min > sub):\n",
        "            min = sub\n",
        "        if (min > k):\n",
        "          p_traversal = i+lp;\n",
        "          pruning_bits[lp-j+1] = 1\n",
        "        else:\n",
        "          d[i+j][lp-j+1] = min\n",
        "        break\n",
        "\n",
        "  end=time.process_time()\n",
        "  run_time=end-start\n",
        "  return (d[li][lp],run_time)\n",
        "  #d_dp_sim.append(d[li][lp])\n",
        "  #rt_dp_sim.append(run_time)\n",
        "  \n",
        "  "
      ]
    },
    {
      "cell_type": "markdown",
      "metadata": {
        "id": "dJ9Rw-u4jJQX"
      },
      "source": [
        "#keyboard distance"
      ]
    },
    {
      "cell_type": "code",
      "execution_count": 11,
      "metadata": {
        "id": "vDuRUDsPjDQQ"
      },
      "outputs": [],
      "source": [
        "const_keyboard=0.1084\n",
        "keyboard=[['`','1','2','3','4','5','6','7','8','9','0','-','=' ],\n",
        "    ['q','w','e','r','t','y','u','i','o','p','[',']','\\\\'],\n",
        "    ['a','s','d','f','g','h','j','k','l',';',124, 0,  0],\n",
        "    ['z','x','c','v','b','n','m',',','.','/', 0,  0,  0],\n",
        "    [0,    0,' ',' ',' ',' ',' ',  0,  0,  0, 0,  0,  0]]\n",
        "shifted_keyboard=[['~', '!', '@', '#', '$', '%', '^', '&', '*', '(', ')', '+',  0 ],\n",
        "    ['Q', 'W', 'E', 'R', 'T', 'Y', 'U', 'I', 'O', 'P', '{', '}', '|'],\n",
        "    ['A', 'S', 'D', 'F', 'G', 'H', 'J', 'K', 'L', ':', '\"',   0,  0],\n",
        "    ['Z', 'X', 'C', 'V', 'B', 'N', 'M', '<', '>', '?',   0,   0,  0],\n",
        "    [0,   0, ' ', ' ', ' ', ' ', ' ',   0,     0,   0,   0,   0,  0]]\n",
        "avg_length=5.1\n",
        "max_keyboard=0.108"
      ]
    },
    {
      "cell_type": "code",
      "execution_count": 12,
      "metadata": {
        "id": "RuZ6AoI8j0q2"
      },
      "outputs": [],
      "source": [
        "def return_coord(c):\n",
        "  for i in range(len(keyboard)):\n",
        "    if c in keyboard[i]:\n",
        "      return (i,keyboard[i].index(c))\n",
        "  return -1    "
      ]
    },
    {
      "cell_type": "code",
      "execution_count": 13,
      "metadata": {
        "id": "j1EVvFaNln83"
      },
      "outputs": [],
      "source": [
        "def Euc_distance(c1,c2):\n",
        "  coor1=return_coord(c1)\n",
        "  coor2=return_coord(c2)\n",
        "  if type(coor1) is tuple and type(coor2) is tuple:\n",
        "    return math.sqrt((coor1[0]-coor2[0])**2 + (coor1[1]-coor2[1])**2)\n",
        "  return -1"
      ]
    },
    {
      "cell_type": "code",
      "execution_count": 14,
      "metadata": {
        "id": "GM-HDMNImsqL"
      },
      "outputs": [],
      "source": [
        "def edit_distance_kb(ip,pat,li,lp,d,cost):\n",
        "  start=time.process_time()\n",
        "  for i in range(0,li+1):\n",
        "    d[i][0] = cost * i\n",
        "\n",
        "  for i in range(0,lp+1):\n",
        "    d[0][i] = cost * i\n",
        "  for i in range(1,li+1):\n",
        "    for j in range(1,lp+1):\n",
        "      #substition\n",
        "      ds=Euc_distance(ip[i-1],pat[j-1])*const_keyboard\n",
        "      if ds<0:\n",
        "        sys.exit(1)  #exit code 1 -- either of the character in the inputs is not found in the keyboard array\n",
        "      min = d[i-1][j-1]+ 0 if ip[i-1]==pat[j-1] else ds\n",
        "      #deletion\n",
        "      if(min > d[i-1][j] + cost): \n",
        "        min = d[i-1][j] + cost\n",
        "      #insertion\n",
        "      if(min > d[i][j-1] + cost):\n",
        "        min = d[i][j-1] + cost\n",
        "\n",
        "      d[i][j] = min\n",
        "  end=time.process_time()\n",
        "  run_time=end-start\n",
        "  d_kb.append(d[li][lp])\n",
        "  rt_kb.append(run_time)\n",
        "  \n"
      ]
    },
    {
      "cell_type": "code",
      "execution_count": 15,
      "metadata": {
        "id": "LGKatoeVpYNA"
      },
      "outputs": [],
      "source": [
        "def edit_distance_diag_kb(ip,pat,li,lp,d,cost):\n",
        "  start=time.process_time()\n",
        "  for i in range(0,li+1):\n",
        "    d[i][0] = cost * i\n",
        "\n",
        "  for i in range(0,lp+1):\n",
        "    d[0][i] = cost * i\n",
        "\n",
        "  #from upper left\n",
        "  for i in range(1,lp+1):\n",
        "    max=np.NaN\n",
        "    if (i <= li):\n",
        "      max = i + 1\n",
        "    else:\n",
        "      max = li + 1;\n",
        "\n",
        "    for j in range(1,max):\n",
        "      #substition\n",
        "      ds=Euc_distance(ip[j-1],pat[i-j])*const_keyboard\n",
        "      if ds<0:\n",
        "        sys.exit(1)  #exit code 1 -- either of the character in the inputs is not found in the keyboard array\n",
        "      min = d[j-1][i-j]+ 0 if ip[j-1]==pat[i-j] else ds\n",
        "      #deletion\n",
        "      if(min > d[j-1][i-j+1] + cost): \n",
        "        min = d[j-1][i-j+1] + cost\n",
        "          \n",
        "      #insertion\n",
        "      if(min > d[j][i-j] + cost):\n",
        "        min = d[j][i-j] + cost\n",
        "\n",
        "      d[j][i-j+1] = min\n",
        "  \n",
        "  #from upper right\n",
        "  for i in range(1,li):\n",
        "    diag_max=np.NaN\n",
        "    if ((li > lp) and (i <= li - lp)): \n",
        "        diag_max = lp; \n",
        "    else:\n",
        "      diag_max = li - i\n",
        "    for j in range(1,diag_max+1):\n",
        "      #substitution\n",
        "      ds=Euc_distance(ip[i+j-1],pat[lp-j])*const_keyboard\n",
        "      if ds<0:\n",
        "        sys.exit(1)  #exit code 1 -- either of the character in the inputs is not found in the keyboard array\n",
        "      min = d[i+j-1][lp-j]+ 0 if ip[i+j-1]==pat[lp-j] else ds\n",
        "      #deletion\n",
        "      if(min > d[i+j-1][lp-j+1] + cost):\n",
        "        min = d[i+j-1][lp-j+1] + cost\n",
        "      #insertion\n",
        "      if(min > d[i+j][lp-j] + cost):\n",
        "        min = d[i+j][lp-j] + cost\n",
        "      d[i+j][lp-j+1] = min\n",
        "  end=time.process_time()\n",
        "  run_time=end-start\n",
        "  d_diag_kb.append(d[li][lp])\n",
        "  rt_diag_kb.append(run_time)\n",
        "  "
      ]
    },
    {
      "cell_type": "code",
      "execution_count": 22,
      "metadata": {
        "id": "uN9HLd8rrLs_"
      },
      "outputs": [],
      "source": [
        "def edit_distance_diag_prun_kb(ip,pat,li,lp,k,d,cost):\n",
        "  pruning_bits=np.zeros(30,dtype='int')\n",
        "  p_traversal=0\n",
        "  start=time.process_time()\n",
        "  for i in range(0,li+1):\n",
        "    d[i][0] = cost * i\n",
        "  for i in range(0,lp+1):\n",
        "    d[0][i] = cost * i\n",
        "    pruning_bits[i] = 0\n",
        "  pruning_bits[0] = 1\n",
        "  #from upper left\n",
        "  for i in range(1,lp+1):\n",
        "    max=np.NaN\n",
        "    if (i <= li):\n",
        "      max = i + 1;\n",
        "    else:\n",
        "      max = li + 1\n",
        "    for j in range(1,max):\n",
        "      if (pruning_bits[i-j+1] != 0):\n",
        "        break \n",
        "      #deletion for being equal to pattern\n",
        "      min = d[j-1][i-j+1]+ cost\n",
        "      if (pruning_bits[i-j] == 0):\n",
        "        #substitution: i-th input and j-th pattern character, string array starts from index 0 \n",
        "        ds=Euc_distance(ip[j-1],pat[i-j])*const_keyboard\n",
        "        if ds<0:\n",
        "          sys.exit(1)\n",
        "        sub = d[j-1][i-j]+ 0 if (ip[j-1] == pat[i-j]) else ds\n",
        "        if(min > sub):\n",
        "          min = sub\n",
        "        #insertion for being equal to pattern\n",
        "        if(min > d[j][i-j] + cost):\n",
        "          min = d[j][i-j] + cost\n",
        "        d[j][i-j+1] = min\n",
        "      else:\n",
        "        #for the leftmost column\n",
        "        if (i-j+1== 1):\n",
        "          #substitution: i-th input and j-th pattern character, string array starts from index 0 \n",
        "          ds=Euc_distance(ip[j-1],pat[0])*const_keyboard\n",
        "          if ds<0:\n",
        "            sys.exit(1)\n",
        "          sub = d[j-1][0]+ 0 if ip[j-1] == pat[0] else ds\n",
        "          if(min > sub):\n",
        "            min = sub\n",
        "          #insertion for being equal to pattern\n",
        "          if(min > d[j][0] + cost):\n",
        "            min = d[j][0] + cost\n",
        "          if ((min > k)and (d[j][0] > k)):\n",
        "            p_traversal = i;\n",
        "            pruning_bits[i-j+1]=1\n",
        "          else:\n",
        "            d[j][i-j+1] = min\n",
        "        else:\n",
        "          if (p_traversal == i-1):\n",
        "            #substitution: i-th input and j-th pattern character, string array starts from index 0 \n",
        "            ds=Euc_distance(ip[j-1],pat[i-j])*const_keyboard\n",
        "            if ds<0:\n",
        "              sys.exit(1)\n",
        "            sub = d[j-1][i-j]+ 0 if ip[j-1] == pat[i-j] else ds\n",
        "            if(min > sub):\n",
        "              min = sub\n",
        "          #no need to calculate distance of insertion\n",
        "          if (min > k) :\n",
        "            p_traversal = i\n",
        "            pruning_bits[i-j+1]=1\n",
        "          else:\n",
        "            d[j][i-j+1] = min\n",
        "        break\n",
        "\n",
        "  #from upper right\n",
        "  for i in range(1,li):\n",
        "  \n",
        "    diag_max=np.NaN;\n",
        "    if ((li > lp) and (i <= li - lp)): \n",
        "      diag_max = lp \n",
        "    else:\n",
        "      diag_max = li - i\n",
        "    for j in range(1,diag_max+1):\n",
        "      if (pruning_bits[lp-j+1] == 1):\n",
        "        break\n",
        "      #deletion for being equal to pattern\n",
        "      min = d[j+i-1][lp-j+1] + cost\n",
        "      if (pruning_bits[lp-j] == 0):\n",
        "        #substitution \n",
        "        ds=Euc_distance(ip[i+j-1],pat[lp-j])*const_keyboard\n",
        "        if ds<0:\n",
        "          sys.exit(1)\n",
        "        sub = d[i+j-1][lp-j] + 0 if ip[i+j-1]==pat[lp-j] else ds\n",
        "        if(min > sub):\n",
        "          min = sub\n",
        "        #insertion for being equal to pattern\n",
        "        if(min > d[i+j][lp-j] + cost):\n",
        "          min = d[i+j][lp-j] + cost\n",
        "        d[i+j][lp-j+1] = min\n",
        "      else:\n",
        "        if (p_traversal == i-1 + lp):   \n",
        "          #substitution \n",
        "          ds=Euc_distance(ip[i+j-1],pat[lp-j])*const_keyboard\n",
        "          if ds<0:\n",
        "            sys.exit(1)\n",
        "          sub = d[i+j-1][lp-j] + 0 if ip[i+j-1]==pat[lp-j] else ds\n",
        "          if(min > sub):\n",
        "            min = sub\n",
        "        if (min > k):\n",
        "          p_traversal = i+lp;\n",
        "          pruning_bits[lp-j+1] = 1\n",
        "        else:\n",
        "          d[i+j][lp-j+1] = min\n",
        "        break\n",
        "\n",
        "  end=time.process_time()\n",
        "  run_time=end-start\n",
        "  return (d[li][lp],run_time)\n",
        "  #d_dp_kb.append(d[li][lp])\n",
        "  #rt_dp_kb.append(run_time)\n",
        "  "
      ]
    },
    {
      "cell_type": "code",
      "execution_count": 17,
      "metadata": {
        "id": "h-rGropezpEO"
      },
      "outputs": [],
      "source": [
        "def edit_distance_dameLeve(ip,pat):\n",
        "  start=time.process_time()\n",
        "  dst=damerauLevenshtein(ip,pat, similarity=True)\n",
        "  end=time.process_time()\n",
        "  d_dame_leve.append(dst)\n",
        "  rt_dame_leve.append(end-start)"
      ]
    },
    {
      "cell_type": "code",
      "execution_count": 18,
      "metadata": {
        "id": "nmOQ2VWY2cCm"
      },
      "outputs": [],
      "source": [
        "def edit_distance_jaro(ip, pat,li,lp):\n",
        "\t\n",
        "\t# If the strings are equal\n",
        "\tif (ip == pat):\n",
        "\t\treturn 1.0\n",
        "\t# Maximum distance upto which matching is allowed\n",
        "\tmax_dist = math.floor(max(li, lp) / 2) - 1\n",
        "\tm = 0\n",
        "# Hash for matches\n",
        "\thash_ip = [0] * li\n",
        "\thash_pat = [0] * lp\n",
        "\tfor i in range(li):\n",
        "    # Check if there is any matches\n",
        "\t\tfor j in range(max(0, i - max_dist),min(lp, i + max_dist + 1)):\n",
        "\t\t  # If there is a match\n",
        "\t\t\tif (ip[i] == pat[j] and hash_pat[j] == 0):\n",
        "\t\t\t\thash_ip[i] = 1\n",
        "\t\t\t\thash_pat[j] = 1\n",
        "\t\t\t\tm += 1\n",
        "\t\t\t\tbreak\n",
        "  # If there is no match\n",
        "\tif (m == 0):\n",
        "\t\treturn 0.0\n",
        "# Number of transpositions\n",
        "\tt = 0\n",
        "\tpoint = 0\n",
        "\n",
        "\tfor i in range(li):\n",
        "\t\tif (hash_ip[i]):\n",
        "\t\t\twhile (hash_pat[point] == 0):\n",
        "\t\t\t\tpoint += 1\n",
        "\n",
        "\t\t\tif (ip[i] != pat[point]):\n",
        "\t\t\t\tt += 1\n",
        "\t\t\tpoint += 1\n",
        "\tt = t//2\n",
        "\t\n",
        "\treturn(m/li+m/lp+(m-t)/m)/3.0\n",
        " "
      ]
    },
    {
      "cell_type": "code",
      "execution_count": 19,
      "metadata": {
        "id": "xQyZ4D-Y5h9H"
      },
      "outputs": [],
      "source": [
        "def edit_distance_jaroWinkler(ip,pat,li,lp):\n",
        "  start=time.process_time()\n",
        "  dist_jaro = 1-edit_distance_jaro(ip, pat,li,lp)\n",
        "  dist_jw=0\n",
        "  if(dist_jaro>0.7):\n",
        "    prefix=0\n",
        "    for i in range(min(li,lp)) :\n",
        "      if(ip[i]==pat[i]):\n",
        "        prefix += 1;\n",
        "      else :\n",
        "        break\n",
        "    prefix = min(4, prefix) #allowing max of 4 characters in the prefix\n",
        "    dist_jw =dist_jaro+ 0.1 * prefix * (1 - dist_jaro);\n",
        "  end=time.process_time()\n",
        "  d_jaro.append(dist_jaro)\n",
        "  d_jw.append(dist_jw)\n",
        "  rt_jw.append(end-start)"
      ]
    },
    {
      "cell_type": "code",
      "execution_count": 41,
      "metadata": {
        "id": "hxGbIZEowUfz"
      },
      "outputs": [],
      "source": [
        "simMatrix=np.array([[4, -1, -2, -2,  0, -1, -1, 0,-1, 0, -2, -1, -1, -1, -1, -2, -1,  1,  0, -3, -2,  0 ,-2, -1, -1, -1,],\n",
        "[-1 , 5 , 0 ,-2 ,-3  ,1  ,0 ,-2 , 0 ,-3 ,-2 , 2 ,-1 ,1,2,-3 ,-2 ,-1 ,-1 ,-3, -2 ,-3 ,-1 ,-2 , 0, -1],\n",
        "[-2 , 0 , 6 , 1 ,-3,  0,  0,  0,  1, -3, -3,  0, -2, -3 ,3,-2,-2,  1,  0 ,-4 ,-2 ,-3 , 4, -3,  0, -1],\n",
        "[-2 ,-2 , 1 , 6, -3,  0 , 2 ,-1 ,-1, -3, -4, -1, -3, -3, -1,  1,-2,0 ,-1 ,-4 ,-3, -3,  4 ,-3 , 1, -1],\n",
        "[0 ,-3, -3, -3,  9, -3, -4 ,-3 ,-3, -1, -1, -1,-3,-3, -1, -2, -3 ,-1, -1, -2, -2, -1, -3, -1, -3 ,-1],\n",
        "[-1 , 1,  0 , 0 ,-3,  5,  2, -2,  0 ,-3, -2,  1 ,-3,2, 0 ,-3 ,-1 , 0 ,-1 ,-2 ,-1, -2 , 0 ,-2 , 4, -1],\n",
        "[-1  ,0 , 0 , 2 ,-4 , 2 , 5 ,-2 , 0 ,-3 ,-3 , 1,-1,0, -2 ,-3 ,-1 , 0 ,-1 ,-3 ,-2 ,-2,  1, -3 , 4, -1],\n",
        "[0 ,-2 , 0 ,-1, -3, -2, -2,  6, -2, -4, -4, -2, -3, 2,-2,-3, -2 , 0, -2 ,-2 ,-3, -3, -1 ,-4 ,-2 ,-1],\n",
        "[-2 , 0 , 1 ,-1 ,-3 , 0 , 0 ,-2 , 8 ,-3, -3 ,-1 ,-2 ,-1 ,-2 ,-1, -2 ,-2 , 2 ,1,2,-3 , 0 ,-3 , 0 ,-1],\n",
        "[-1 ,-3 ,-3, -3 ,-1 ,-3 ,-3 ,-4 ,-3, 3,-3, 4 , 2 ,-3 , 1 , 0 ,-3 ,-2 ,-1, -3, -1,  3 ,-3 , 3 ,-3 ,-1],\n",
        "[-1 ,-2, -3, -4, -1,-1,-3, -2, -3, -4, -3,  2 , 4, -2 , 2 , 0 ,-3 ,-2 ,-1, -2, -1 , 1 ,-4 , 3 ,-3 ,-1],\n",
        "[-1 , 2 , 0 ,-1 ,-3,  1, 0,4, 1, -2 ,-1 ,-3 ,-2 , 5 ,-1 ,-3 ,-1 , 0 ,-1 ,-3 ,-2 ,-2 , 0 ,-3 , 1 ,-1],\n",
        "[-1 ,-1 ,-2, -3, -1,-3,-1,  0, -2, -3, -2,  1 , 2 ,-1 , 5 , 0 ,-2 ,-1, -1, -1, -1 , 1 ,-3 , 2 ,-1 ,-1],\n",
        "[-2 ,-3, -3, -3, -2 ,-3 ,-3 ,-3 ,-1 , 0 , 0, -3, 1,3, 0,  6 ,-4 ,-2 ,-2 , 1 , 3 ,-1 ,-3 , 0 ,-3 ,-1],\n",
        "[-1 ,-2, -2, -1, -3, -1 ,-1 ,-2 ,-2 ,-3 ,-3 ,-1 -2 ,4 ,4, 7 ,-1 ,-1 ,-4,1,-4 ,-3 ,-2, -2, -3 ,-1 ,-1],\n",
        "[1 ,-1  ,1 , 0, -1,  0,  0,  0 ,-1 ,-2 ,-2 , 0 ,-1, -2, -1,  4,  1, 0,-3,-3, -2, -2,  0, -2 , 0 ,-1],\n",
        "[0 ,-1  ,0, -1, -1, -1, -1, -2, -2, -1 ,-1, -1, -1, -2, -1,  1 ,4,2, 5, -2, -2 , 0 ,-1 ,-1, -1 ,-1],\n",
        "[-3 ,-3, -4, -4, -2, -2, -3, -2, -2, -3, -2, -3 ,-1, 1, 1 ,-4, -3 ,-2 ,1,1 , 2, -3, -4, -2 ,-2 ,-1],\n",
        "[-2 ,-2, -2, -3, -2, -1, -2, -3,  2 ,-1 ,-1 ,-2,-4,-2 ,-1 , 3 ,-3, -2, -2,  2,  7, -1, -3, -1, -2, -1],\n",
        "[0 ,-3 ,-3, -3, -1, -2, -3,-1,-2, -3, -3,  3,  1, -2,  1 ,-1, -2, -2,  0, -3 ,-1,  4 ,-3 , 2 ,-2 ,-1],\n",
        "[-2 ,-1 , 4 , 4 ,-3 , 0 , 1 ,-1 , 0, -3, -4,  0 ,-3 ,-3 ,-2 ,1,4, 0 ,-1 ,-4, -3, -3,  4, -3,  0, -1],\n",
        "[-1 ,-2, -3, -3, -1, -2, -3 ,-4 ,-3 , 3 , 3 ,-3 , 2 , 0 ,-3,3,-1, -2, -1, -2 ,-1 , 2, -3 , 3 ,-3 ,-1],\n",
        "[-1 , 0 , 0,  1 ,-3,  4,  4, -2,  0, -3, -3,  1, -1, -4,-2,-3, -1,  0, -1, -2, -2, -2,  0, -3 , 4 ,-1],\n",
        "[-1 ,-3 ,-3, -3 ,-1 ,-3 ,-3 ,-4 ,-3, 3,-3, 4 ,-3 ,-1,  4 ,-3 , 2 ,-2 ,-1,-2, -3, -3, -1, -2, -3 ,-4 ],\n",
        " [0 , 6 , 1 ,-3,  0,  0,  0,  1, -3, -3,  0, -2,-3, -3, -1,  1,-2,0 ,-1 ,-4 ,-3, -3,  4 ,-3 ,-3, -2],\n",
        "[-1 ,-1, -1, -1 ,-1, -1, -1, -1, -1, -1,-1, -1, -1,-1,-1 -1, -1, -1, -1, -1, -1, -1 ,-1, -1, -1, -1, -1]])\n",
        "\n",
        "\n",
        "\n",
        "alphEnum = dict([(alphabet[i], i) for i in range(len(alphabet))])"
      ]
    },
    {
      "cell_type": "code",
      "execution_count": 42,
      "metadata": {
        "id": "BuE0ym46Bq7I"
      },
      "outputs": [],
      "source": [
        "def nw(ip, pat,li,lp, gapPenalty=-4):\n",
        "    # The Needleman-Wunsch algorithm\n",
        "    \n",
        "    mat = []\n",
        "    for i in range(li+1):\n",
        "        mat.append([0]*(lp+1))\n",
        "    for j in range(lp+1):\n",
        "        mat[0][j] = gapPenalty*j\n",
        "    for i in range(li+1):\n",
        "        mat[i][0] = gapPenalty*i\n",
        "    for i in range(1, li+1):\n",
        "        for j in range(1, lp+1):\n",
        "            mat[i][j] = max(mat[i-1][j-1] + simMatrix[alphEnum[ip[i-1]]][alphEnum[pat[j-1]]], mat[i][j-1] + gapPenalty, mat[i-1][j] + gapPenalty)\n",
        "\n",
        "    # Stage 2: Computes the final alignment, by backtracking through matrix\n",
        "    alignmentip = \"\"\n",
        "    alignmentpat = \"\"\n",
        "    i, j = li,lp\n",
        "    while i and j:\n",
        "        score, scoreDiag, scoreUp, scoreLeft = mat[i][j], mat[i-1][j-1], mat[i-1][j], mat[i][j-1]\n",
        "        if score == scoreDiag + simMatrix[alphEnum[ip[i-1]]][alphEnum[pat[j-1]]]:\n",
        "            alignmentip = ip[i-1] + alignmentip\n",
        "            alignmentpat = pat[j-1] + alignmentpat\n",
        "            i -= 1\n",
        "            j -= 1\n",
        "        elif score == scoreUp + gapPenalty:\n",
        "            alignmentip = ip[i-1] + alignmentip\n",
        "            alignmentpat = '-' + alignmentpat\n",
        "            i -= 1\n",
        "        elif score == scoreLeft + gapPenalty:\n",
        "            alignmentip = '-' + alignmentip\n",
        "            alignmentpat = pat[j-1] + alignmentpat\n",
        "            j -= 1\n",
        "    while i:\n",
        "        alignmentip = ip[i-1] + alignmentip\n",
        "        alignmentpat = '-' + alignmentpat\n",
        "        i -= 1\n",
        "    while j:\n",
        "        alignmentip = '-' + alignmentip\n",
        "        alignmentpat = pat[j-1] + alignmentpat\n",
        "        j -= 1\n",
        "    # Now return result in format: [1st alignment, 2nd alignment, similarity]\n",
        "    return [alignmentip, alignmentpat, mat[li][lp]]\n",
        "\n",
        "def forwards(ip, pat,li,lp, gapPenalty=-4):\n",
        "    # This is the forwards subroutine.\n",
        "    \n",
        "    mat = []\n",
        "    for i in range(li+1):\n",
        "        mat.append([0]*(lp+1))\n",
        "    for j in range(lp+1):\n",
        "        mat[0][j] = gapPenalty*j\n",
        "    for i in range(1, li+1):\n",
        "        mat[i][0] = mat[i-1][0] + gapPenalty\n",
        "        for j in range(1, lp+1):\n",
        "            mat[i][j] = max(mat[i-1][j-1] + simMatrix[alphEnum[ip[i-1]]][alphEnum[pat[j-1]]], mat[i-1][j] + gapPenalty,mat[i][j-1] + gapPenalty)\n",
        "        # Now clear row from memory.\n",
        "        mat[i-1] = []\n",
        "    return mat[li]    \n",
        "\n",
        "def backwards(ip, pat,li,lp, gapPenalty=-4):\n",
        "    # This is the backwards subroutine.\n",
        "  \n",
        "    mat = []\n",
        "    for i in range(li+1):\n",
        "        mat.append([0]*(lp+1))\n",
        "    for j in range(lp+1):\n",
        "        mat[0][j] = gapPenalty*j\n",
        "    for i in range(1, li+1):\n",
        "        mat[i][0] = mat[i-1][0] + gapPenalty\n",
        "        for j in range(1, lp+1):\n",
        "            mat[i][j] = max(mat[i-1][j-1] + simMatrix[alphEnum[ip[li-i]]][alphEnum[pat[lp-j]]], mat[i-1][j] + gapPenalty, mat[i][j-1] + gapPenalty)\n",
        "        # Now clear row from memory.\n",
        "        mat[i-1] = []\n",
        "    return mat[li]\n",
        "\n",
        "def hirschberg(ip,pat,li,lp, gapPenalty=-4):\n",
        "    # This is the main Hirschberg routine.\n",
        "    \n",
        "    if li<2 or lp<2:\n",
        "        # In this case we just use the N-W algorithm.\n",
        "        return nw(ip, pat,li,lp, simMatrix, gapPenalty, alphEnum)\n",
        "    else:\n",
        "        # Make partitions, call subroutines.\n",
        "        F, B = forwards(ip[:li//2], pat,li,lp), backwards(ip[li//2:], pat,li,lp)\n",
        "        partition = [F[j] + B[lp-j] for j in range(lp+1)]\n",
        "        cut = partition.index(max(partition))\n",
        "        # Clear all memory now, so that we don't store data during recursive calls.\n",
        "        F, B, partition = [], [], []\n",
        "        # Now make recursive calls.\n",
        "        callLeft = hirschberg(ip[:li/2], pat[:cut],li,lp, simMatrix, gapPenalty, alphEnum)\n",
        "        callRight = hirschberg(ip[li/2:], pat[cut:],li,lp, simMatrix, gapPenalty, alphEnum)\n",
        "        # Now return result in format: [1st alignment, 2nd alignment, similarity]\n",
        "        return [callLeft[r] + callRight[r] for r in range(3)]"
      ]
    },
    {
      "cell_type": "code",
      "execution_count": 44,
      "metadata": {
        "colab": {
          "base_uri": "https://localhost:8080/",
          "height": 415
        },
        "id": "yf8ayU-OMDEA",
        "outputId": "b1c8c0b7-24e7-4071-da5d-87b1e4f5c6b8"
      },
      "outputs": [
        {
          "output_type": "stream",
          "name": "stdout",
          "text": [
            "7\n"
          ]
        },
        {
          "output_type": "error",
          "ename": "IndexError",
          "evalue": "ignored",
          "traceback": [
            "\u001b[0;31m---------------------------------------------------------------------------\u001b[0m",
            "\u001b[0;31mIndexError\u001b[0m                                Traceback (most recent call last)",
            "\u001b[0;32m<ipython-input-44-c18658827a31>\u001b[0m in \u001b[0;36m<module>\u001b[0;34m()\u001b[0m\n\u001b[1;32m      2\u001b[0m \u001b[0mp\u001b[0m\u001b[0;34m=\u001b[0m\u001b[0;34m\"catch\"\u001b[0m\u001b[0;34m\u001b[0m\u001b[0;34m\u001b[0m\u001b[0m\n\u001b[1;32m      3\u001b[0m \u001b[0mprint\u001b[0m\u001b[0;34m(\u001b[0m\u001b[0mlen\u001b[0m\u001b[0;34m(\u001b[0m\u001b[0mi\u001b[0m\u001b[0;34m)\u001b[0m\u001b[0;34m)\u001b[0m\u001b[0;34m\u001b[0m\u001b[0;34m\u001b[0m\u001b[0m\n\u001b[0;32m----> 4\u001b[0;31m \u001b[0mz\u001b[0m \u001b[0;34m=\u001b[0m \u001b[0mhirschberg\u001b[0m\u001b[0;34m(\u001b[0m\u001b[0mi\u001b[0m\u001b[0;34m,\u001b[0m\u001b[0mp\u001b[0m\u001b[0;34m,\u001b[0m\u001b[0mlen\u001b[0m\u001b[0;34m(\u001b[0m\u001b[0mi\u001b[0m\u001b[0;34m)\u001b[0m\u001b[0;34m,\u001b[0m\u001b[0mlen\u001b[0m\u001b[0;34m(\u001b[0m\u001b[0mp\u001b[0m\u001b[0;34m)\u001b[0m\u001b[0;34m)\u001b[0m\u001b[0;34m\u001b[0m\u001b[0;34m\u001b[0m\u001b[0m\n\u001b[0m\u001b[1;32m      5\u001b[0m \u001b[0;34m\u001b[0m\u001b[0m\n\u001b[1;32m      6\u001b[0m \u001b[0mprint\u001b[0m\u001b[0;34m(\u001b[0m\u001b[0;34m\"Alignment of A: \"\u001b[0m\u001b[0;34m,\u001b[0m \u001b[0mz\u001b[0m\u001b[0;34m[\u001b[0m\u001b[0;36m0\u001b[0m\u001b[0;34m]\u001b[0m\u001b[0;34m)\u001b[0m\u001b[0;34m\u001b[0m\u001b[0;34m\u001b[0m\u001b[0m\n",
            "\u001b[0;32m<ipython-input-42-8643124ee0fc>\u001b[0m in \u001b[0;36mhirschberg\u001b[0;34m(ip, pat, li, lp, gapPenalty)\u001b[0m\n\u001b[1;32m     83\u001b[0m     \u001b[0;32melse\u001b[0m\u001b[0;34m:\u001b[0m\u001b[0;34m\u001b[0m\u001b[0;34m\u001b[0m\u001b[0m\n\u001b[1;32m     84\u001b[0m         \u001b[0;31m# Make partitions, call subroutines.\u001b[0m\u001b[0;34m\u001b[0m\u001b[0;34m\u001b[0m\u001b[0;34m\u001b[0m\u001b[0m\n\u001b[0;32m---> 85\u001b[0;31m         \u001b[0mF\u001b[0m\u001b[0;34m,\u001b[0m \u001b[0mB\u001b[0m \u001b[0;34m=\u001b[0m \u001b[0mforwards\u001b[0m\u001b[0;34m(\u001b[0m\u001b[0mip\u001b[0m\u001b[0;34m[\u001b[0m\u001b[0;34m:\u001b[0m\u001b[0mli\u001b[0m\u001b[0;34m//\u001b[0m\u001b[0;36m2\u001b[0m\u001b[0;34m]\u001b[0m\u001b[0;34m,\u001b[0m \u001b[0mpat\u001b[0m\u001b[0;34m,\u001b[0m\u001b[0mli\u001b[0m\u001b[0;34m,\u001b[0m\u001b[0mlp\u001b[0m\u001b[0;34m)\u001b[0m\u001b[0;34m,\u001b[0m \u001b[0mbackwards\u001b[0m\u001b[0;34m(\u001b[0m\u001b[0mip\u001b[0m\u001b[0;34m[\u001b[0m\u001b[0mli\u001b[0m\u001b[0;34m//\u001b[0m\u001b[0;36m2\u001b[0m\u001b[0;34m:\u001b[0m\u001b[0;34m]\u001b[0m\u001b[0;34m,\u001b[0m \u001b[0mpat\u001b[0m\u001b[0;34m,\u001b[0m\u001b[0mli\u001b[0m\u001b[0;34m,\u001b[0m\u001b[0mlp\u001b[0m\u001b[0;34m)\u001b[0m\u001b[0;34m\u001b[0m\u001b[0;34m\u001b[0m\u001b[0m\n\u001b[0m\u001b[1;32m     86\u001b[0m         \u001b[0mpartition\u001b[0m \u001b[0;34m=\u001b[0m \u001b[0;34m[\u001b[0m\u001b[0mF\u001b[0m\u001b[0;34m[\u001b[0m\u001b[0mj\u001b[0m\u001b[0;34m]\u001b[0m \u001b[0;34m+\u001b[0m \u001b[0mB\u001b[0m\u001b[0;34m[\u001b[0m\u001b[0mlp\u001b[0m\u001b[0;34m-\u001b[0m\u001b[0mj\u001b[0m\u001b[0;34m]\u001b[0m \u001b[0;32mfor\u001b[0m \u001b[0mj\u001b[0m \u001b[0;32min\u001b[0m \u001b[0mrange\u001b[0m\u001b[0;34m(\u001b[0m\u001b[0mlp\u001b[0m\u001b[0;34m+\u001b[0m\u001b[0;36m1\u001b[0m\u001b[0;34m)\u001b[0m\u001b[0;34m]\u001b[0m\u001b[0;34m\u001b[0m\u001b[0;34m\u001b[0m\u001b[0m\n\u001b[1;32m     87\u001b[0m         \u001b[0mcut\u001b[0m \u001b[0;34m=\u001b[0m \u001b[0mpartition\u001b[0m\u001b[0;34m.\u001b[0m\u001b[0mindex\u001b[0m\u001b[0;34m(\u001b[0m\u001b[0mmax\u001b[0m\u001b[0;34m(\u001b[0m\u001b[0mpartition\u001b[0m\u001b[0;34m)\u001b[0m\u001b[0;34m)\u001b[0m\u001b[0;34m\u001b[0m\u001b[0;34m\u001b[0m\u001b[0m\n",
            "\u001b[0;32m<ipython-input-42-8643124ee0fc>\u001b[0m in \u001b[0;36mforwards\u001b[0;34m(ip, pat, li, lp, gapPenalty)\u001b[0m\n\u001b[1;32m     54\u001b[0m         \u001b[0mmat\u001b[0m\u001b[0;34m[\u001b[0m\u001b[0mi\u001b[0m\u001b[0;34m]\u001b[0m\u001b[0;34m[\u001b[0m\u001b[0;36m0\u001b[0m\u001b[0;34m]\u001b[0m \u001b[0;34m=\u001b[0m \u001b[0mmat\u001b[0m\u001b[0;34m[\u001b[0m\u001b[0mi\u001b[0m\u001b[0;34m-\u001b[0m\u001b[0;36m1\u001b[0m\u001b[0;34m]\u001b[0m\u001b[0;34m[\u001b[0m\u001b[0;36m0\u001b[0m\u001b[0;34m]\u001b[0m \u001b[0;34m+\u001b[0m \u001b[0mgapPenalty\u001b[0m\u001b[0;34m\u001b[0m\u001b[0;34m\u001b[0m\u001b[0m\n\u001b[1;32m     55\u001b[0m         \u001b[0;32mfor\u001b[0m \u001b[0mj\u001b[0m \u001b[0;32min\u001b[0m \u001b[0mrange\u001b[0m\u001b[0;34m(\u001b[0m\u001b[0;36m1\u001b[0m\u001b[0;34m,\u001b[0m \u001b[0mlp\u001b[0m\u001b[0;34m+\u001b[0m\u001b[0;36m1\u001b[0m\u001b[0;34m)\u001b[0m\u001b[0;34m:\u001b[0m\u001b[0;34m\u001b[0m\u001b[0;34m\u001b[0m\u001b[0m\n\u001b[0;32m---> 56\u001b[0;31m             \u001b[0mmat\u001b[0m\u001b[0;34m[\u001b[0m\u001b[0mi\u001b[0m\u001b[0;34m]\u001b[0m\u001b[0;34m[\u001b[0m\u001b[0mj\u001b[0m\u001b[0;34m]\u001b[0m \u001b[0;34m=\u001b[0m \u001b[0mmax\u001b[0m\u001b[0;34m(\u001b[0m\u001b[0mmat\u001b[0m\u001b[0;34m[\u001b[0m\u001b[0mi\u001b[0m\u001b[0;34m-\u001b[0m\u001b[0;36m1\u001b[0m\u001b[0;34m]\u001b[0m\u001b[0;34m[\u001b[0m\u001b[0mj\u001b[0m\u001b[0;34m-\u001b[0m\u001b[0;36m1\u001b[0m\u001b[0;34m]\u001b[0m \u001b[0;34m+\u001b[0m \u001b[0msimMatrix\u001b[0m\u001b[0;34m[\u001b[0m\u001b[0malphEnum\u001b[0m\u001b[0;34m[\u001b[0m\u001b[0mip\u001b[0m\u001b[0;34m[\u001b[0m\u001b[0mi\u001b[0m\u001b[0;34m-\u001b[0m\u001b[0;36m1\u001b[0m\u001b[0;34m]\u001b[0m\u001b[0;34m]\u001b[0m\u001b[0;34m]\u001b[0m\u001b[0;34m[\u001b[0m\u001b[0malphEnum\u001b[0m\u001b[0;34m[\u001b[0m\u001b[0mpat\u001b[0m\u001b[0;34m[\u001b[0m\u001b[0mj\u001b[0m\u001b[0;34m-\u001b[0m\u001b[0;36m1\u001b[0m\u001b[0;34m]\u001b[0m\u001b[0;34m]\u001b[0m\u001b[0;34m]\u001b[0m\u001b[0;34m,\u001b[0m \u001b[0mmat\u001b[0m\u001b[0;34m[\u001b[0m\u001b[0mi\u001b[0m\u001b[0;34m-\u001b[0m\u001b[0;36m1\u001b[0m\u001b[0;34m]\u001b[0m\u001b[0;34m[\u001b[0m\u001b[0mj\u001b[0m\u001b[0;34m]\u001b[0m \u001b[0;34m+\u001b[0m \u001b[0mgapPenalty\u001b[0m\u001b[0;34m,\u001b[0m\u001b[0mmat\u001b[0m\u001b[0;34m[\u001b[0m\u001b[0mi\u001b[0m\u001b[0;34m]\u001b[0m\u001b[0;34m[\u001b[0m\u001b[0mj\u001b[0m\u001b[0;34m-\u001b[0m\u001b[0;36m1\u001b[0m\u001b[0;34m]\u001b[0m \u001b[0;34m+\u001b[0m \u001b[0mgapPenalty\u001b[0m\u001b[0;34m)\u001b[0m\u001b[0;34m\u001b[0m\u001b[0;34m\u001b[0m\u001b[0m\n\u001b[0m\u001b[1;32m     57\u001b[0m         \u001b[0;31m# Now clear row from memory.\u001b[0m\u001b[0;34m\u001b[0m\u001b[0;34m\u001b[0m\u001b[0;34m\u001b[0m\u001b[0m\n\u001b[1;32m     58\u001b[0m         \u001b[0mmat\u001b[0m\u001b[0;34m[\u001b[0m\u001b[0mi\u001b[0m\u001b[0;34m-\u001b[0m\u001b[0;36m1\u001b[0m\u001b[0;34m]\u001b[0m \u001b[0;34m=\u001b[0m \u001b[0;34m[\u001b[0m\u001b[0;34m]\u001b[0m\u001b[0;34m\u001b[0m\u001b[0;34m\u001b[0m\u001b[0m\n",
            "\u001b[0;31mIndexError\u001b[0m: string index out of range"
          ]
        }
      ],
      "source": [
        "i=\"ccatese\"\n",
        "p=\"catch\"\n",
        "\n",
        "z = hirschberg(i,p,len(i),len(p))\n",
        "\n",
        "print(\"Alignment of A: \", z[0])\n",
        "print(\"Alignment of B: \", z[1])\n",
        "print( \"Similarity score: \", z[2], '\\n')"
      ]
    },
    {
      "cell_type": "code",
      "execution_count": 30,
      "metadata": {
        "id": "6sTeWYOQ3GCT"
      },
      "outputs": [],
      "source": [
        "f = open(\"words_alpha.txt\", 'r')\n",
        "data=[]\n",
        "word=f.readline()\n",
        "while (word):\n",
        "  if len(word)<=10 and len(word)>3:\n",
        "    data.append(word[:-1])\n",
        "  word=f.readline()\n",
        "input_list=random.sample(data,10000)\n",
        "pattern_list=random.sample(data,100)"
      ]
    },
    {
      "cell_type": "code",
      "execution_count": null,
      "metadata": {
        "colab": {
          "base_uri": "https://localhost:8080/"
        },
        "id": "LbtKkJAoryXI",
        "outputId": "730336fa-b2cd-4381-d501-134c642de433"
      },
      "outputs": [
        {
          "name": "stdout",
          "output_type": "stream",
          "text": [
            "ccatese\n",
            "catch\n",
            "4.0\n",
            "Levenshtein Distance with Diagonal skipping=4.0\n",
            "run time=0.00013847600000360671\n",
            "Levenshtein Distance with diagonal pruning=4.0\n",
            "run time=0.00018726100000066026\n"
          ]
        }
      ],
      "source": [
        "ip=input()\n",
        "pat=input()\n",
        "li=len(ip)\n",
        "lp=len(pat)\n",
        "d=np.zeros((li+1,lp+1))\n",
        "#cost = math.exp(avg_length/lp) / math.exp(1)\n",
        "edit_distance(ip, pat, li, lp, d)\n",
        "edit_distance_diag(ip, pat, li, lp, d)\n",
        "k=3\n",
        "edit_distance_diag_prun(ip,pat,li,lp,k,d)"
      ]
    },
    {
      "cell_type": "code",
      "execution_count": 31,
      "metadata": {
        "id": "eSGsqO8s6rks"
      },
      "outputs": [],
      "source": [
        "#ip=input()\n",
        "#pat=input()\n",
        "for i in range(len(input_list)):\n",
        "  for j in range(len(pattern_list)):\n",
        "    ip=input_list[i]\n",
        "    pat=pattern_list[j]\n",
        "    li=len(ip)\n",
        "    lp=len(pat)\n",
        "    d=np.zeros((li+1,lp+1))\n",
        "    \n",
        "    cost = math.exp(avg_length/lp) / math.exp(1)\n",
        "    edit_distance(ip, pat, li, lp, d)\n",
        "    edit_distance_diag(ip, pat, li, lp, d)\n",
        "    \n",
        "    edit_distance_sim(ip,pat,li,lp,d,cost)\n",
        "    edit_distance_diag_sim(ip,pat,li,lp,d,cost)\n",
        "    \n",
        "    edit_distance_kb(ip,pat,li,lp,d,cost)\n",
        "    edit_distance_diag_kb(ip,pat,li,lp,d,cost)\n",
        "    \n",
        "    edit_distance_dameLeve(ip,pat)\n",
        "    edit_distance_jaroWinkler(ip,pat,li,lp)\n",
        "    for k in range(3,11):\n",
        "      l=edit_distance_diag_prun(ip,pat,li,lp,k,d)\n",
        "      s=edit_distance_diag_prun_sim(ip,pat,li,lp,d,k,cost)\n",
        "      b=edit_distance_diag_prun_kb(ip,pat,li,lp,k,d,cost)\n",
        "      \n",
        "      rt_dp_lev[k-3].append(l[1])\n",
        "      d_dp_lev[k-3].append(l[0])\n",
        "      rt_dp_sim[k-3].append(s[1])\n",
        "      d_dp_sim[k-3].append(s[0])\n",
        "      rt_dp_kb[k-3].append(b[1])\n",
        "      d_dp_kb[k-3].append(b[0])"
      ]
    },
    {
      "cell_type": "code",
      "execution_count": null,
      "metadata": {
        "id": "xZBgI_6LKHSu"
      },
      "outputs": [],
      "source": [
        "import matplotlib.pyplot as plt\n"
      ]
    },
    {
      "cell_type": "code",
      "execution_count": 29,
      "metadata": {
        "colab": {
          "base_uri": "https://localhost:8080/",
          "height": 287
        },
        "id": "8gGVFc4PKfkI",
        "outputId": "0272e068-141d-41c3-9ea3-6040534e2a5a"
      },
      "outputs": [
        {
          "output_type": "stream",
          "name": "stdout",
          "text": [
            "0.9483066749997402\n",
            "1.225069897999921\n",
            "1.3427398529998378\n"
          ]
        },
        {
          "output_type": "error",
          "ename": "TypeError",
          "evalue": "ignored",
          "traceback": [
            "\u001b[0;31m---------------------------------------------------------------------------\u001b[0m",
            "\u001b[0;31mTypeError\u001b[0m                                 Traceback (most recent call last)",
            "\u001b[0;32m<ipython-input-29-f2f7772ee2ac>\u001b[0m in \u001b[0;36m<module>\u001b[0;34m()\u001b[0m\n\u001b[1;32m      3\u001b[0m \u001b[0mprint\u001b[0m\u001b[0;34m(\u001b[0m\u001b[0msum\u001b[0m\u001b[0;34m(\u001b[0m\u001b[0mrt_sim\u001b[0m\u001b[0;34m)\u001b[0m\u001b[0;34m)\u001b[0m\u001b[0;34m\u001b[0m\u001b[0;34m\u001b[0m\u001b[0m\n\u001b[1;32m      4\u001b[0m \u001b[0mprint\u001b[0m\u001b[0;34m(\u001b[0m\u001b[0msum\u001b[0m\u001b[0;34m(\u001b[0m\u001b[0mrt_diag_sim\u001b[0m\u001b[0;34m)\u001b[0m\u001b[0;34m)\u001b[0m\u001b[0;34m\u001b[0m\u001b[0;34m\u001b[0m\u001b[0m\n\u001b[0;32m----> 5\u001b[0;31m \u001b[0mprint\u001b[0m\u001b[0;34m(\u001b[0m\u001b[0msum\u001b[0m\u001b[0;34m(\u001b[0m\u001b[0mrt_dp_sim\u001b[0m\u001b[0;34m)\u001b[0m\u001b[0;34m)\u001b[0m\u001b[0;34m\u001b[0m\u001b[0;34m\u001b[0m\u001b[0m\n\u001b[0m\u001b[1;32m      6\u001b[0m \u001b[0mprint\u001b[0m\u001b[0;34m(\u001b[0m\u001b[0msum\u001b[0m\u001b[0;34m(\u001b[0m\u001b[0mrt_kb\u001b[0m\u001b[0;34m)\u001b[0m\u001b[0;34m)\u001b[0m\u001b[0;34m\u001b[0m\u001b[0;34m\u001b[0m\u001b[0m\n\u001b[1;32m      7\u001b[0m \u001b[0mprint\u001b[0m\u001b[0;34m(\u001b[0m\u001b[0msum\u001b[0m\u001b[0;34m(\u001b[0m\u001b[0mrt_diag_kb\u001b[0m\u001b[0;34m)\u001b[0m\u001b[0;34m)\u001b[0m\u001b[0;34m\u001b[0m\u001b[0;34m\u001b[0m\u001b[0m\n",
            "\u001b[0;31mTypeError\u001b[0m: unsupported operand type(s) for +: 'int' and 'list'"
          ]
        }
      ],
      "source": [
        "\n",
        "print(sum(rt_lev))\n",
        "print(sum(rt_sim))\n",
        "print(sum(rt_diag_sim))\n",
        "print(sum(rt_dp_sim))\n",
        "print(sum(rt_kb))\n",
        "print(sum(rt_diag_kb))\n",
        "print(sum(rt_dp_kb))\n",
        "print(sum(rt_dame_leve))\n",
        "print(sum(rt_jw))"
      ]
    },
    {
      "cell_type": "code",
      "execution_count": 37,
      "metadata": {
        "colab": {
          "base_uri": "https://localhost:8080/"
        },
        "id": "fsKE5cJCLALY",
        "outputId": "8491a22b-b3e7-4f5e-96f4-8340d8aa3e3c"
      },
      "outputs": [
        {
          "output_type": "stream",
          "name": "stdout",
          "text": [
            "1010618\n",
            "1010617\n",
            "1010617\n",
            "9\n",
            "1010617\n",
            "1010617\n",
            "9\n",
            "1010617\n",
            "1010617\n"
          ]
        }
      ],
      "source": [
        "print(len(rt_lev))\n",
        "print(len(rt_sim))\n",
        "print(len(rt_diag_sim))\n",
        "print(len(rt_dp_sim))\n",
        "print(len(rt_kb))\n",
        "print(len(rt_diag_kb))\n",
        "print(len(rt_dp_kb))\n",
        "print(len(rt_dame_leve))\n",
        "print(len(rt_jw))"
      ]
    },
    {
      "cell_type": "code",
      "execution_count": 32,
      "metadata": {
        "id": "rW4NDHR_LY6U"
      },
      "outputs": [],
      "source": [
        "import pickle"
      ]
    },
    {
      "cell_type": "code",
      "execution_count": 33,
      "metadata": {
        "id": "hO0WKGAXLXyp"
      },
      "outputs": [],
      "source": [
        "\n",
        "f = open(\"ip_list.pkl\", \"wb\")\n",
        "pickle.dump(input_list, f)\n",
        "f.close()\n",
        "\n"
      ]
    },
    {
      "cell_type": "code",
      "execution_count": 34,
      "metadata": {
        "id": "cFAA0yzQNLFc"
      },
      "outputs": [],
      "source": [
        "f=open(\"pat_list.pkl\",\"wb\")\n",
        "pickle.dump(pattern_list,f)\n",
        "f.close()\n"
      ]
    },
    {
      "cell_type": "code",
      "execution_count": null,
      "metadata": {
        "id": "0Ii140QsPggb"
      },
      "outputs": [],
      "source": [
        "with open('ip_list.pkl', 'rb') as f:\n",
        "  ip_list_l = pickle.load(f)\n",
        "with open('pat_list.pkl','rb') as f:\n",
        "  pat_list_l=pickle.load(f)"
      ]
    },
    {
      "cell_type": "code",
      "execution_count": null,
      "metadata": {
        "id": "pqr3l82xP3kD"
      },
      "outputs": [],
      "source": [
        "import collections"
      ]
    },
    {
      "cell_type": "code",
      "execution_count": null,
      "metadata": {
        "colab": {
          "base_uri": "https://localhost:8080/"
        },
        "id": "8_-Vpth3P_tr",
        "outputId": "caea3667-4cb4-4348-d54c-b84d7f114cf4"
      },
      "outputs": [
        {
          "name": "stdout",
          "output_type": "stream",
          "text": [
            "The lists are identical\n",
            "The lists are identical\n"
          ]
        }
      ],
      "source": [
        "if collections.Counter(ip_list_l) == collections.Counter(input_list):\n",
        "    print (\"The lists are identical\")\n",
        "else :\n",
        "    print (\"The lists are not identical\")\n",
        "if collections.Counter(pat_list_l) == collections.Counter(pattern_list):\n",
        "    print (\"The lists are identical\")\n",
        "else :\n",
        "    print (\"The lists are not identical\")"
      ]
    },
    {
      "cell_type": "code",
      "execution_count": 35,
      "metadata": {
        "id": "BVZkqIszNUH4",
        "colab": {
          "base_uri": "https://localhost:8080/"
        },
        "outputId": "3486b65f-4222-4a40-a9ae-73b2e4ffe8ca"
      },
      "outputs": [
        {
          "output_type": "stream",
          "name": "stderr",
          "text": [
            "/usr/local/lib/python3.7/dist-packages/ipykernel_launcher.py:4: VisibleDeprecationWarning: Creating an ndarray from ragged nested sequences (which is a list-or-tuple of lists-or-tuples-or ndarrays with different lengths or shapes) is deprecated. If you meant to do this, you must specify 'dtype=object' when creating the ndarray.\n",
            "  after removing the cwd from sys.path.\n",
            "/usr/local/lib/python3.7/dist-packages/ipykernel_launcher.py:7: VisibleDeprecationWarning: Creating an ndarray from ragged nested sequences (which is a list-or-tuple of lists-or-tuples-or ndarrays with different lengths or shapes) is deprecated. If you meant to do this, you must specify 'dtype=object' when creating the ndarray.\n",
            "  import sys\n",
            "/usr/local/lib/python3.7/dist-packages/ipykernel_launcher.py:10: VisibleDeprecationWarning: Creating an ndarray from ragged nested sequences (which is a list-or-tuple of lists-or-tuples-or ndarrays with different lengths or shapes) is deprecated. If you meant to do this, you must specify 'dtype=object' when creating the ndarray.\n",
            "  # Remove the CWD from sys.path while we load stuff.\n"
          ]
        }
      ],
      "source": [
        "with open('runtime.npy', 'wb') as f:\n",
        "    np.save(f,np.array(rt_lev))\n",
        "    np.save(f,np.array(rt_diag_lev))\n",
        "    np.save(f,np.array(rt_dp_lev))\n",
        "    np.save(f,np.array(rt_sim))\n",
        "    np.save(f,np.array(rt_diag_sim))\n",
        "    np.save(f,np.array(rt_dp_sim))\n",
        "    np.save(f,np.array(rt_kb))\n",
        "    np.save(f,np.array(rt_diag_kb))\n",
        "    np.save(f,np.array(rt_dp_kb))\n",
        "    np.save(f,np.array(rt_dame_leve))\n",
        "    np.save(f,np.array(rt_jw))\n",
        "    \n"
      ]
    },
    {
      "cell_type": "code",
      "execution_count": null,
      "metadata": {
        "colab": {
          "base_uri": "https://localhost:8080/",
          "height": 356
        },
        "id": "fofrTFmNOVs5",
        "outputId": "62b15839-fc72-4cae-8f94-808da3505b81"
      },
      "outputs": [
        {
          "ename": "ValueError",
          "evalue": "ignored",
          "output_type": "error",
          "traceback": [
            "\u001b[0;31m---------------------------------------------------------------------------\u001b[0m",
            "\u001b[0;31mValueError\u001b[0m                                Traceback (most recent call last)",
            "\u001b[0;32m<ipython-input-24-474e3d132e8d>\u001b[0m in \u001b[0;36m<module>\u001b[0;34m()\u001b[0m\n\u001b[1;32m      2\u001b[0m     \u001b[0mrt_seq_l\u001b[0m \u001b[0;34m=\u001b[0m \u001b[0mnp\u001b[0m\u001b[0;34m.\u001b[0m\u001b[0mload\u001b[0m\u001b[0;34m(\u001b[0m\u001b[0mf\u001b[0m\u001b[0;34m)\u001b[0m\u001b[0;34m\u001b[0m\u001b[0;34m\u001b[0m\u001b[0m\n\u001b[1;32m      3\u001b[0m     \u001b[0mrt_sim_l\u001b[0m \u001b[0;34m=\u001b[0m \u001b[0mnp\u001b[0m\u001b[0;34m.\u001b[0m\u001b[0mload\u001b[0m\u001b[0;34m(\u001b[0m\u001b[0mf\u001b[0m\u001b[0;34m)\u001b[0m\u001b[0;34m\u001b[0m\u001b[0;34m\u001b[0m\u001b[0m\n\u001b[0;32m----> 4\u001b[0;31m     \u001b[0mrt_diag_sim_l\u001b[0m \u001b[0;34m=\u001b[0m \u001b[0mnp\u001b[0m\u001b[0;34m.\u001b[0m\u001b[0mload\u001b[0m\u001b[0;34m(\u001b[0m\u001b[0mf\u001b[0m\u001b[0;34m)\u001b[0m\u001b[0;34m\u001b[0m\u001b[0;34m\u001b[0m\u001b[0m\n\u001b[0m\u001b[1;32m      5\u001b[0m     \u001b[0mrt_dp_sim_l\u001b[0m \u001b[0;34m=\u001b[0m \u001b[0mnp\u001b[0m\u001b[0;34m.\u001b[0m\u001b[0mload\u001b[0m\u001b[0;34m(\u001b[0m\u001b[0mf\u001b[0m\u001b[0;34m)\u001b[0m\u001b[0;34m\u001b[0m\u001b[0;34m\u001b[0m\u001b[0m\n\u001b[1;32m      6\u001b[0m     \u001b[0mrt_kb_l\u001b[0m \u001b[0;34m=\u001b[0m \u001b[0mnp\u001b[0m\u001b[0;34m.\u001b[0m\u001b[0mload\u001b[0m\u001b[0;34m(\u001b[0m\u001b[0mf\u001b[0m\u001b[0;34m)\u001b[0m\u001b[0;34m\u001b[0m\u001b[0;34m\u001b[0m\u001b[0m\n",
            "\u001b[0;32m/usr/local/lib/python3.7/dist-packages/numpy/lib/npyio.py\u001b[0m in \u001b[0;36mload\u001b[0;34m(file, mmap_mode, allow_pickle, fix_imports, encoding)\u001b[0m\n\u001b[1;32m    443\u001b[0m             \u001b[0;31m# Try a pickle\u001b[0m\u001b[0;34m\u001b[0m\u001b[0;34m\u001b[0m\u001b[0;34m\u001b[0m\u001b[0m\n\u001b[1;32m    444\u001b[0m             \u001b[0;32mif\u001b[0m \u001b[0;32mnot\u001b[0m \u001b[0mallow_pickle\u001b[0m\u001b[0;34m:\u001b[0m\u001b[0;34m\u001b[0m\u001b[0;34m\u001b[0m\u001b[0m\n\u001b[0;32m--> 445\u001b[0;31m                 raise ValueError(\"Cannot load file containing pickled data \"\n\u001b[0m\u001b[1;32m    446\u001b[0m                                  \"when allow_pickle=False\")\n\u001b[1;32m    447\u001b[0m             \u001b[0;32mtry\u001b[0m\u001b[0;34m:\u001b[0m\u001b[0;34m\u001b[0m\u001b[0;34m\u001b[0m\u001b[0m\n",
            "\u001b[0;31mValueError\u001b[0m: Cannot load file containing pickled data when allow_pickle=False"
          ]
        }
      ],
      "source": [
        "with open('runtime.npy', 'rb') as f:\n",
        "    rt_lev_l = np.load(f)\n",
        "    rt_diag_lev_l=np.load(f)\n",
        "    rt_dp_lev_l=np.load(f)\n",
        "    rt_sim_l = np.load(f)\n",
        "    rt_diag_sim_l = np.load(f)\n",
        "    rt_dp_sim_l = np.load(f)\n",
        "    rt_kb_l = np.load(f)\n",
        "    rt_diag_kb_l = np.load(f)\n",
        "    rt_dp_kb_l= np.load(f)\n",
        "    rt_dame_leve_l = np.load(f)\n",
        "    rt_jw_l= np.load(f)\n",
        "    "
      ]
    },
    {
      "cell_type": "code",
      "execution_count": 36,
      "metadata": {
        "id": "6wQLlDcoOyLq",
        "colab": {
          "base_uri": "https://localhost:8080/"
        },
        "outputId": "c520a7e1-82ec-4df3-8586-9ef3f7a93364"
      },
      "outputs": [
        {
          "output_type": "stream",
          "name": "stderr",
          "text": [
            "/usr/local/lib/python3.7/dist-packages/ipykernel_launcher.py:4: VisibleDeprecationWarning: Creating an ndarray from ragged nested sequences (which is a list-or-tuple of lists-or-tuples-or ndarrays with different lengths or shapes) is deprecated. If you meant to do this, you must specify 'dtype=object' when creating the ndarray.\n",
            "  after removing the cwd from sys.path.\n",
            "/usr/local/lib/python3.7/dist-packages/ipykernel_launcher.py:7: VisibleDeprecationWarning: Creating an ndarray from ragged nested sequences (which is a list-or-tuple of lists-or-tuples-or ndarrays with different lengths or shapes) is deprecated. If you meant to do this, you must specify 'dtype=object' when creating the ndarray.\n",
            "  import sys\n",
            "/usr/local/lib/python3.7/dist-packages/ipykernel_launcher.py:10: VisibleDeprecationWarning: Creating an ndarray from ragged nested sequences (which is a list-or-tuple of lists-or-tuples-or ndarrays with different lengths or shapes) is deprecated. If you meant to do this, you must specify 'dtype=object' when creating the ndarray.\n",
            "  # Remove the CWD from sys.path while we load stuff.\n"
          ]
        }
      ],
      "source": [
        "with open('distance.npy', 'wb') as f:\n",
        "    np.save(f,np.array(d_lev))\n",
        "    np.save(f,np.array(d_diag_lev))\n",
        "    np.save(f,np.array(d_dp_lev))\n",
        "    np.save(f,np.array(d_sim))\n",
        "    np.save(f,np.array(d_diag_sim))\n",
        "    np.save(f,np.array(d_dp_sim))\n",
        "    np.save(f,np.array(d_kb))\n",
        "    np.save(f,np.array(d_diag_kb))\n",
        "    np.save(f,np.array(d_dp_kb))\n",
        "    np.save(f,np.array(d_dame_leve))\n",
        "    np.save(f,np.array(d_jw))\n",
        "    "
      ]
    },
    {
      "cell_type": "code",
      "execution_count": null,
      "metadata": {
        "id": "NXObKxt8O6xk"
      },
      "outputs": [],
      "source": [
        "with open('distance.npy', 'rb') as f:\n",
        "    d_lev_l = np.load(f)\n",
        "    d_diag_lev_l=np.load(f)\n",
        "    d_dp_lev_l=np.load(f)\n",
        "    d_sim_l = np.load(f)\n",
        "    d_diag_sim_l = np.load(f)\n",
        "    d_dp_sim_l = np.load(f)\n",
        "    d_kb_l = np.load(f)\n",
        "    d_diag_kb_l = np.load(f)\n",
        "    d_dp_kb_l= np.load(f)\n",
        "    d_dame_leve_l = np.load(f)\n",
        "    d_jw_l= np.load(f)\n",
        "    "
      ]
    },
    {
      "cell_type": "code",
      "execution_count": null,
      "metadata": {
        "colab": {
          "base_uri": "https://localhost:8080/"
        },
        "id": "K9S6dVi6QVrg",
        "outputId": "e637a6e7-1ed3-4a01-e73c-343226e229e0"
      },
      "outputs": [
        {
          "name": "stdout",
          "output_type": "stream",
          "text": [
            "Mounted at /content/gdrive\n"
          ]
        }
      ],
      "source": [
        "from google.colab import drive\n",
        "drive.mount('/content/gdrive')"
      ]
    },
    {
      "cell_type": "code",
      "execution_count": null,
      "metadata": {
        "id": "gkTQWoDCQZjo"
      },
      "outputs": [],
      "source": [
        ""
      ]
    }
  ],
  "metadata": {
    "accelerator": "GPU",
    "colab": {
      "collapsed_sections": [
        "AWeV5aHY6NG6"
      ],
      "name": "DAA Project.ipynb",
      "provenance": []
    },
    "kernelspec": {
      "display_name": "Python 3",
      "name": "python3"
    },
    "language_info": {
      "name": "python"
    }
  },
  "nbformat": 4,
  "nbformat_minor": 0
}