{
  "nbformat": 4,
  "nbformat_minor": 0,
  "metadata": {
    "colab": {
      "name": "DAA Project.ipynb",
      "provenance": [],
      "collapsed_sections": [],
      "authorship_tag": "ABX9TyMqJmgtH2UXKyRgzDQDGWRf"
    },
    "kernelspec": {
      "name": "python3",
      "display_name": "Python 3"
    },
    "language_info": {
      "name": "python"
    }
  },
  "cells": [
    {
      "cell_type": "code",
      "source": [
        "pip install fastDamerauLevenshtein"
      ],
      "metadata": {
        "id": "RflvDPQRakRU"
      },
      "execution_count": null,
      "outputs": []
    },
    {
      "cell_type": "code",
      "execution_count": null,
      "metadata": {
        "id": "Ucmizu2U8j9t"
      },
      "outputs": [],
      "source": [
        "import numpy as np\n",
        "import math\n",
        "import time\n",
        "import sys\n",
        "from fastDamerauLevenshtein import damerauLevenshtein"
      ]
    },
    {
      "cell_type": "code",
      "source": [
        "distance=np.zeros((26,26))"
      ],
      "metadata": {
        "colab": {
          "base_uri": "https://localhost:8080/"
        },
        "id": "kktVxJmlaFiD",
        "outputId": "b729ecfd-6c4e-4608-c227-bcd072ce680b"
      },
      "execution_count": null,
      "outputs": [
        {
          "output_type": "execute_result",
          "data": {
            "text/plain": [
              "(26, 26)"
            ]
          },
          "metadata": {},
          "execution_count": 6
        }
      ]
    },
    {
      "cell_type": "markdown",
      "source": [
        "l1=input length, l2=pattern length"
      ],
      "metadata": {
        "id": "faeyVjuBcJE4"
      }
    },
    {
      "cell_type": "markdown",
      "source": [
        "d is the array used in main.cpp\n",
        " edit_distance(input, pattern, length_input, length_pattern, dist_array, &elapsed_time);"
      ],
      "metadata": {
        "id": "qF7GU1TkdAwS"
      }
    },
    {
      "cell_type": "markdown",
      "source": [
        "#Lavenshtein distance"
      ],
      "metadata": {
        "id": "AWeV5aHY6NG6"
      }
    },
    {
      "cell_type": "markdown",
      "source": [
        "#edit distance"
      ],
      "metadata": {
        "id": "hVD-Isw6ezep"
      }
    },
    {
      "cell_type": "code",
      "source": [
        "def edit_distance(ip, pat, li, lp, d):\n",
        "  start=time.process_time()\n",
        "  for i in range(li):\n",
        "    d[i][0]=i\n",
        "  for i in range(lp):\n",
        "    d[0][i]=i\n",
        "\n",
        "  for i in range(1,li+1):\n",
        "    for j in range(1,lp+1):\n",
        "      min = d[i-1][j-1] + 0 if(ip[i-1] == pat[j-1]) else 1\n",
        "      if(min > d[i-1][j]+1):\n",
        "        min = d[i-1][j]+1\n",
        "      if(min > d[i][j-1]+1):\n",
        "        min = d[i][j-1]+1\n",
        "      d[i][j] = min\n",
        "  end=time.process_time()\n",
        "  run_time=end-start\n",
        "  print(\"run time={}\".format(run_time))\n",
        "  print(d[li][lp])"
      ],
      "metadata": {
        "id": "IZ9bz3ExafgE"
      },
      "execution_count": null,
      "outputs": []
    },
    {
      "cell_type": "markdown",
      "source": [
        "#edit distance diag"
      ],
      "metadata": {
        "id": "Gi6bCbQpe2Ko"
      }
    },
    {
      "cell_type": "code",
      "source": [
        "def edit_distance_diag(ip, pat, li, lp, d):\n",
        "  start=time.process_time()\n",
        "  for i in range(li):\n",
        "    d[i][0]=i\n",
        "  for i in range(lp):\n",
        "    d[0][i]=i\n",
        "  for i in range(1,lp+1):\n",
        "    max=np.NaN\n",
        "    if (i <= li):\n",
        "      max = i + 1;\n",
        "    else:\n",
        "      max = li + 1;\n",
        "    for j in range(1,max):\n",
        "      min = d[j-1][i-i] + 0 if(ip[j-1] == pat[i-j]) else 1\n",
        "      if(min > d[j-1][i-j+1]+1):\n",
        "        min = d[j-1][i-j+1]+1;\n",
        "      if(min > d[j][i-j]+1):\n",
        "        min = d[j][i-j]+1;\n",
        "      d[j][i-j+1] = min;\n",
        "  #upper right\n",
        "  for i in range(1,li):\n",
        "    diag_max=np.NaN\n",
        "    if ((li > lp) and(i <= li - lp)): \n",
        "      diag_max = lp; \n",
        "    else:\n",
        "      diag_max = li - i\n",
        "    for j in range(1,diag_max+1):\n",
        "      min = d[j+i-1][lp-j] + 0 if(ip[j+i-1] == pat[lp-j]) else 1\n",
        "      if(min > d[i+j-1][lp-j+1]+1):\n",
        "        min = d[i+j-1][lp-j+1]+1\n",
        "      if(min > d[i+j][lp-j]+1):\n",
        "        min = d[i+j][lp-j]+1;\n",
        "      d[i+j][lp-j+1] = min;\n",
        "  end=time.process_time()\n",
        "  run_time=end-start\n",
        "  print(\"run time={}\".format(run_time))\n",
        "  print(d[li][lp])"
      ],
      "metadata": {
        "id": "b7fLyFFbeyHx"
      },
      "execution_count": null,
      "outputs": []
    },
    {
      "cell_type": "markdown",
      "source": [
        "#edit distance diag pruning"
      ],
      "metadata": {
        "id": "BaZhVB6ZhSzf"
      }
    },
    {
      "cell_type": "code",
      "source": [
        "def edit_distance_diag_prun(ip, pat, li, lp,k, d):\n",
        "  pruning_bits=np.zeros(30,dtype='int')\n",
        "  p_traversal=0\n",
        "  start=time.process_time()\n",
        "  for i in range(0,li+1):\n",
        "    d[i][0] = i\n",
        "  for i in range(0,lp+1):\n",
        "    d[0][i]=i\n",
        "    pruning_bits[i]=0\n",
        "\n",
        "  pruning_bits[0] = 1\n",
        "  #upper left\n",
        "\n",
        "  for i in range(1,lp+1):\n",
        "    max=np.NaN\n",
        "    if (i <= li):\n",
        "      max = i + 1\n",
        "    else:\n",
        "      max = li + 1\n",
        "    for j in range(1,max):\n",
        "      if (pruning_bits[i-j+1] == 1):\n",
        "        break \n",
        "      #deletion for being equal to pattern\n",
        "      min = d[j-1][i-j+1]+ 1\n",
        "      if (pruning_bits[i-j] == 0):        \n",
        "        sub = d[j-1][i-j] + 0 if ip[j-1]==pat[i-j] else 1\n",
        "        if(min > sub):\n",
        "          min = sub\n",
        "        #insertion for being equal to pattern\n",
        "        if(min > d[j][i-j] + 1):\n",
        "          min = d[j][i-j] + 1\n",
        "        d[j][i-j+1] = min\n",
        "      else:\n",
        "        #for the leftmost column\n",
        "        if (i-j+1== 1):\n",
        "          #substitution: i-th input and j-th pattern character, string array starts from index 0 \n",
        "          sub = d[j-1][0] + 0 if ip[j-1]==pat[0] else 1\n",
        "          if(min > sub):\n",
        "            min = sub\n",
        "          #insertion for being equal to pattern\n",
        "          if(min > d[j][0] + 1):\n",
        "            min = d[j][0] + 1\n",
        "          if ((min > k) and (d[j][0] > k)):\n",
        "            p_traversal = i;\n",
        "            pruning_bits[i-j+1] = 1;\n",
        "          else:\n",
        "            d[j][i-j+1] = min;\n",
        "            break\n",
        "        else:\n",
        "          if p_traversal==i-1:\n",
        "            sub = d[j-1][i-j] + 0 if ip[j-1]==pat[i-j] else 1\n",
        "            if(min > sub):\n",
        "              min = sub\n",
        "          if (min > k):\n",
        "            p_traversal = i\n",
        "            pruning_bits[i-j+1]=1\n",
        "          else:\n",
        "            d[j][i-j+1] = min\n",
        "        break\n",
        "  #from upper right\n",
        "  for i in range(1,li):\n",
        "    diag_max=np.NaN\n",
        "    if ((li > lp) and (i <= li - lp)): \n",
        "      diag_max = lp \n",
        "    else:\n",
        "      diag_max = li - i\n",
        "    for j in range(1,diag_max+1):\n",
        "      if (pruning_bits[lp-j+1] == 1):\n",
        "        break\n",
        "      #deletion for being equal to pattern\n",
        "      min = d[j+i-1][lp-j+1] + 1\n",
        "      if (pruning_bits[lp-j] == 0):\n",
        "        #substitution \n",
        "        sub = d[i+j-1][lp-j] + 0 if ip[i+j-1]==pat[lp-j] else 1\n",
        "        if(min > sub):\n",
        "          min = sub\n",
        "        #insertion for being equal to pattern\n",
        "        if(min > d[i+j][lp-j] + 1):\n",
        "          min = d[i+j][lp-j] + 1\n",
        "        d[i+j][lp-j+1] = min\n",
        "      else:\n",
        "        if (p_traversal == i-1 + lp):   \n",
        "          #substitution \n",
        "          sub = d[i+j-1][lp-j] + 0 if ip[i+j-1]==pat[lp-j] else 1\n",
        "          if(min > sub):\n",
        "            min = sub\n",
        "        if (min > k):\n",
        "          p_traversal = i+lp;\n",
        "          pruning_bits[lp-j+1] = 1\n",
        "        else:\n",
        "          d[i+j][lp-j+1] = min\n",
        "        break\n",
        "  end=time.process_time()\n",
        "  run_time=end-start\n",
        "  print(\"run time={}\".format(run_time))\n",
        "  print(d[li][lp])\n",
        "\n",
        "       \n",
        "          "
      ],
      "metadata": {
        "id": "ISkBSuntha5e"
      },
      "execution_count": null,
      "outputs": []
    },
    {
      "cell_type": "markdown",
      "source": [
        "#main function"
      ],
      "metadata": {
        "id": "NcuBBS6G6qME"
      }
    },
    {
      "cell_type": "markdown",
      "source": [
        "###edit distance with sequential dynamic programming"
      ],
      "metadata": {
        "id": "oI7pSjER68yr"
      }
    },
    {
      "cell_type": "markdown",
      "source": [
        "#Similarity metric\n",
        "\n",
        "\n"
      ],
      "metadata": {
        "id": "j1kBSlvyMRN-"
      }
    },
    {
      "cell_type": "code",
      "source": [
        "const_sub=1.87\n",
        "simil_array=np.array([[0.00,2.13,2.50,2.57,3.40,1.06,3.30,1.57,1.16,1.13,1.13,1.10,1.40,1.63,3.13,2.03,2.60,1.43,2.13,1.07,2.40,1.23,1.13,1.10,1.07,1.37],[2.13,0.00,3.03,5.60,2.27,1.83,3.53,3.70,1.43,1.43,2.13,2.77,1.23,1.77,4.20,5.07,4.67,1.27,1.40,1.63,1.93,1.40,1.10,1.07,1.20,1.13],\n",
        "                      [2.50,3.03,0.00,3.57,4.43,1.24,2.47,1.30,1.10,1.13,1.30,1.17,1.20,2.00,5.23,2.60,2.77,1.40,2.43,1.40,2.17,1.53,1.23,1.23,1.29,1.47],[2.57,5.60,3.57,0.00,2.87,1.43,4.10,2.73,1.73,1.27,1.33,2.30,1.13,1.93,4.90,5.10,5.10,1.33,1.27,1.37,1.83,1.55,1.07,1.23,1.13,1.23],\n",
        "                      [3.40,2.27,4.43,2.87,0.00,1.33,2.37,1.23,1.20,1.17,1.20,1.07,1.13,1.73,4.13,2.40,2.43,1.27,2.20,1.20,1.57,1.23,1.30,1.30,1.37,1.33],[1.06,1.83,1.24,1.43,1.33,0.00,1.40,1.80,4.16,3.67,1.57,4.03,1.33,1.20,1.17,1.63,1.47,3.80,1.27,4.80,1.27,1.23,1.13,1.28,1.40,1.30],\n",
        "                      [3.30,3.53,2.47,4.10,2.37,1.40,0.00,1.57,1.53,2.33,1.17,1.30,1.27,1.70,3.47,4.50,5.30,1.27,1.80,1.13,1.73,1.20,1.17,1.20,2.67,1.23],[1.57,3.70,1.30,2.73,1.23,1.80,1.57,0.00,1.93,1.60,2.77,2.53,2.53,5.53,1.47,2.47,2.17,2.37,1.23,1.97,3.33,1.40,1.30,1.23,1.50,1.20],\n",
        "                      [1.16,1.43,1.10,1.73,1.20,4.16,1.53,1.93,0.00,5.17,1.90,6.13,1.63,1.50,1.33,1.60,1.55,2.70,1.07,3.90,1.67,1.67,1.30,1.40,1.50,1.13],[1.13,1.43,1.13,1.27,1.17,3.67,2.33,1.60,5.17,0.00,1.47,4.67,1.13,1.30,1.00,1.57,1.63,2.30,1.17,3.80,1.30,1.37,1.10,1.26,2.87,1.23],\n",
        "                      [1.13,2.13,1.30,1.33,1.20,1.57,1.17,2.77,1.90,1.47,0.00,2.80,1.20,1.53,1.03,1.53,1.47,2.00,1.40,2.13,1.26,1.97,2.07,3.55,2.03,1.50],[1.10,2.77,1.17,2.30,1.07,4.03,1.30,2.53,6.13,4.67,2.80,0.00,1.07,1.37,1.23,1.80,1.83,3.26,1.10,4.50,1.29,1.37,1.33,1.27,1.81,1.10],\n",
        "                      [1.40,1.23,1.20,1.13,1.13,1.33,1.27,2.53,1.63,1.13,1.20,1.07,0.00,4.67,1.30,1.33,1.17,2.23,1.20,1.07,2.27,1.33,3.40,1.10,1.20,1.10],[1.63,1.77,2.00,1.93,1.73,1.20,1.70,5.53,1.50,1.30,1.53,1.37,4.67,0.00,2.40,1.83,1.90,3.13,1.52,1.10,4.53,1.97,1.61,1.03,1.43,1.57],\n",
        "                      [3.13,4.20,5.23,4.90,4.13,1.17,3.47,1.47,1.33,1.00,1.03,1.23,1.30,2.40,0.00,3.60,4.10,1.13,2.27,1.13,2.83,1.27,1.13,1.07,1.17,1.27],[2.03,5.07,2.60,5.10,2.40,1.63,4.50,2.47,1.60,1.57,1.53,1.80,1.33,1.83,3.60,0.00,5.57,1.77,1.26,1.33,1.80,1.13,1.17,1.10,1.97,1.17],\n",
        "                      [2.60,4.67,2.77,5.10,2.43,1.47,5.30,2.17,1.55,1.63,1.47,1.83,1.17,1.90,4.10,5.57,0.00,1.47,1.23,1.80,2.30,1.20,1.03,1.10,2.03,1.17],[1.43,1.27,1.40,1.33,1.27,3.80,1.27,2.37,2.70,2.30,2.00,3.26,2.23,3.13,1.13,1.77,1.47,0.00,1.60,3.37,1.97,1.67,1.03,1.43,1.27,1.30],\n",
        "                      [2.13,1.40,2.43,1.27,2.20,1.27,1.80,1.23,1.07,1.17,1.40,1.10,1.20,1.52,2.27,1.26,1.23,1.60,0.00,1.20,1.33,1.13,1.10,1.63,1.33,2.17],[1.07,1.63,1.40,1.37,1.20,4.80,1.13,1.97,3.90,3.80,2.13,4.50,1.07,1.10,1.13,1.33,1.80,3.37,1.20,0.00,1.60,1.40,1.00,1.47,1.50,1.27],\n",
        "                      [2.40,1.93,2.17,1.83,1.57,1.27,1.73,3.33,1.67,1.30,1.26,1.29,2.27,4.53,2.83,1.80,2.30,1.97,1.33,1.60,0.00,4.93,2.73,1.40,3.13,1.57],[1.23,1.40,1.53,1.55,1.23,1.23,1.20,1.40,1.67,1.37,1.97,1.37,1.33,1.97,1.27,1.13,1.20,1.67,1.13,1.40,4.93,0.00,5.03,2.63,5.33,1.97],\n",
        "                      [1.13,1.10,1.23,1.07,1.30,1.13,1.17,1.30,1.30,1.10,2.07,1.33,3.40,1.61,1.13,1.17,1.03,1.03,1.10,1.00,2.73,5.03,0.00,2.23,2.43,1.67],[1.10,1.07,1.23,1.23,1.30,1.28,1.20,1.23,1.40,1.26,3.55,1.27,1.10,1.03,1.07,1.10,1.10,1.43,1.63,1.47,1.40,2.63,2.23,0.00,3.10,1.80],\n",
        "                      [1.07,1.20,1.29,1.13,1.37,1.40,2.67,1.50,1.50,2.87,2.03,1.81,1.20,1.43,1.17,1.97,2.03,1.27,1.33,1.50,3.13,5.33,2.43,3.10,0.00,1.93],[1.37,1.13,1.47,1.23,1.33,1.30,1.23,1.20,1.13,1.23,1.50,1.10,1.10,1.57,1.27,1.17,1.17,1.30,2.17,1.27,1.57,1.97,1.67,1.80,1.93,0.00]])\n",
        "avg_length=5.1"
      ],
      "metadata": {
        "id": "nXTUIK6KNJSZ"
      },
      "execution_count": null,
      "outputs": []
    },
    {
      "cell_type": "code",
      "source": [
        "def edit_distance_sim(ip,pat,li,lp,d,cost):\n",
        "  \n",
        "  start=time.process_time()\n",
        "  for i in range(0,li+1):\n",
        "    d[i][0] = cost * i\n",
        "\n",
        "  for i in range(0,lp+1):\n",
        "    d[0][i] = cost * i\n",
        "  \n",
        "  for i in range(1,li+1):\n",
        "    for j in range(1,lp+1):\n",
        "      #substition\n",
        "      min = d[i-1][j-1]+ 0 if ip[i-1]==pat[j-1] else 1/simil_array[ord(ip[i-1])-97][ord(pat[j-1])-97]*const_sub\n",
        "\n",
        "      #deletion\n",
        "      if(min > d[i-1][j] + cost):\n",
        "        min = d[i-1][j] + cost\n",
        "          \n",
        "      #insertion\n",
        "      if(min > d[i][j-1] + cost):\n",
        "        min = d[i][j-1] + cost\n",
        "\n",
        "      d[i][j] = min\n",
        "\n",
        " \n",
        "  end=time.process_time()\n",
        "  run_time=end-start\n",
        "  print(\"run time={}\".format(run_time))\n",
        "  print(d[li][lp])   "
      ],
      "metadata": {
        "id": "88ZfluLIO2mb"
      },
      "execution_count": null,
      "outputs": []
    },
    {
      "cell_type": "code",
      "source": [
        "def edit_distance_diag_sim(ip,pat,li,lp,d,cost):\n",
        "  start=time.process_time()\n",
        "  for i in range(0,li+1):\n",
        "    d[i][0] = cost * i\n",
        "\n",
        "  for i in range(0,lp+1):\n",
        "    d[0][i] = cost * i\n",
        "\n",
        "  #from upper left\n",
        "  for i in range(1,lp+1):\n",
        "\n",
        "    max=np.NaN\n",
        "    if (i <= li):\n",
        "      max = i + 1\n",
        "    else:\n",
        "      max = li + 1;\n",
        "\n",
        "    for j in range(1,max):\n",
        "    \n",
        "      #substition\n",
        "      min = d[j-1][i-j]+ 0 if (ip[j-1] == pat[i-j]) else 1/simil_array[ord(ip[j-1])-97][ord(pat[i-j])-97]*const_sub\n",
        "\n",
        "      #deletion\n",
        "      if(min > d[j-1][i-j+1] + cost): \n",
        "        min = d[j-1][i-j+1] + cost\n",
        "          \n",
        "      #insertion\n",
        "      if(min > d[j][i-j] + cost):\n",
        "        min = d[j][i-j] + cost\n",
        "\n",
        "      d[j][i-j+1] = min\n",
        "  \n",
        "  #from upper right\n",
        "  for i in range(1,li):\n",
        "    diag_max=np.NaN\n",
        "    if ((li > lp) and (i <= li - lp)): \n",
        "        diag_max = lp; \n",
        "    else:\n",
        "      diag_max = li - i\n",
        "      \n",
        "    for j in range(1,diag_max+1):\n",
        "      \n",
        "      #substitution\n",
        "      min = d[i+j-1][lp-j]+ 0 if ip[i+j-1] == pat[lp-j] else 1/simil_array[ord(ip[i+j-1])-97][ord(pat[lp-j])-97]*const_sub\n",
        "\n",
        "      #deletion\n",
        "      if(min > d[i+j-1][lp-j+1] + cost):\n",
        "        min = d[i+j-1][lp-j+1] + cost\n",
        "\n",
        "      #insertion\n",
        "      if(min > d[i+j][lp-j] + cost):\n",
        "        min = d[i+j][lp-j] + cost\n",
        "      d[i+j][lp-j+1] = min\n",
        "  end=time.process_time()\n",
        "  run_time=end-start\n",
        "  print(\"run time={}\".format(run_time))\n",
        "  print(d[li][lp])"
      ],
      "metadata": {
        "id": "PmOkVTWSYYJY"
      },
      "execution_count": null,
      "outputs": []
    },
    {
      "cell_type": "code",
      "source": [
        "def edit_distance_diag_prun_sim(ip,pat,li,lp,d,k,cost):\n",
        "  pruning_bits=np.zeros(30,dtype='int')\n",
        "  p_traversal=0\n",
        "  start=time.process_time()\n",
        "  for i in range(0,li+1):\n",
        "    d[i][0] = cost * i\n",
        "  for i in range(0,lp+1):\n",
        "  \n",
        "    d[0][i] = cost * i\n",
        "    pruning_bits[i] = 0\n",
        "  \n",
        "  pruning_bits[0] = 1\n",
        "  #from upper left\n",
        "  for i in range(1,lp+1):\n",
        "  \n",
        "    max=np.NaN\n",
        "    if (i <= li):\n",
        "      max = i + 1;\n",
        "    else:\n",
        "      max = li + 1\n",
        "\n",
        "    for j in range(1,max):\n",
        "    \n",
        "      if (pruning_bits[i-j+1] != 0):\n",
        "        break \n",
        "\n",
        "      #deletion for being equal to pattern\n",
        "      min = d[j-1][i-j+1]+ cost\n",
        "\n",
        "      if (pruning_bits[i-j] == 0):\n",
        "      \n",
        "        #substitution: i-th input and j-th pattern character, string array starts from index 0 \n",
        "        sub = d[j-1][i-j]+ 0 if (ip[j-1] == pat[i-j]) else 1/simil_array[ord(ip[j-1])-97][ord(pat[i-j])-97]*const_sub\n",
        "\n",
        "        if(min > sub):\n",
        "          min = sub\n",
        "\n",
        "        #insertion for being equal to pattern\n",
        "        if(min > d[j][i-j] + cost):\n",
        "          min = d[j][i-j] + cost\n",
        "\n",
        "        d[j][i-j+1] = min\n",
        "      \n",
        "      else:\n",
        "      \n",
        "        #for the leftmost column\n",
        "        if (i-j+1== 1):\n",
        "        \n",
        "          #substitution: i-th input and j-th pattern character, string array starts from index 0 \n",
        "          sub = d[j-1][0]+ 0 if ip[j-1] == pat[0] else 1/simil_array[ord(ip[j-1])-97][ord(pat[0])-97]*const_sub\n",
        "\n",
        "          if(min > sub):\n",
        "            min = sub\n",
        "\n",
        "          #insertion for being equal to pattern\n",
        "          if(min > d[j][0] + cost):\n",
        "            min = d[j][0] + cost\n",
        "\n",
        "          if ((min > k)and (d[j][0] > k)):\n",
        "          \n",
        "            p_traversal = i;\n",
        "            pruning_bits[i-j+1]=1\n",
        "          \n",
        "          else:\n",
        "            d[j][i-j+1] = min\n",
        "\n",
        "        \n",
        "        else:\n",
        "          if (p_traversal == i-1):\n",
        "            #substitution: i-th input and j-th pattern character, string array starts from index 0 \n",
        "            sub = d[j-1][i-j]+ 0 if ip[j-1] == pat[i-j] else 1/simil_array[ord(ip[j-1])-97][ord(pat[i-j])-97]*const_sub\n",
        "            if(min > sub):\n",
        "              min = sub\n",
        "          #no need to calculate distance of insertion\n",
        "          if (min > k) :\n",
        "            p_traversal = i\n",
        "            pruning_bits[i-j+1]=1\n",
        "          else:\n",
        "            d[j][i-j+1] = min\n",
        "        break\n",
        "\n",
        "  #from upper right\n",
        "  for i in range(1,li):\n",
        "    diag_max=np.NaN;\n",
        "    if ((li > lp) and (i <= li - lp)): \n",
        "      diag_max = lp \n",
        "    else:\n",
        "      diag_max = li - i\n",
        "    for j in range(1,diag_max+1):\n",
        "      if (pruning_bits[lp-j+1] == 1):\n",
        "        break\n",
        "      #deletion for being equal to pattern\n",
        "      min = d[j+i-1][lp-j+1] + cost\n",
        "      if (pruning_bits[lp-j] == 0):\n",
        "        #substitution \n",
        "        sub = d[i+j-1][lp-j] + 0 if ip[i+j-1]==pat[lp-j] else 1/simil_array[ord(ip[i+j-1])-97][ord(pat[lp-j])-97]*const_sub\n",
        "        if(min > sub):\n",
        "          min = sub\n",
        "        #insertion for being equal to pattern\n",
        "        if(min > d[i+j][lp-j] + cost):\n",
        "          min = d[i+j][lp-j] + cost\n",
        "        d[i+j][lp-j+1] = min\n",
        "      else:\n",
        "        if (p_traversal == i-1 + lp):   \n",
        "          #substitution \n",
        "          sub = d[i+j-1][lp-j] + 0 if ip[i+j-1]==pat[lp-j] else 1/simil_array[ord(ip[i+j-1])-97][ord(pat[lp-j])-97]*const_sub\n",
        "          if(min > sub):\n",
        "            min = sub\n",
        "        if (min > k):\n",
        "          p_traversal = i+lp;\n",
        "          pruning_bits[lp-j+1] = 1\n",
        "        else:\n",
        "          d[i+j][lp-j+1] = min\n",
        "        break\n",
        "\n",
        "  end=time.process_time()\n",
        "  run_time=end-start\n",
        "  print(\"run time={}\".format(run_time))\n",
        "  print(d[li][lp])\n",
        "  "
      ],
      "metadata": {
        "id": "8josueVFa61M"
      },
      "execution_count": null,
      "outputs": []
    },
    {
      "cell_type": "markdown",
      "source": [
        "#keyboard distance"
      ],
      "metadata": {
        "id": "dJ9Rw-u4jJQX"
      }
    },
    {
      "cell_type": "code",
      "source": [
        "const_keyboard=0.1084\n",
        "keyboard=[['`','1','2','3','4','5','6','7','8','9','0','-','=' ],\n",
        "    ['q','w','e','r','t','y','u','i','o','p','[',']','\\\\'],\n",
        "    ['a','s','d','f','g','h','j','k','l',';',124, 0,  0],\n",
        "    ['z','x','c','v','b','n','m',',','.','/', 0,  0,  0],\n",
        "    [0,    0,' ',' ',' ',' ',' ',  0,  0,  0, 0,  0,  0]]\n",
        "shifted_keyboard=[['~', '!', '@', '#', '$', '%', '^', '&', '*', '(', ')', '+',  0 ],\n",
        "    ['Q', 'W', 'E', 'R', 'T', 'Y', 'U', 'I', 'O', 'P', '{', '}', '|'],\n",
        "    ['A', 'S', 'D', 'F', 'G', 'H', 'J', 'K', 'L', ':', '\"',   0,  0],\n",
        "    ['Z', 'X', 'C', 'V', 'B', 'N', 'M', '<', '>', '?',   0,   0,  0],\n",
        "    [0,   0, ' ', ' ', ' ', ' ', ' ',   0,     0,   0,   0,   0,  0]]\n",
        "avg_length=5.1\n",
        "max_keyboard=0.108"
      ],
      "metadata": {
        "id": "vDuRUDsPjDQQ"
      },
      "execution_count": null,
      "outputs": []
    },
    {
      "cell_type": "code",
      "source": [
        "def return_coord(c):\n",
        "  for i in range(len(keyboard)):\n",
        "    if c in keyboard[i]:\n",
        "      return (i,keyboard[i].index(c))\n",
        "  return -1    "
      ],
      "metadata": {
        "id": "RuZ6AoI8j0q2"
      },
      "execution_count": null,
      "outputs": []
    },
    {
      "cell_type": "code",
      "source": [
        "def Euc_distance(c1,c2):\n",
        "  coor1=return_coord(c1)\n",
        "  coor2=return_coord(c2)\n",
        "  if type(coor1) is tuple and type(coor2) is tuple:\n",
        "    return math.sqrt((coor1[0]-coor2[0])**2 + (coor1[1]-coor2[1])**2)\n",
        "  return -1"
      ],
      "metadata": {
        "id": "j1EVvFaNln83"
      },
      "execution_count": null,
      "outputs": []
    },
    {
      "cell_type": "code",
      "source": [
        "def edit_distance_kb(ip,pat,li,lp,d,cost):\n",
        "  start=time.process_time()\n",
        "  for i in range(0,li+1):\n",
        "    d[i][0] = cost * i\n",
        "\n",
        "  for i in range(0,lp+1):\n",
        "    d[0][i] = cost * i\n",
        "  for i in range(1,li+1):\n",
        "    for j in range(1,lp+1):\n",
        "      #substition\n",
        "      ds=Euc_distance(ip[i-1],pat[j-1])*const_keyboard\n",
        "      if ds<0:\n",
        "        sys.exit(1)  #exit code 1 -- either of the character in the inputs is not found in the keyboard array\n",
        "      min = d[i-1][j-1]+ 0 if ip[i-1]==pat[j-1] else ds\n",
        "      #deletion\n",
        "      if(min > d[i-1][j] + cost): \n",
        "        min = d[i-1][j] + cost\n",
        "      #insertion\n",
        "      if(min > d[i][j-1] + cost):\n",
        "        min = d[i][j-1] + cost\n",
        "\n",
        "      d[i][j] = min\n",
        "  end=time.process_time()\n",
        "  run_time=end-start\n",
        "  print(\"run time={}\".format(run_time))\n",
        "  print(d[li][lp])\n"
      ],
      "metadata": {
        "id": "GM-HDMNImsqL"
      },
      "execution_count": null,
      "outputs": []
    },
    {
      "cell_type": "code",
      "source": [
        "def edit_distance_diag_kb(ip,pat,li,lp,d,cost):\n",
        "  start=time.process_time()\n",
        "  for i in range(0,li+1):\n",
        "    d[i][0] = cost * i\n",
        "\n",
        "  for i in range(0,lp+1):\n",
        "    d[0][i] = cost * i\n",
        "\n",
        "  #from upper left\n",
        "  for i in range(1,lp+1):\n",
        "    max=np.NaN\n",
        "    if (i <= li):\n",
        "      max = i + 1\n",
        "    else:\n",
        "      max = li + 1;\n",
        "\n",
        "    for j in range(1,max):\n",
        "      #substition\n",
        "      ds=Euc_distance(ip[j-1],pat[i-j])*const_keyboard\n",
        "      if ds<0:\n",
        "        sys.exit(1)  #exit code 1 -- either of the character in the inputs is not found in the keyboard array\n",
        "      min = d[j-1][i-j]+ 0 if ip[j-1]==pat[i-j] else ds\n",
        "      #deletion\n",
        "      if(min > d[j-1][i-j+1] + cost): \n",
        "        min = d[j-1][i-j+1] + cost\n",
        "          \n",
        "      #insertion\n",
        "      if(min > d[j][i-j] + cost):\n",
        "        min = d[j][i-j] + cost\n",
        "\n",
        "      d[j][i-j+1] = min\n",
        "  \n",
        "  #from upper right\n",
        "  for i in range(1,li):\n",
        "    diag_max=np.NaN\n",
        "    if ((li > lp) and (i <= li - lp)): \n",
        "        diag_max = lp; \n",
        "    else:\n",
        "      diag_max = li - i\n",
        "    for j in range(1,diag_max+1):\n",
        "      #substitution\n",
        "      ds=Euc_distance(ip[i+j-1],pat[lp-j])*const_keyboard\n",
        "      if ds<0:\n",
        "        sys.exit(1)  #exit code 1 -- either of the character in the inputs is not found in the keyboard array\n",
        "      min = d[i+j-1][lp-j]+ 0 if ip[i+j-1]==pat[lp-j] else ds\n",
        "      #deletion\n",
        "      if(min > d[i+j-1][lp-j+1] + cost):\n",
        "        min = d[i+j-1][lp-j+1] + cost\n",
        "      #insertion\n",
        "      if(min > d[i+j][lp-j] + cost):\n",
        "        min = d[i+j][lp-j] + cost\n",
        "      d[i+j][lp-j+1] = min\n",
        "  end=time.process_time()\n",
        "  run_time=end-start\n",
        "  print(\"run time={}\".format(run_time))\n",
        "  print(d[li][lp])"
      ],
      "metadata": {
        "id": "LGKatoeVpYNA"
      },
      "execution_count": null,
      "outputs": []
    },
    {
      "cell_type": "code",
      "source": [
        "def edit_distance_diag_prun_kb(ip,pat,li,lp,k,d,cost):\n",
        "  pruning_bits=np.zeros(30,dtype='int')\n",
        "  p_traversal=0\n",
        "  start=time.process_time()\n",
        "  for i in range(0,li+1):\n",
        "    d[i][0] = cost * i\n",
        "  for i in range(0,lp+1):\n",
        "    d[0][i] = cost * i\n",
        "    pruning_bits[i] = 0\n",
        "  pruning_bits[0] = 1\n",
        "  #from upper left\n",
        "  for i in range(1,lp+1):\n",
        "    max=np.NaN\n",
        "    if (i <= li):\n",
        "      max = i + 1;\n",
        "    else:\n",
        "      max = li + 1\n",
        "    for j in range(1,max):\n",
        "      if (pruning_bits[i-j+1] != 0):\n",
        "        break \n",
        "      #deletion for being equal to pattern\n",
        "      min = d[j-1][i-j+1]+ cost\n",
        "      if (pruning_bits[i-j] == 0):\n",
        "        #substitution: i-th input and j-th pattern character, string array starts from index 0 \n",
        "        ds=Euc_distance(ip[j-1],pat[i-j])*const_keyboard\n",
        "        if ds<0:\n",
        "          sys.exit(1)\n",
        "        sub = d[j-1][i-j]+ 0 if (ip[j-1] == pat[i-j]) else ds\n",
        "        if(min > sub):\n",
        "          min = sub\n",
        "        #insertion for being equal to pattern\n",
        "        if(min > d[j][i-j] + cost):\n",
        "          min = d[j][i-j] + cost\n",
        "        d[j][i-j+1] = min\n",
        "      else:\n",
        "        #for the leftmost column\n",
        "        if (i-j+1== 1):\n",
        "          #substitution: i-th input and j-th pattern character, string array starts from index 0 \n",
        "          ds=Euc_distance(ip[j-1],pat[0])*const_keyboard\n",
        "          if ds<0:\n",
        "            sys.exit(1)\n",
        "          sub = d[j-1][0]+ 0 if ip[j-1] == pat[0] else ds\n",
        "          if(min > sub):\n",
        "            min = sub\n",
        "          #insertion for being equal to pattern\n",
        "          if(min > d[j][0] + cost):\n",
        "            min = d[j][0] + cost\n",
        "          if ((min > k)and (d[j][0] > k)):\n",
        "            p_traversal = i;\n",
        "            pruning_bits[i-j+1]=1\n",
        "          else:\n",
        "            d[j][i-j+1] = min\n",
        "        else:\n",
        "          if (p_traversal == i-1):\n",
        "            #substitution: i-th input and j-th pattern character, string array starts from index 0 \n",
        "            ds=Euc_distance(ip[j-1],pat[i-j])*const_keyboard\n",
        "            if ds<0:\n",
        "              sys.exit(1)\n",
        "            sub = d[j-1][i-j]+ 0 if ip[j-1] == pat[i-j] else ds\n",
        "            if(min > sub):\n",
        "              min = sub\n",
        "          #no need to calculate distance of insertion\n",
        "          if (min > k) :\n",
        "            p_traversal = i\n",
        "            pruning_bits[i-j+1]=1\n",
        "          else:\n",
        "            d[j][i-j+1] = min\n",
        "        break\n",
        "\n",
        "  #from upper right\n",
        "  for i in range(1,li):\n",
        "  \n",
        "    diag_max=np.NaN;\n",
        "    if ((li > lp) and (i <= li - lp)): \n",
        "      diag_max = lp \n",
        "    else:\n",
        "      diag_max = li - i\n",
        "    for j in range(1,diag_max+1):\n",
        "      if (pruning_bits[lp-j+1] == 1):\n",
        "        break\n",
        "      #deletion for being equal to pattern\n",
        "      min = d[j+i-1][lp-j+1] + cost\n",
        "      if (pruning_bits[lp-j] == 0):\n",
        "        #substitution \n",
        "        ds=Euc_distance(ip[i+j-1],pat[lp-j])*const_keyboard\n",
        "        if ds<0:\n",
        "          sys.exit(1)\n",
        "        sub = d[i+j-1][lp-j] + 0 if ip[i+j-1]==pat[lp-j] else ds\n",
        "        if(min > sub):\n",
        "          min = sub\n",
        "        #insertion for being equal to pattern\n",
        "        if(min > d[i+j][lp-j] + cost):\n",
        "          min = d[i+j][lp-j] + cost\n",
        "        d[i+j][lp-j+1] = min\n",
        "      else:\n",
        "        if (p_traversal == i-1 + lp):   \n",
        "          #substitution \n",
        "          ds=Euc_distance(ip[i+j-1],pat[lp-j])*const_keyboard\n",
        "          if ds<0:\n",
        "            sys.exit(1)\n",
        "          sub = d[i+j-1][lp-j] + 0 if ip[i+j-1]==pat[lp-j] else ds\n",
        "          if(min > sub):\n",
        "            min = sub\n",
        "        if (min > k):\n",
        "          p_traversal = i+lp;\n",
        "          pruning_bits[lp-j+1] = 1\n",
        "        else:\n",
        "          d[i+j][lp-j+1] = min\n",
        "        break\n",
        "\n",
        "  end=time.process_time()\n",
        "  run_time=end-start\n",
        "  print(\"run time={}\".format(run_time))\n",
        "  print(d[li][lp])"
      ],
      "metadata": {
        "id": "uN9HLd8rrLs_"
      },
      "execution_count": null,
      "outputs": []
    },
    {
      "cell_type": "code",
      "source": [
        "ip=input()\n",
        "pat=input()\n",
        "li=len(ip)\n",
        "lp=len(pat)\n",
        "d=np.zeros((li+1,lp+1))\n",
        "k=int(input())\n",
        "print(d.shape)\n",
        "cost = math.exp(avg_length/lp) / math.exp(1)\n",
        "edit_distance(ip, pat, li, lp, d)\n",
        "edit_distance_diag(ip, pat, li, lp, d)\n",
        "edit_distance_diag_prun(ip,pat,li,lp,k,d)\n",
        "edit_distance_sim(ip,pat,li,lp,d,cost)\n",
        "edit_distance_diag_sim(ip,pat,li,lp,d,cost)\n",
        "edit_distance_diag_prun_sim(ip,pat,li,lp,d,k,cost)\n",
        "edit_distance_kb(ip,pat,li,lp,d,cost)\n",
        "edit_distance_diag_kb(ip,pat,li,lp,d,cost)\n",
        "edit_distance_diag_prun_kb(ip,pat,li,lp,d,k,cost)"
      ],
      "metadata": {
        "id": "eSGsqO8s6rks"
      },
      "execution_count": null,
      "outputs": []
    },
    {
      "cell_type": "code",
      "source": [
        "damerauLevenshtein('c', 'a', similarity=True)  # expected result: 2.0\n",
        "#damerauLevenshtein('car', 'cars', similarity=True)  # expected result: 0.75\n",
        "#damerauLevenshtein(['ab', 'bc'], ['ab'], similarity=False)  # expected result: 1.0\n",
        "#damerauLevenshtein(['ab', 'bc'], ['ab'], similarity=True)  # expected result: 0.5"
      ],
      "metadata": {
        "colab": {
          "base_uri": "https://localhost:8080/"
        },
        "id": "sdX3dDw0xc-Z",
        "outputId": "98802d65-24be-4560-fbab-f0637ffac83e"
      },
      "execution_count": null,
      "outputs": [
        {
          "output_type": "execute_result",
          "data": {
            "text/plain": [
              "0.0"
            ]
          },
          "metadata": {},
          "execution_count": 14
        }
      ]
    },
    {
      "cell_type": "code",
      "source": [
        "start=time.process_time()\n",
        "d=damerauLevenshtein('ccatse', 'catch', similarity=True)\n",
        "end=time.process_time()\n",
        "print(d)\n",
        "print(\"run time={}\".format(end-start))"
      ],
      "metadata": {
        "colab": {
          "base_uri": "https://localhost:8080/"
        },
        "id": "h-rGropezpEO",
        "outputId": "bf67d9b4-5f0d-40e2-9f07-9c8fc228c6ba"
      },
      "execution_count": null,
      "outputs": [
        {
          "output_type": "stream",
          "name": "stdout",
          "text": [
            "0.5\n",
            "run time=8.194499999980565e-05\n"
          ]
        }
      ]
    },
    {
      "cell_type": "code",
      "source": [
        "def edit_distance_jaro(ip, pat,li,lp):\n",
        "\t# If the strings are equal\n",
        "\tif (ip == pat):\n",
        "\t\treturn 1.0\n",
        "\t# Maximum distance upto which matching is allowed\n",
        "\tmax_dist = math.floor(max(li, lp) / 2) - 1\n",
        "\tm = 0\n",
        "# Hash for matches\n",
        "\thash_ip = [0] * li\n",
        "\thash_pat = [0] * lp\n",
        "\tfor i in range(li):\n",
        "    # Check if there is any matches\n",
        "\t\tfor j in range(max(0, i - max_dist),min(lp, i + max_dist + 1)):\n",
        "\t\t  # If there is a match\n",
        "\t\t\tif (ip[i] == pat[j] and hash_pat[j] == 0):\n",
        "\t\t\t\thash_ip[i] = 1\n",
        "\t\t\t\thash_pat[j] = 1\n",
        "\t\t\t\tm += 1\n",
        "\t\t\t\tbreak\n",
        "  # If there is no match\n",
        "\tif (m == 0):\n",
        "\t\treturn 0.0\n",
        "# Number of transpositions\n",
        "\tt = 0\n",
        "\tpoint = 0\n",
        "\n",
        "\tfor i in range(li):\n",
        "\t\tif (hash_ip[i]):\n",
        "\t\t\twhile (hash_pat[point] == 0):\n",
        "\t\t\t\tpoint += 1\n",
        "\n",
        "\t\t\tif (ip[i] != pat[point]):\n",
        "\t\t\t\tt += 1\n",
        "\t\t\tpoint += 1\n",
        "\tt = t//2\n",
        "\n",
        "\treturn(m/li+m/lp+(m-t)/m)/3.0\n",
        " "
      ],
      "metadata": {
        "id": "nmOQ2VWY2cCm"
      },
      "execution_count": null,
      "outputs": []
    },
    {
      "cell_type": "code",
      "source": [
        "def edit_distance_jaroWinkler(ip,pat,li,lp):\n",
        "  start=time.process_time()\n",
        "  dist_jaro = 1-edit_distance_jaro(ip, pat)\n",
        "  if(dist_jaro>0.7):\n",
        "    prefix=0\n",
        "    for i in range(min(li,lp)) :\n",
        "      if(ip[i]==pat[i]):\n",
        "        prefix += 1;\n",
        "      else :\n",
        "        break\n",
        "    prefix = min(4, prefix) #allowing max of 4 characters in the prefix\n",
        "    dist_jaro += 0.1 * prefix * (1 - dist_jaro);\n",
        "  end=time.process_time()\n",
        "  print(\"Jaro Winkler distance={}\".format(dist_jaro))\n",
        "  print(\"run time={}\".format(end-start))"
      ],
      "metadata": {
        "id": "xQyZ4D-Y5h9H"
      },
      "execution_count": null,
      "outputs": []
    },
    {
      "cell_type": "code",
      "source": [
        ""
      ],
      "metadata": {
        "id": "BuE0ym46Bq7I"
      },
      "execution_count": null,
      "outputs": []
    }
  ]
}