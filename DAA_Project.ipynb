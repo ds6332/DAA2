{
  "nbformat": 4,
  "nbformat_minor": 0,
  "metadata": {
    "colab": {
      "name": "DAA Project.ipynb",
      "provenance": [],
      "collapsed_sections": [],
      "authorship_tag": "ABX9TyPnrzObkZ1bZ15d9c3u8uNS"
    },
    "kernelspec": {
      "name": "python3",
      "display_name": "Python 3"
    },
    "language_info": {
      "name": "python"
    }
  },
  "cells": [
    {
      "cell_type": "code",
      "source": [
        "pip install fastDamerauLevenshtein"
      ],
      "metadata": {
        "id": "RflvDPQRakRU",
        "colab": {
          "base_uri": "https://localhost:8080/"
        },
        "outputId": "f64adadb-7bc5-4d41-f735-058c99f9936e"
      },
      "execution_count": 9,
      "outputs": [
        {
          "output_type": "stream",
          "name": "stdout",
          "text": [
            "Looking in indexes: https://pypi.org/simple, https://us-python.pkg.dev/colab-wheels/public/simple/\n",
            "Collecting fastDamerauLevenshtein\n",
            "  Downloading fastDamerauLevenshtein-1.0.7.tar.gz (36 kB)\n",
            "Building wheels for collected packages: fastDamerauLevenshtein\n",
            "  Building wheel for fastDamerauLevenshtein (setup.py) ... \u001b[?25l\u001b[?25hdone\n",
            "  Created wheel for fastDamerauLevenshtein: filename=fastDamerauLevenshtein-1.0.7-cp37-cp37m-linux_x86_64.whl size=59371 sha256=0b2443e8472d23db4f2d808c97d1c39e7b24d1c3303723f0b778fd34a59b463d\n",
            "  Stored in directory: /root/.cache/pip/wheels/3d/f6/ac/23a63dea60e40b449efa973a54f5b1ba766a984be2d7b95964\n",
            "Successfully built fastDamerauLevenshtein\n",
            "Installing collected packages: fastDamerauLevenshtein\n",
            "Successfully installed fastDamerauLevenshtein-1.0.7\n"
          ]
        }
      ]
    },
    {
      "cell_type": "code",
      "execution_count": 27,
      "metadata": {
        "id": "Ucmizu2U8j9t"
      },
      "outputs": [],
      "source": [
        "import numpy as np\n",
        "import math\n",
        "import time\n",
        "import sys\n",
        "from fastDamerauLevenshtein import damerauLevenshtein\n",
        "import random"
      ]
    },
    {
      "cell_type": "code",
      "source": [
        "distance=np.zeros((26,26))"
      ],
      "metadata": {
        "colab": {
          "base_uri": "https://localhost:8080/"
        },
        "id": "kktVxJmlaFiD",
        "outputId": "b729ecfd-6c4e-4608-c227-bcd072ce680b"
      },
      "execution_count": null,
      "outputs": [
        {
          "output_type": "execute_result",
          "data": {
            "text/plain": [
              "(26, 26)"
            ]
          },
          "metadata": {},
          "execution_count": 6
        }
      ]
    },
    {
      "cell_type": "code",
      "source": [
        "\n",
        "alphabet = ['a','b','c','d','e','f','g','h','i','j','k','l','m','n','o','p','q','r','s','t','u','v','w','x','y','z']"
      ],
      "metadata": {
        "id": "zW1NKfulwQRA"
      },
      "execution_count": 30,
      "outputs": []
    },
    {
      "cell_type": "markdown",
      "source": [
        "l1=input length, l2=pattern length"
      ],
      "metadata": {
        "id": "faeyVjuBcJE4"
      }
    },
    {
      "cell_type": "markdown",
      "source": [
        "d is the array used in main.cpp\n",
        " edit_distance(input, pattern, length_input, length_pattern, dist_array, &elapsed_time);"
      ],
      "metadata": {
        "id": "qF7GU1TkdAwS"
      }
    },
    {
      "cell_type": "code",
      "source": [
        "rt_seq=[]\n",
        "d_seq=[]\n",
        "rt_sim=[]\n",
        "d_sim=[]\n",
        "rt_diag_sim=[]\n",
        "d_diag_sim=[]\n",
        "rt_dp_sim=[]\n",
        "d_dp_sim=[]\n",
        "rt_kb=[]\n",
        "d_kb=[]\n",
        "rt_diag_kb=[]\n",
        "d_diag_kb=[]\n",
        "rt_dp_kb=[]\n",
        "d_dp_kb=[]\n",
        "rt_dame_leve=[]\n",
        "d_dame_leve=[]\n",
        "#rt_jaro=[]\n",
        "d_jaro=[]\n",
        "rt_jw=[]\n",
        "d_jw=[]"
      ],
      "metadata": {
        "id": "CNjfB3xL7IqP"
      },
      "execution_count": 58,
      "outputs": []
    },
    {
      "cell_type": "markdown",
      "source": [
        "#Lavenshtein distance"
      ],
      "metadata": {
        "id": "AWeV5aHY6NG6"
      }
    },
    {
      "cell_type": "markdown",
      "source": [
        "#edit distance"
      ],
      "metadata": {
        "id": "hVD-Isw6ezep"
      }
    },
    {
      "cell_type": "code",
      "source": [
        "def edit_distance(ip, pat, li, lp, d):\n",
        "  start=time.process_time()\n",
        "  for i in range(0,li+1):\n",
        "    d[i][0]=i\n",
        "  for i in range(0,lp+1):\n",
        "    d[0][i]=i\n",
        "\n",
        "  for i in range(1,li+1):\n",
        "    for j in range(1,lp+1):\n",
        "      if(ip[i-1] == pat[j-1]):\n",
        "        d[i][j] = d[i-1][j-1]\n",
        "      else:\n",
        "        d[i][j]=min(d[i][j-1],d[i-1][j],d[i-1][j-1])+1\n",
        "        \n",
        "  end=time.process_time()\n",
        "  run_time=end-start\n",
        "  d_seq.append(d[li][lp])\n",
        "  rt_seq.append(run_time)\n",
        "  "
      ],
      "metadata": {
        "id": "IZ9bz3ExafgE"
      },
      "execution_count": 48,
      "outputs": []
    },
    {
      "cell_type": "markdown",
      "source": [
        "#edit distance diag"
      ],
      "metadata": {
        "id": "Gi6bCbQpe2Ko"
      }
    },
    {
      "cell_type": "code",
      "source": [
        "def edit_distance_diag(ip, pat, li, lp, d):\n",
        "  start=time.process_time()\n",
        "  for i in range(0,li+1):\n",
        "    d[i][0]=i\n",
        "  for i in range(0,lp+1):\n",
        "    d[0][i]=i\n",
        "  #upper left\n",
        "  for i in range(1,lp+1):\n",
        "    max=np.NaN\n",
        "    if (i <= li):\n",
        "      max = i + 1;\n",
        "    else:\n",
        "      max = li + 1;\n",
        "    for j in range(1,max):\n",
        "      if ip[j-1]==pat[i-j]:\n",
        "\n",
        "      '''\n",
        "      min = d[j-1][i-j] + 0 if(ip[j-1] == pat[i-j]) else 1\n",
        "      if(min > d[j-1][i-j+1]+1):\n",
        "        min = d[j-1][i-j+1]+1;\n",
        "      if(min > d[j][i-j]+1):\n",
        "        min = d[j][i-j]+1;\n",
        "      d[j][i-j+1] = min;\n",
        "      '''\n",
        "  #upper right\n",
        "  for i in range(1,li):\n",
        "    diag_max=np.NaN\n",
        "    if ((li > lp) and(i <= li - lp)): \n",
        "      diag_max = lp; \n",
        "    else:\n",
        "      diag_max = li - i\n",
        "    for j in range(1,diag_max+1):\n",
        "      min = d[j+i-1][lp-j] + 0 if(ip[j+i-1] == pat[lp-j]) else 1\n",
        "      if(min > d[i+j-1][lp-j+1]+1):\n",
        "        min = d[i+j-1][lp-j+1]+1\n",
        "      if(min > d[i+j][lp-j]+1):\n",
        "        min = d[i+j][lp-j]+1;\n",
        "      d[i+j][lp-j+1] = min;\n",
        "  end=time.process_time()\n",
        "  run_time=end-start\n",
        "  print(\"Levenshtein Distance with Diagonal skipping={}\".format(d[li][lp]))\n",
        "  print(\"run time={}\".format(run_time))"
      ],
      "metadata": {
        "id": "b7fLyFFbeyHx"
      },
      "execution_count": 28,
      "outputs": []
    },
    {
      "cell_type": "markdown",
      "source": [
        "#edit distance diag pruning"
      ],
      "metadata": {
        "id": "BaZhVB6ZhSzf"
      }
    },
    {
      "cell_type": "code",
      "source": [
        "def edit_distance_diag_prun(ip, pat, li, lp,k, d):\n",
        "  pruning_bits=np.zeros(30,dtype='int')\n",
        "  p_traversal=0\n",
        "  start=time.process_time()\n",
        "  for i in range(0,li+1):\n",
        "    d[i][0] = i\n",
        "  for i in range(0,lp+1):\n",
        "    d[0][i]=i\n",
        "    pruning_bits[i]=0\n",
        "\n",
        "  pruning_bits[0] = 1\n",
        "  #upper left\n",
        "\n",
        "  for i in range(1,lp+1):\n",
        "    max=np.NaN\n",
        "    if (i <= li):\n",
        "      max = i + 1\n",
        "    else:\n",
        "      max = li + 1\n",
        "    for j in range(1,max):\n",
        "      if (pruning_bits[i-j+1] == 1):\n",
        "        break \n",
        "      #deletion for being equal to pattern\n",
        "      min = d[j-1][i-j+1]+ 1\n",
        "      if (pruning_bits[i-j] == 0):        \n",
        "        sub = d[j-1][i-j] + 0 if ip[j-1]==pat[i-j] else 1\n",
        "        if(min > sub):\n",
        "          min = sub\n",
        "        #insertion for being equal to pattern\n",
        "        if(min > d[j][i-j] + 1):\n",
        "          min = d[j][i-j] + 1\n",
        "        d[j][i-j+1] = min\n",
        "      else:\n",
        "        #for the leftmost column\n",
        "        if (i-j+1== 1):\n",
        "          #substitution: i-th input and j-th pattern character, string array starts from index 0 \n",
        "          sub = d[j-1][0] + 0 if ip[j-1]==pat[0] else 1\n",
        "          if(min > sub):\n",
        "            min = sub\n",
        "          #insertion for being equal to pattern\n",
        "          if(min > d[j][0] + 1):\n",
        "            min = d[j][0] + 1\n",
        "          if ((min > k) and (d[j][0] > k)):\n",
        "            p_traversal = i;\n",
        "            pruning_bits[i-j+1] = 1;\n",
        "          else:\n",
        "            d[j][i-j+1] = min;\n",
        "            break\n",
        "        else:\n",
        "          if p_traversal==i-1:\n",
        "            sub = d[j-1][i-j] + 0 if ip[j-1]==pat[i-j] else 1\n",
        "            if(min > sub):\n",
        "              min = sub\n",
        "          if (min > k):\n",
        "            p_traversal = i\n",
        "            pruning_bits[i-j+1]=1\n",
        "          else:\n",
        "            d[j][i-j+1] = min\n",
        "        break\n",
        "  #from upper right\n",
        "  for i in range(1,li):\n",
        "    diag_max=np.NaN\n",
        "    if ((li > lp) and (i <= li - lp)): \n",
        "      diag_max = lp \n",
        "    else:\n",
        "      diag_max = li - i\n",
        "    for j in range(1,diag_max+1):\n",
        "      if (pruning_bits[lp-j+1] == 1):\n",
        "        break\n",
        "      #deletion for being equal to pattern\n",
        "      min = d[j+i-1][lp-j+1] + 1\n",
        "      if (pruning_bits[lp-j] == 0):\n",
        "        #substitution \n",
        "        sub = d[i+j-1][lp-j] + 0 if ip[i+j-1]==pat[lp-j] else 1\n",
        "        if(min > sub):\n",
        "          min = sub\n",
        "        #insertion for being equal to pattern\n",
        "        if(min > d[i+j][lp-j] + 1):\n",
        "          min = d[i+j][lp-j] + 1\n",
        "        d[i+j][lp-j+1] = min\n",
        "      else:\n",
        "        if (p_traversal == i-1 + lp):   \n",
        "          #substitution \n",
        "          sub = d[i+j-1][lp-j] + 0 if ip[i+j-1]==pat[lp-j] else 1\n",
        "          if(min > sub):\n",
        "            min = sub\n",
        "        if (min > k):\n",
        "          p_traversal = i+lp;\n",
        "          pruning_bits[lp-j+1] = 1\n",
        "        else:\n",
        "          d[i+j][lp-j+1] = min\n",
        "        break\n",
        "  end=time.process_time()\n",
        "  run_time=end-start\n",
        "  print(\"Levenshtein Distance with diagonal pruning={}\".format(d[li][lp]))\n",
        "  print(\"run time={}\".format(run_time))\n",
        "        "
      ],
      "metadata": {
        "id": "ISkBSuntha5e"
      },
      "execution_count": 23,
      "outputs": []
    },
    {
      "cell_type": "markdown",
      "source": [
        "#character shape Similarity metric\n",
        "\n",
        "\n"
      ],
      "metadata": {
        "id": "j1kBSlvyMRN-"
      }
    },
    {
      "cell_type": "code",
      "source": [
        "const_sub=1.87\n",
        "simil_array=np.array([[0.00,2.13,2.50,2.57,3.40,1.06,3.30,1.57,1.16,1.13,1.13,1.10,1.40,1.63,3.13,2.03,2.60,1.43,2.13,1.07,2.40,1.23,1.13,1.10,1.07,1.37],[2.13,0.00,3.03,5.60,2.27,1.83,3.53,3.70,1.43,1.43,2.13,2.77,1.23,1.77,4.20,5.07,4.67,1.27,1.40,1.63,1.93,1.40,1.10,1.07,1.20,1.13],\n",
        "                      [2.50,3.03,0.00,3.57,4.43,1.24,2.47,1.30,1.10,1.13,1.30,1.17,1.20,2.00,5.23,2.60,2.77,1.40,2.43,1.40,2.17,1.53,1.23,1.23,1.29,1.47],[2.57,5.60,3.57,0.00,2.87,1.43,4.10,2.73,1.73,1.27,1.33,2.30,1.13,1.93,4.90,5.10,5.10,1.33,1.27,1.37,1.83,1.55,1.07,1.23,1.13,1.23],\n",
        "                      [3.40,2.27,4.43,2.87,0.00,1.33,2.37,1.23,1.20,1.17,1.20,1.07,1.13,1.73,4.13,2.40,2.43,1.27,2.20,1.20,1.57,1.23,1.30,1.30,1.37,1.33],[1.06,1.83,1.24,1.43,1.33,0.00,1.40,1.80,4.16,3.67,1.57,4.03,1.33,1.20,1.17,1.63,1.47,3.80,1.27,4.80,1.27,1.23,1.13,1.28,1.40,1.30],\n",
        "                      [3.30,3.53,2.47,4.10,2.37,1.40,0.00,1.57,1.53,2.33,1.17,1.30,1.27,1.70,3.47,4.50,5.30,1.27,1.80,1.13,1.73,1.20,1.17,1.20,2.67,1.23],[1.57,3.70,1.30,2.73,1.23,1.80,1.57,0.00,1.93,1.60,2.77,2.53,2.53,5.53,1.47,2.47,2.17,2.37,1.23,1.97,3.33,1.40,1.30,1.23,1.50,1.20],\n",
        "                      [1.16,1.43,1.10,1.73,1.20,4.16,1.53,1.93,0.00,5.17,1.90,6.13,1.63,1.50,1.33,1.60,1.55,2.70,1.07,3.90,1.67,1.67,1.30,1.40,1.50,1.13],[1.13,1.43,1.13,1.27,1.17,3.67,2.33,1.60,5.17,0.00,1.47,4.67,1.13,1.30,1.00,1.57,1.63,2.30,1.17,3.80,1.30,1.37,1.10,1.26,2.87,1.23],\n",
        "                      [1.13,2.13,1.30,1.33,1.20,1.57,1.17,2.77,1.90,1.47,0.00,2.80,1.20,1.53,1.03,1.53,1.47,2.00,1.40,2.13,1.26,1.97,2.07,3.55,2.03,1.50],[1.10,2.77,1.17,2.30,1.07,4.03,1.30,2.53,6.13,4.67,2.80,0.00,1.07,1.37,1.23,1.80,1.83,3.26,1.10,4.50,1.29,1.37,1.33,1.27,1.81,1.10],\n",
        "                      [1.40,1.23,1.20,1.13,1.13,1.33,1.27,2.53,1.63,1.13,1.20,1.07,0.00,4.67,1.30,1.33,1.17,2.23,1.20,1.07,2.27,1.33,3.40,1.10,1.20,1.10],[1.63,1.77,2.00,1.93,1.73,1.20,1.70,5.53,1.50,1.30,1.53,1.37,4.67,0.00,2.40,1.83,1.90,3.13,1.52,1.10,4.53,1.97,1.61,1.03,1.43,1.57],\n",
        "                      [3.13,4.20,5.23,4.90,4.13,1.17,3.47,1.47,1.33,1.00,1.03,1.23,1.30,2.40,0.00,3.60,4.10,1.13,2.27,1.13,2.83,1.27,1.13,1.07,1.17,1.27],[2.03,5.07,2.60,5.10,2.40,1.63,4.50,2.47,1.60,1.57,1.53,1.80,1.33,1.83,3.60,0.00,5.57,1.77,1.26,1.33,1.80,1.13,1.17,1.10,1.97,1.17],\n",
        "                      [2.60,4.67,2.77,5.10,2.43,1.47,5.30,2.17,1.55,1.63,1.47,1.83,1.17,1.90,4.10,5.57,0.00,1.47,1.23,1.80,2.30,1.20,1.03,1.10,2.03,1.17],[1.43,1.27,1.40,1.33,1.27,3.80,1.27,2.37,2.70,2.30,2.00,3.26,2.23,3.13,1.13,1.77,1.47,0.00,1.60,3.37,1.97,1.67,1.03,1.43,1.27,1.30],\n",
        "                      [2.13,1.40,2.43,1.27,2.20,1.27,1.80,1.23,1.07,1.17,1.40,1.10,1.20,1.52,2.27,1.26,1.23,1.60,0.00,1.20,1.33,1.13,1.10,1.63,1.33,2.17],[1.07,1.63,1.40,1.37,1.20,4.80,1.13,1.97,3.90,3.80,2.13,4.50,1.07,1.10,1.13,1.33,1.80,3.37,1.20,0.00,1.60,1.40,1.00,1.47,1.50,1.27],\n",
        "                      [2.40,1.93,2.17,1.83,1.57,1.27,1.73,3.33,1.67,1.30,1.26,1.29,2.27,4.53,2.83,1.80,2.30,1.97,1.33,1.60,0.00,4.93,2.73,1.40,3.13,1.57],[1.23,1.40,1.53,1.55,1.23,1.23,1.20,1.40,1.67,1.37,1.97,1.37,1.33,1.97,1.27,1.13,1.20,1.67,1.13,1.40,4.93,0.00,5.03,2.63,5.33,1.97],\n",
        "                      [1.13,1.10,1.23,1.07,1.30,1.13,1.17,1.30,1.30,1.10,2.07,1.33,3.40,1.61,1.13,1.17,1.03,1.03,1.10,1.00,2.73,5.03,0.00,2.23,2.43,1.67],[1.10,1.07,1.23,1.23,1.30,1.28,1.20,1.23,1.40,1.26,3.55,1.27,1.10,1.03,1.07,1.10,1.10,1.43,1.63,1.47,1.40,2.63,2.23,0.00,3.10,1.80],\n",
        "                      [1.07,1.20,1.29,1.13,1.37,1.40,2.67,1.50,1.50,2.87,2.03,1.81,1.20,1.43,1.17,1.97,2.03,1.27,1.33,1.50,3.13,5.33,2.43,3.10,0.00,1.93],[1.37,1.13,1.47,1.23,1.33,1.30,1.23,1.20,1.13,1.23,1.50,1.10,1.10,1.57,1.27,1.17,1.17,1.30,2.17,1.27,1.57,1.97,1.67,1.80,1.93,0.00]])\n",
        "avg_length=5.1"
      ],
      "metadata": {
        "id": "nXTUIK6KNJSZ"
      },
      "execution_count": 34,
      "outputs": []
    },
    {
      "cell_type": "code",
      "source": [
        "def edit_distance_sim(ip,pat,li,lp,d,cost):\n",
        "  \n",
        "  start=time.process_time()\n",
        "  for i in range(0,li+1):\n",
        "    d[i][0] = cost * i\n",
        "\n",
        "  for i in range(0,lp+1):\n",
        "    d[0][i] = cost * i\n",
        "  \n",
        "  for i in range(1,li+1):\n",
        "    for j in range(1,lp+1):\n",
        "      #substition\n",
        "      min = d[i-1][j-1]+ 0 if ip[i-1]==pat[j-1] else 1/simil_array[ord(ip[i-1])-97][ord(pat[j-1])-97]*const_sub\n",
        "\n",
        "      #deletion\n",
        "      if(min > d[i-1][j] + cost):\n",
        "        min = d[i-1][j] + cost\n",
        "          \n",
        "      #insertion\n",
        "      if(min > d[i][j-1] + cost):\n",
        "        min = d[i][j-1] + cost\n",
        "\n",
        "      d[i][j] = min\n",
        "\n",
        " \n",
        "  end=time.process_time()\n",
        "  run_time=end-start\n",
        "  d_sim.append(d[li][lp])\n",
        "  rt_sim.append(run_time)\n",
        "   "
      ],
      "metadata": {
        "id": "88ZfluLIO2mb"
      },
      "execution_count": 49,
      "outputs": []
    },
    {
      "cell_type": "code",
      "source": [
        "def edit_distance_diag_sim(ip,pat,li,lp,d,cost):\n",
        "  start=time.process_time()\n",
        "  for i in range(0,li+1):\n",
        "    d[i][0] = cost * i\n",
        "\n",
        "  for i in range(0,lp+1):\n",
        "    d[0][i] = cost * i\n",
        "\n",
        "  #from upper left\n",
        "  for i in range(1,lp+1):\n",
        "\n",
        "    max=np.NaN\n",
        "    if (i <= li):\n",
        "      max = i + 1\n",
        "    else:\n",
        "      max = li + 1;\n",
        "\n",
        "    for j in range(1,max):\n",
        "    \n",
        "      #substition\n",
        "      min = d[j-1][i-j]+ 0 if (ip[j-1] == pat[i-j]) else 1/simil_array[ord(ip[j-1])-97][ord(pat[i-j])-97]*const_sub\n",
        "\n",
        "      #deletion\n",
        "      if(min > d[j-1][i-j+1] + cost): \n",
        "        min = d[j-1][i-j+1] + cost\n",
        "          \n",
        "      #insertion\n",
        "      if(min > d[j][i-j] + cost):\n",
        "        min = d[j][i-j] + cost\n",
        "\n",
        "      d[j][i-j+1] = min\n",
        "  \n",
        "  #from upper right\n",
        "  for i in range(1,li):\n",
        "    diag_max=np.NaN\n",
        "    if ((li > lp) and (i <= li - lp)): \n",
        "        diag_max = lp; \n",
        "    else:\n",
        "      diag_max = li - i\n",
        "      \n",
        "    for j in range(1,diag_max+1):\n",
        "      \n",
        "      #substitution\n",
        "      min = d[i+j-1][lp-j]+ 0 if ip[i+j-1] == pat[lp-j] else 1/simil_array[ord(ip[i+j-1])-97][ord(pat[lp-j])-97]*const_sub\n",
        "\n",
        "      #deletion\n",
        "      if(min > d[i+j-1][lp-j+1] + cost):\n",
        "        min = d[i+j-1][lp-j+1] + cost\n",
        "\n",
        "      #insertion\n",
        "      if(min > d[i+j][lp-j] + cost):\n",
        "        min = d[i+j][lp-j] + cost\n",
        "      d[i+j][lp-j+1] = min\n",
        "  end=time.process_time()\n",
        "  run_time=end-start\n",
        "  d_diag_sim.append(d[li][lp])\n",
        "  rt_diag_sim.append(run_time)\n",
        "  "
      ],
      "metadata": {
        "id": "PmOkVTWSYYJY"
      },
      "execution_count": 62,
      "outputs": []
    },
    {
      "cell_type": "code",
      "source": [
        "def edit_distance_diag_prun_sim(ip,pat,li,lp,d,k,cost):\n",
        "  pruning_bits=np.zeros(30,dtype='int')\n",
        "  p_traversal=0\n",
        "  start=time.process_time()\n",
        "  for i in range(0,li+1):\n",
        "    d[i][0] = cost * i\n",
        "  for i in range(0,lp+1):\n",
        "  \n",
        "    d[0][i] = cost * i\n",
        "    pruning_bits[i] = 0\n",
        "  \n",
        "  pruning_bits[0] = 1\n",
        "  #from upper left\n",
        "  for i in range(1,lp+1):\n",
        "  \n",
        "    max=np.NaN\n",
        "    if (i <= li):\n",
        "      max = i + 1;\n",
        "    else:\n",
        "      max = li + 1\n",
        "\n",
        "    for j in range(1,max):\n",
        "    \n",
        "      if (pruning_bits[i-j+1] != 0):\n",
        "        break \n",
        "\n",
        "      #deletion for being equal to pattern\n",
        "      min = d[j-1][i-j+1]+ cost\n",
        "\n",
        "      if (pruning_bits[i-j] == 0):\n",
        "      \n",
        "        #substitution: i-th input and j-th pattern character, string array starts from index 0 \n",
        "        sub = d[j-1][i-j]+ 0 if (ip[j-1] == pat[i-j]) else 1/simil_array[ord(ip[j-1])-97][ord(pat[i-j])-97]*const_sub\n",
        "\n",
        "        if(min > sub):\n",
        "          min = sub\n",
        "\n",
        "        #insertion for being equal to pattern\n",
        "        if(min > d[j][i-j] + cost):\n",
        "          min = d[j][i-j] + cost\n",
        "\n",
        "        d[j][i-j+1] = min\n",
        "      \n",
        "      else:\n",
        "      \n",
        "        #for the leftmost column\n",
        "        if (i-j+1== 1):\n",
        "        \n",
        "          #substitution: i-th input and j-th pattern character, string array starts from index 0 \n",
        "          sub = d[j-1][0]+ 0 if ip[j-1] == pat[0] else 1/simil_array[ord(ip[j-1])-97][ord(pat[0])-97]*const_sub\n",
        "\n",
        "          if(min > sub):\n",
        "            min = sub\n",
        "\n",
        "          #insertion for being equal to pattern\n",
        "          if(min > d[j][0] + cost):\n",
        "            min = d[j][0] + cost\n",
        "\n",
        "          if ((min > k)and (d[j][0] > k)):\n",
        "          \n",
        "            p_traversal = i;\n",
        "            pruning_bits[i-j+1]=1\n",
        "          \n",
        "          else:\n",
        "            d[j][i-j+1] = min\n",
        "\n",
        "        \n",
        "        else:\n",
        "          if (p_traversal == i-1):\n",
        "            #substitution: i-th input and j-th pattern character, string array starts from index 0 \n",
        "            sub = d[j-1][i-j]+ 0 if ip[j-1] == pat[i-j] else 1/simil_array[ord(ip[j-1])-97][ord(pat[i-j])-97]*const_sub\n",
        "            if(min > sub):\n",
        "              min = sub\n",
        "          #no need to calculate distance of insertion\n",
        "          if (min > k) :\n",
        "            p_traversal = i\n",
        "            pruning_bits[i-j+1]=1\n",
        "          else:\n",
        "            d[j][i-j+1] = min\n",
        "        break\n",
        "\n",
        "  #from upper right\n",
        "  for i in range(1,li):\n",
        "    diag_max=np.NaN;\n",
        "    if ((li > lp) and (i <= li - lp)): \n",
        "      diag_max = lp \n",
        "    else:\n",
        "      diag_max = li - i\n",
        "    for j in range(1,diag_max+1):\n",
        "      if (pruning_bits[lp-j+1] == 1):\n",
        "        break\n",
        "      #deletion for being equal to pattern\n",
        "      min = d[j+i-1][lp-j+1] + cost\n",
        "      if (pruning_bits[lp-j] == 0):\n",
        "        #substitution \n",
        "        sub = d[i+j-1][lp-j] + 0 if ip[i+j-1]==pat[lp-j] else 1/simil_array[ord(ip[i+j-1])-97][ord(pat[lp-j])-97]*const_sub\n",
        "        if(min > sub):\n",
        "          min = sub\n",
        "        #insertion for being equal to pattern\n",
        "        if(min > d[i+j][lp-j] + cost):\n",
        "          min = d[i+j][lp-j] + cost\n",
        "        d[i+j][lp-j+1] = min\n",
        "      else:\n",
        "        if (p_traversal == i-1 + lp):   \n",
        "          #substitution \n",
        "          sub = d[i+j-1][lp-j] + 0 if ip[i+j-1]==pat[lp-j] else 1/simil_array[ord(ip[i+j-1])-97][ord(pat[lp-j])-97]*const_sub\n",
        "          if(min > sub):\n",
        "            min = sub\n",
        "        if (min > k):\n",
        "          p_traversal = i+lp;\n",
        "          pruning_bits[lp-j+1] = 1\n",
        "        else:\n",
        "          d[i+j][lp-j+1] = min\n",
        "        break\n",
        "\n",
        "  end=time.process_time()\n",
        "  run_time=end-start\n",
        "  d_dp_sim.append(d[li][lp])\n",
        "  rt_dp_sim.append(run_time)\n",
        "  \n",
        "  "
      ],
      "metadata": {
        "id": "8josueVFa61M"
      },
      "execution_count": 64,
      "outputs": []
    },
    {
      "cell_type": "markdown",
      "source": [
        "#keyboard distance"
      ],
      "metadata": {
        "id": "dJ9Rw-u4jJQX"
      }
    },
    {
      "cell_type": "code",
      "source": [
        "const_keyboard=0.1084\n",
        "keyboard=[['`','1','2','3','4','5','6','7','8','9','0','-','=' ],\n",
        "    ['q','w','e','r','t','y','u','i','o','p','[',']','\\\\'],\n",
        "    ['a','s','d','f','g','h','j','k','l',';',124, 0,  0],\n",
        "    ['z','x','c','v','b','n','m',',','.','/', 0,  0,  0],\n",
        "    [0,    0,' ',' ',' ',' ',' ',  0,  0,  0, 0,  0,  0]]\n",
        "shifted_keyboard=[['~', '!', '@', '#', '$', '%', '^', '&', '*', '(', ')', '+',  0 ],\n",
        "    ['Q', 'W', 'E', 'R', 'T', 'Y', 'U', 'I', 'O', 'P', '{', '}', '|'],\n",
        "    ['A', 'S', 'D', 'F', 'G', 'H', 'J', 'K', 'L', ':', '\"',   0,  0],\n",
        "    ['Z', 'X', 'C', 'V', 'B', 'N', 'M', '<', '>', '?',   0,   0,  0],\n",
        "    [0,   0, ' ', ' ', ' ', ' ', ' ',   0,     0,   0,   0,   0,  0]]\n",
        "avg_length=5.1\n",
        "max_keyboard=0.108"
      ],
      "metadata": {
        "id": "vDuRUDsPjDQQ"
      },
      "execution_count": 38,
      "outputs": []
    },
    {
      "cell_type": "code",
      "source": [
        "def return_coord(c):\n",
        "  for i in range(len(keyboard)):\n",
        "    if c in keyboard[i]:\n",
        "      return (i,keyboard[i].index(c))\n",
        "  return -1    "
      ],
      "metadata": {
        "id": "RuZ6AoI8j0q2"
      },
      "execution_count": 39,
      "outputs": []
    },
    {
      "cell_type": "code",
      "source": [
        "def Euc_distance(c1,c2):\n",
        "  coor1=return_coord(c1)\n",
        "  coor2=return_coord(c2)\n",
        "  if type(coor1) is tuple and type(coor2) is tuple:\n",
        "    return math.sqrt((coor1[0]-coor2[0])**2 + (coor1[1]-coor2[1])**2)\n",
        "  return -1"
      ],
      "metadata": {
        "id": "j1EVvFaNln83"
      },
      "execution_count": 40,
      "outputs": []
    },
    {
      "cell_type": "code",
      "source": [
        "def edit_distance_kb(ip,pat,li,lp,d,cost):\n",
        "  start=time.process_time()\n",
        "  for i in range(0,li+1):\n",
        "    d[i][0] = cost * i\n",
        "\n",
        "  for i in range(0,lp+1):\n",
        "    d[0][i] = cost * i\n",
        "  for i in range(1,li+1):\n",
        "    for j in range(1,lp+1):\n",
        "      #substition\n",
        "      ds=Euc_distance(ip[i-1],pat[j-1])*const_keyboard\n",
        "      if ds<0:\n",
        "        sys.exit(1)  #exit code 1 -- either of the character in the inputs is not found in the keyboard array\n",
        "      min = d[i-1][j-1]+ 0 if ip[i-1]==pat[j-1] else ds\n",
        "      #deletion\n",
        "      if(min > d[i-1][j] + cost): \n",
        "        min = d[i-1][j] + cost\n",
        "      #insertion\n",
        "      if(min > d[i][j-1] + cost):\n",
        "        min = d[i][j-1] + cost\n",
        "\n",
        "      d[i][j] = min\n",
        "  end=time.process_time()\n",
        "  run_time=end-start\n",
        "  d_kb.append(d[li][lp])\n",
        "  rt_kb.append(run_time)\n",
        "  \n"
      ],
      "metadata": {
        "id": "GM-HDMNImsqL"
      },
      "execution_count": 52,
      "outputs": []
    },
    {
      "cell_type": "code",
      "source": [
        "def edit_distance_diag_kb(ip,pat,li,lp,d,cost):\n",
        "  start=time.process_time()\n",
        "  for i in range(0,li+1):\n",
        "    d[i][0] = cost * i\n",
        "\n",
        "  for i in range(0,lp+1):\n",
        "    d[0][i] = cost * i\n",
        "\n",
        "  #from upper left\n",
        "  for i in range(1,lp+1):\n",
        "    max=np.NaN\n",
        "    if (i <= li):\n",
        "      max = i + 1\n",
        "    else:\n",
        "      max = li + 1;\n",
        "\n",
        "    for j in range(1,max):\n",
        "      #substition\n",
        "      ds=Euc_distance(ip[j-1],pat[i-j])*const_keyboard\n",
        "      if ds<0:\n",
        "        sys.exit(1)  #exit code 1 -- either of the character in the inputs is not found in the keyboard array\n",
        "      min = d[j-1][i-j]+ 0 if ip[j-1]==pat[i-j] else ds\n",
        "      #deletion\n",
        "      if(min > d[j-1][i-j+1] + cost): \n",
        "        min = d[j-1][i-j+1] + cost\n",
        "          \n",
        "      #insertion\n",
        "      if(min > d[j][i-j] + cost):\n",
        "        min = d[j][i-j] + cost\n",
        "\n",
        "      d[j][i-j+1] = min\n",
        "  \n",
        "  #from upper right\n",
        "  for i in range(1,li):\n",
        "    diag_max=np.NaN\n",
        "    if ((li > lp) and (i <= li - lp)): \n",
        "        diag_max = lp; \n",
        "    else:\n",
        "      diag_max = li - i\n",
        "    for j in range(1,diag_max+1):\n",
        "      #substitution\n",
        "      ds=Euc_distance(ip[i+j-1],pat[lp-j])*const_keyboard\n",
        "      if ds<0:\n",
        "        sys.exit(1)  #exit code 1 -- either of the character in the inputs is not found in the keyboard array\n",
        "      min = d[i+j-1][lp-j]+ 0 if ip[i+j-1]==pat[lp-j] else ds\n",
        "      #deletion\n",
        "      if(min > d[i+j-1][lp-j+1] + cost):\n",
        "        min = d[i+j-1][lp-j+1] + cost\n",
        "      #insertion\n",
        "      if(min > d[i+j][lp-j] + cost):\n",
        "        min = d[i+j][lp-j] + cost\n",
        "      d[i+j][lp-j+1] = min\n",
        "  end=time.process_time()\n",
        "  run_time=end-start\n",
        "  d_diag_kb.append(d[li][lp])\n",
        "  rt_diag_kb.append(run_time)\n",
        "  "
      ],
      "metadata": {
        "id": "LGKatoeVpYNA"
      },
      "execution_count": 53,
      "outputs": []
    },
    {
      "cell_type": "code",
      "source": [
        "def edit_distance_diag_prun_kb(ip,pat,li,lp,k,d,cost):\n",
        "  pruning_bits=np.zeros(30,dtype='int')\n",
        "  p_traversal=0\n",
        "  start=time.process_time()\n",
        "  for i in range(0,li+1):\n",
        "    d[i][0] = cost * i\n",
        "  for i in range(0,lp+1):\n",
        "    d[0][i] = cost * i\n",
        "    pruning_bits[i] = 0\n",
        "  pruning_bits[0] = 1\n",
        "  #from upper left\n",
        "  for i in range(1,lp+1):\n",
        "    max=np.NaN\n",
        "    if (i <= li):\n",
        "      max = i + 1;\n",
        "    else:\n",
        "      max = li + 1\n",
        "    for j in range(1,max):\n",
        "      if (pruning_bits[i-j+1] != 0):\n",
        "        break \n",
        "      #deletion for being equal to pattern\n",
        "      min = d[j-1][i-j+1]+ cost\n",
        "      if (pruning_bits[i-j] == 0):\n",
        "        #substitution: i-th input and j-th pattern character, string array starts from index 0 \n",
        "        ds=Euc_distance(ip[j-1],pat[i-j])*const_keyboard\n",
        "        if ds<0:\n",
        "          sys.exit(1)\n",
        "        sub = d[j-1][i-j]+ 0 if (ip[j-1] == pat[i-j]) else ds\n",
        "        if(min > sub):\n",
        "          min = sub\n",
        "        #insertion for being equal to pattern\n",
        "        if(min > d[j][i-j] + cost):\n",
        "          min = d[j][i-j] + cost\n",
        "        d[j][i-j+1] = min\n",
        "      else:\n",
        "        #for the leftmost column\n",
        "        if (i-j+1== 1):\n",
        "          #substitution: i-th input and j-th pattern character, string array starts from index 0 \n",
        "          ds=Euc_distance(ip[j-1],pat[0])*const_keyboard\n",
        "          if ds<0:\n",
        "            sys.exit(1)\n",
        "          sub = d[j-1][0]+ 0 if ip[j-1] == pat[0] else ds\n",
        "          if(min > sub):\n",
        "            min = sub\n",
        "          #insertion for being equal to pattern\n",
        "          if(min > d[j][0] + cost):\n",
        "            min = d[j][0] + cost\n",
        "          if ((min > k)and (d[j][0] > k)):\n",
        "            p_traversal = i;\n",
        "            pruning_bits[i-j+1]=1\n",
        "          else:\n",
        "            d[j][i-j+1] = min\n",
        "        else:\n",
        "          if (p_traversal == i-1):\n",
        "            #substitution: i-th input and j-th pattern character, string array starts from index 0 \n",
        "            ds=Euc_distance(ip[j-1],pat[i-j])*const_keyboard\n",
        "            if ds<0:\n",
        "              sys.exit(1)\n",
        "            sub = d[j-1][i-j]+ 0 if ip[j-1] == pat[i-j] else ds\n",
        "            if(min > sub):\n",
        "              min = sub\n",
        "          #no need to calculate distance of insertion\n",
        "          if (min > k) :\n",
        "            p_traversal = i\n",
        "            pruning_bits[i-j+1]=1\n",
        "          else:\n",
        "            d[j][i-j+1] = min\n",
        "        break\n",
        "\n",
        "  #from upper right\n",
        "  for i in range(1,li):\n",
        "  \n",
        "    diag_max=np.NaN;\n",
        "    if ((li > lp) and (i <= li - lp)): \n",
        "      diag_max = lp \n",
        "    else:\n",
        "      diag_max = li - i\n",
        "    for j in range(1,diag_max+1):\n",
        "      if (pruning_bits[lp-j+1] == 1):\n",
        "        break\n",
        "      #deletion for being equal to pattern\n",
        "      min = d[j+i-1][lp-j+1] + cost\n",
        "      if (pruning_bits[lp-j] == 0):\n",
        "        #substitution \n",
        "        ds=Euc_distance(ip[i+j-1],pat[lp-j])*const_keyboard\n",
        "        if ds<0:\n",
        "          sys.exit(1)\n",
        "        sub = d[i+j-1][lp-j] + 0 if ip[i+j-1]==pat[lp-j] else ds\n",
        "        if(min > sub):\n",
        "          min = sub\n",
        "        #insertion for being equal to pattern\n",
        "        if(min > d[i+j][lp-j] + cost):\n",
        "          min = d[i+j][lp-j] + cost\n",
        "        d[i+j][lp-j+1] = min\n",
        "      else:\n",
        "        if (p_traversal == i-1 + lp):   \n",
        "          #substitution \n",
        "          ds=Euc_distance(ip[i+j-1],pat[lp-j])*const_keyboard\n",
        "          if ds<0:\n",
        "            sys.exit(1)\n",
        "          sub = d[i+j-1][lp-j] + 0 if ip[i+j-1]==pat[lp-j] else ds\n",
        "          if(min > sub):\n",
        "            min = sub\n",
        "        if (min > k):\n",
        "          p_traversal = i+lp;\n",
        "          pruning_bits[lp-j+1] = 1\n",
        "        else:\n",
        "          d[i+j][lp-j+1] = min\n",
        "        break\n",
        "\n",
        "  end=time.process_time()\n",
        "  run_time=end-start\n",
        "  d_dp_kb.append(d[li][lp])\n",
        "  rt_dp_kb.append(run_time)\n",
        "  "
      ],
      "metadata": {
        "id": "uN9HLd8rrLs_"
      },
      "execution_count": 54,
      "outputs": []
    },
    {
      "cell_type": "code",
      "source": [
        "def edit_distance_dameLeve(ip,pat):\n",
        "  start=time.process_time()\n",
        "  dst=damerauLevenshtein(ip,pat, similarity=True)\n",
        "  end=time.process_time()\n",
        "  d_dame_leve.append(dst)\n",
        "  rt_dame_leve.append(end-start)"
      ],
      "metadata": {
        "id": "h-rGropezpEO"
      },
      "execution_count": 56,
      "outputs": []
    },
    {
      "cell_type": "code",
      "source": [
        "def edit_distance_jaro(ip, pat,li,lp):\n",
        "\t\n",
        "\t# If the strings are equal\n",
        "\tif (ip == pat):\n",
        "\t\treturn 1.0\n",
        "\t# Maximum distance upto which matching is allowed\n",
        "\tmax_dist = math.floor(max(li, lp) / 2) - 1\n",
        "\tm = 0\n",
        "# Hash for matches\n",
        "\thash_ip = [0] * li\n",
        "\thash_pat = [0] * lp\n",
        "\tfor i in range(li):\n",
        "    # Check if there is any matches\n",
        "\t\tfor j in range(max(0, i - max_dist),min(lp, i + max_dist + 1)):\n",
        "\t\t  # If there is a match\n",
        "\t\t\tif (ip[i] == pat[j] and hash_pat[j] == 0):\n",
        "\t\t\t\thash_ip[i] = 1\n",
        "\t\t\t\thash_pat[j] = 1\n",
        "\t\t\t\tm += 1\n",
        "\t\t\t\tbreak\n",
        "  # If there is no match\n",
        "\tif (m == 0):\n",
        "\t\treturn 0.0\n",
        "# Number of transpositions\n",
        "\tt = 0\n",
        "\tpoint = 0\n",
        "\n",
        "\tfor i in range(li):\n",
        "\t\tif (hash_ip[i]):\n",
        "\t\t\twhile (hash_pat[point] == 0):\n",
        "\t\t\t\tpoint += 1\n",
        "\n",
        "\t\t\tif (ip[i] != pat[point]):\n",
        "\t\t\t\tt += 1\n",
        "\t\t\tpoint += 1\n",
        "\tt = t//2\n",
        "\t\n",
        "\treturn(m/li+m/lp+(m-t)/m)/3.0\n",
        " "
      ],
      "metadata": {
        "id": "nmOQ2VWY2cCm"
      },
      "execution_count": 57,
      "outputs": []
    },
    {
      "cell_type": "code",
      "source": [
        "def edit_distance_jaroWinkler(ip,pat,li,lp):\n",
        "  start=time.process_time()\n",
        "  dist_jaro = 1-edit_distance_jaro(ip, pat,li,lp)\n",
        "  dist_jw=0\n",
        "  if(dist_jaro>0.7):\n",
        "    prefix=0\n",
        "    for i in range(min(li,lp)) :\n",
        "      if(ip[i]==pat[i]):\n",
        "        prefix += 1;\n",
        "      else :\n",
        "        break\n",
        "    prefix = min(4, prefix) #allowing max of 4 characters in the prefix\n",
        "    dist_jw =dist_jaro+ 0.1 * prefix * (1 - dist_jaro);\n",
        "  end=time.process_time()\n",
        "  d_jaro.append(dist_jaro)\n",
        "  d_jw.append(dist_jw)\n",
        "  rt_jw.append(end-start)"
      ],
      "metadata": {
        "id": "xQyZ4D-Y5h9H"
      },
      "execution_count": 66,
      "outputs": []
    },
    {
      "cell_type": "code",
      "source": [
        "simMatrix=np.array([[4, -1, -2, -2,  0, -1, -1, 0,-1, 0, -2, -1, -1, -1, -1, -2, -1,  1,  0, -3, -2,  0 ,-2, -1, -1, -1,],\n",
        "[-1 , 5 , 0 ,-2 ,-3  ,1  ,0 ,-2 , 0 ,-3 ,-2 , 2 ,-1 ,1,2,-3 ,-2 ,-1 ,-1 ,-3, -2 ,-3 ,-1 ,-2 , 0, -1],\n",
        "[-2 , 0 , 6 , 1 ,-3,  0,  0,  0,  1, -3, -3,  0, -2, -3 ,3,-2,-2,  1,  0 ,-4 ,-2 ,-3 , 4, -3,  0, -1],\n",
        "[-2 ,-2 , 1 , 6, -3,  0 , 2 ,-1 ,-1, -3, -4, -1, -3, -3, -1,  1,-2,0 ,-1 ,-4 ,-3, -3,  4 ,-3 , 1, -1],\n",
        "[0 ,-3, -3, -3,  9, -3, -4 ,-3 ,-3, -1, -1, -1,-3,-3, -1, -2, -3 ,-1, -1, -2, -2, -1, -3, -1, -3 ,-1],\n",
        "[-1 , 1,  0 , 0 ,-3,  5,  2, -2,  0 ,-3, -2,  1 ,-3,2, 0 ,-3 ,-1 , 0 ,-1 ,-2 ,-1, -2 , 0 ,-2 , 4, -1],\n",
        "[-1  ,0 , 0 , 2 ,-4 , 2 , 5 ,-2 , 0 ,-3 ,-3 , 1,-1,0, -2 ,-3 ,-1 , 0 ,-1 ,-3 ,-2 ,-2,  1, -3 , 4, -1],\n",
        "[0 ,-2 , 0 ,-1, -3, -2, -2,  6, -2, -4, -4, -2, -3, 2,-2,-3, -2 , 0, -2 ,-2 ,-3, -3, -1 ,-4 ,-2 ,-1],\n",
        "[-2 , 0 , 1 ,-1 ,-3 , 0 , 0 ,-2 , 8 ,-3, -3 ,-1 ,-2 ,-1 ,-2 ,-1, -2 ,-2 , 2 ,1,2,-3 , 0 ,-3 , 0 ,-1],\n",
        "[-1 ,-3 ,-3, -3 ,-1 ,-3 ,-3 ,-4 ,-3, 3,-3, 4 , 2 ,-3 , 1 , 0 ,-3 ,-2 ,-1, -3, -1,  3 ,-3 , 3 ,-3 ,-1],\n",
        "[-1 ,-2, -3, -4, -1,-1,-3, -2, -3, -4, -3,  2 , 4, -2 , 2 , 0 ,-3 ,-2 ,-1, -2, -1 , 1 ,-4 , 3 ,-3 ,-1],\n",
        "[-1 , 2 , 0 ,-1 ,-3,  1, 0,4, 1, -2 ,-1 ,-3 ,-2 , 5 ,-1 ,-3 ,-1 , 0 ,-1 ,-3 ,-2 ,-2 , 0 ,-3 , 1 ,-1],\n",
        "[-1 ,-1 ,-2, -3, -1,-3,-1,  0, -2, -3, -2,  1 , 2 ,-1 , 5 , 0 ,-2 ,-1, -1, -1, -1 , 1 ,-3 , 2 ,-1 ,-1],\n",
        "[-2 ,-3, -3, -3, -2 ,-3 ,-3 ,-3 ,-1 , 0 , 0, -3, 1,3, 0,  6 ,-4 ,-2 ,-2 , 1 , 3 ,-1 ,-3 , 0 ,-3 ,-1],\n",
        "[-1 ,-2, -2, -1, -3, -1 ,-1 ,-2 ,-2 ,-3 ,-3 ,-1 -2 ,4 ,4, 7 ,-1 ,-1 ,-4,1,-4 ,-3 ,-2, -2, -3 ,-1 ,-1],\n",
        "[1 ,-1  ,1 , 0, -1,  0,  0,  0 ,-1 ,-2 ,-2 , 0 ,-1, -2, -1,  4,  1, 0,-3,-3, -2, -2,  0, -2 , 0 ,-1],\n",
        "[0 ,-1  ,0, -1, -1, -1, -1, -2, -2, -1 ,-1, -1, -1, -2, -1,  1 ,4,2, 5, -2, -2 , 0 ,-1 ,-1, -1 ,-1],\n",
        "[-3 ,-3, -4, -4, -2, -2, -3, -2, -2, -3, -2, -3 ,-1, 1, 1 ,-4, -3 ,-2 ,1,1 , 2, -3, -4, -2 ,-2 ,-1],\n",
        "[-2 ,-2, -2, -3, -2, -1, -2, -3,  2 ,-1 ,-1 ,-2,-4,-2 ,-1 , 3 ,-3, -2, -2,  2,  7, -1, -3, -1, -2, -1],\n",
        "[0 ,-3 ,-3, -3, -1, -2, -3,-1,-2, -3, -3,  3,  1, -2,  1 ,-1, -2, -2,  0, -3 ,-1,  4 ,-3 , 2 ,-2 ,-1],\n",
        "[-2 ,-1 , 4 , 4 ,-3 , 0 , 1 ,-1 , 0, -3, -4,  0 ,-3 ,-3 ,-2 ,1,4, 0 ,-1 ,-4, -3, -3,  4, -3,  0, -1],\n",
        "[-1 ,-2, -3, -3, -1, -2, -3 ,-4 ,-3 , 3 , 3 ,-3 , 2 , 0 ,-3,3,-1, -2, -1, -2 ,-1 , 2, -3 , 3 ,-3 ,-1],\n",
        "[-1 , 0 , 0,  1 ,-3,  4,  4, -2,  0, -3, -3,  1, -1, -4,-2,-3, -1,  0, -1, -2, -2, -2,  0, -3 , 4 ,-1],\n",
        "[-1 ,-3 ,-3, -3 ,-1 ,-3 ,-3 ,-4 ,-3, 3,-3, 4 ,-3 ,-1,  4 ,-3 , 2 ,-2 ,-1,-2, -3, -3, -1, -2, -3 ,-4 ],\n",
        " [0 , 6 , 1 ,-3,  0,  0,  0,  1, -3, -3,  0, -2,-3, -3, -1,  1,-2,0 ,-1 ,-4 ,-3, -3,  4 ,-3 ,-3, -2],\n",
        "[-1 ,-1, -1, -1 ,-1, -1, -1, -1, -1, -1,-1, -1, -1,-1,-1 -1, -1, -1, -1, -1, -1, -1 ,-1, -1, -1, -1, -1]])\n",
        "\n",
        "for i in range(simMatrix.shape[0]):\n",
        "  print(len(simMatrix[i]))\n",
        "\n",
        "alphEnum = dict([(alphabet[i], i) for i in range(len(alphabet))])"
      ],
      "metadata": {
        "id": "hxGbIZEowUfz"
      },
      "execution_count": null,
      "outputs": []
    },
    {
      "cell_type": "code",
      "source": [
        "def nw(ip, pat,li,lp,simMatrix, gapPenalty=-4):\n",
        "    # The Needleman-Wunsch algorithm\n",
        "    \n",
        "    mat = []\n",
        "    for i in range(li+1):\n",
        "        mat.append([0]*(lp+1))\n",
        "    for j in range(lp+1):\n",
        "        mat[0][j] = gapPenalty*j\n",
        "    for i in range(li+1):\n",
        "        mat[i][0] = gapPenalty*i\n",
        "    for i in range(1, li+1):\n",
        "        for j in range(1, lp+1):\n",
        "            mat[i][j] = max(mat[i-1][j-1] + simMatrix[alphEnum[ip[i-1]]][alphEnum[pat[j-1]]], mat[i][j-1] + gapPenalty, mat[i-1][j] + gapPenalty)\n",
        "\n",
        "    # Stage 2: Computes the final alignment, by backtracking through matrix\n",
        "    alignmentip = \"\"\n",
        "    alignmentpat = \"\"\n",
        "    i, j = li,lp\n",
        "    while i and j:\n",
        "        score, scoreDiag, scoreUp, scoreLeft = mat[i][j], mat[i-1][j-1], mat[i-1][j], mat[i][j-1]\n",
        "        if score == scoreDiag + simMatrix[alphEnum[ip[i-1]]][alphEnum[pat[j-1]]]:\n",
        "            alignmentip = ip[i-1] + alignmentip\n",
        "            alignmentpat = pat[j-1] + alignmentpat\n",
        "            i -= 1\n",
        "            j -= 1\n",
        "        elif score == scoreUp + gapPenalty:\n",
        "            alignmentip = ip[i-1] + alignmentip\n",
        "            alignmentpat = '-' + alignmentpat\n",
        "            i -= 1\n",
        "        elif score == scoreLeft + gapPenalty:\n",
        "            alignmentip = '-' + alignmentip\n",
        "            alignmentpat = pat[j-1] + alignmentpat\n",
        "            j -= 1\n",
        "    while i:\n",
        "        alignmentip = ip[i-1] + alignmentip\n",
        "        alignmentpat = '-' + alignmentpat\n",
        "        i -= 1\n",
        "    while j:\n",
        "        alignmentip = '-' + alignmentip\n",
        "        alignmentpat = pat[j-1] + alignmentpat\n",
        "        j -= 1\n",
        "    # Now return result in format: [1st alignment, 2nd alignment, similarity]\n",
        "    return [alignmentip, alignmentpat, mat[li][lp]]\n",
        "\n",
        "def forwards(ip, pat,li,lp, simMatrix, gapPenalty=-4):\n",
        "    # This is the forwards subroutine.\n",
        "    \n",
        "    mat = []\n",
        "    for i in range(li+1):\n",
        "        mat.append([0]*(lp+1))\n",
        "    for j in range(lp+1):\n",
        "        mat[0][j] = gapPenalty*j\n",
        "    for i in range(1, li+1):\n",
        "        mat[i][0] = mat[i-1][0] + gapPenalty\n",
        "        for j in range(1, lp+1):\n",
        "            mat[i][j] = max(mat[i-1][j-1] + simMatrix[alphEnum[ip[i-1]]][alphEnum[pat[j-1]]], mat[i-1][j] + gapPenalty,mat[i][j-1] + gapPenalty)\n",
        "        # Now clear row from memory.\n",
        "        mat[i-1] = []\n",
        "    return mat[li]    \n",
        "\n",
        "def backwards(ip, pat,li,lp, simMatrix, gapPenalty=-4):\n",
        "    # This is the backwards subroutine.\n",
        "  \n",
        "    mat = []\n",
        "    for i in range(li+1):\n",
        "        mat.append([0]*(lp+1))\n",
        "    for j in range(lp+1):\n",
        "        mat[0][j] = gapPenalty*j\n",
        "    for i in range(1, li+1):\n",
        "        mat[i][0] = mat[i-1][0] + gapPenalty\n",
        "        for j in range(1, lp+1):\n",
        "            mat[i][j] = max(mat[i-1][j-1] + simMatrix[alphEnum[ip[li-i]]][alphEnum[pat[lp-j]]], mat[i-1][j] + gapPenalty, mat[i][j-1] + gapPenalty)\n",
        "        # Now clear row from memory.\n",
        "        mat[i-1] = []\n",
        "    return mat[li]\n",
        "\n",
        "def hirschberg(ip,pat,li,lp, simMatrix, gapPenalty=-4):\n",
        "    # This is the main Hirschberg routine.\n",
        "    \n",
        "    if li<2 or lp<2:\n",
        "        # In this case we just use the N-W algorithm.\n",
        "        return nw(ip, pat,li,lp, simMatrix, gapPenalty, alphEnum)\n",
        "    else:\n",
        "        # Make partitions, call subroutines.\n",
        "        F, B = forwards(ip[:n/2], pat,li,lp, simMatrix, gapPenalty, alphEnum), backwards(ip[li/2:], pat,li,lp, simMatrix, gapPenalty, alphEnum)\n",
        "        partition = [F[j] + B[lp-j] for j in range(lp+1)]\n",
        "        cut = partition.index(max(partition))\n",
        "        # Clear all memory now, so that we don't store data during recursive calls.\n",
        "        F, B, partition = [], [], []\n",
        "        # Now make recursive calls.\n",
        "        callLeft = hirschberg(ip[:li/2], pat[:cut],li,lp, simMatrix, gapPenalty, alphEnum)\n",
        "        callRight = hirschberg(ip[li/2:], pat[cut:],li,lp, simMatrix, gapPenalty, alphEnum)\n",
        "        # Now return result in format: [1st alignment, 2nd alignment, similarity]\n",
        "        return [callLeft[r] + callRight[r] for r in range(3)]"
      ],
      "metadata": {
        "id": "BuE0ym46Bq7I"
      },
      "execution_count": 1,
      "outputs": []
    },
    {
      "cell_type": "code",
      "source": [
        "f = open(\"words_alpha.txt\", 'r')\n",
        "data=[]\n",
        "word=f.readline()\n",
        "while (word):\n",
        "  data.append(word[:-1])\n",
        "  word=f.readline()\n",
        "input_list=random.sample(data,1000)\n",
        "pattern_list=random.sample(data,1000)"
      ],
      "metadata": {
        "id": "6sTeWYOQ3GCT"
      },
      "execution_count": 47,
      "outputs": []
    },
    {
      "cell_type": "code",
      "source": [
        "#ip=input()\n",
        "#pat=input()\n",
        "for i in range(len(input_list)):\n",
        "  for j in range(len(pattern_list)):\n",
        "    ip=input_list[i]\n",
        "    pat=pattern_list[j]\n",
        "    li=len(ip)\n",
        "    lp=len(pat)\n",
        "    d=np.zeros((li+1,lp+1))\n",
        "    k=3\n",
        "    cost = math.exp(avg_length/lp) / math.exp(1)\n",
        "    edit_distance(ip, pat, li, lp, d)\n",
        "    #edit_distance_diag(ip, pat, li, lp, d)\n",
        "    #edit_distance_diag_prun(ip,pat,li,lp,k,d)\n",
        "    edit_distance_sim(ip,pat,li,lp,d,cost)\n",
        "    edit_distance_diag_sim(ip,pat,li,lp,d,cost)\n",
        "    edit_distance_diag_prun_sim(ip,pat,li,lp,d,k,cost)\n",
        "    edit_distance_kb(ip,pat,li,lp,d,cost)\n",
        "    edit_distance_diag_kb(ip,pat,li,lp,d,cost)\n",
        "    edit_distance_diag_prun_kb(ip,pat,li,lp,k,d,cost)\n",
        "    edit_distance_dameLeve(ip,pat)\n",
        "    #start=time.process_time()\n",
        "    #dist_jaro=1-edit_distance_jaro(ip,pat,li,lp)\n",
        "    #end=time.process_time()\n",
        "    #print(\"jaro edit distance={}\".format(dist_jaro))\n",
        "    #print(\"run time={}\".format(end-start))\n",
        "    edit_distance_jaroWinkler(ip,pat,li,lp)\n",
        "\n"
      ],
      "metadata": {
        "id": "eSGsqO8s6rks"
      },
      "execution_count": 67,
      "outputs": []
    },
    {
      "cell_type": "code",
      "source": [
        "import matplotlib.pyplot as plt\n"
      ],
      "metadata": {
        "id": "xZBgI_6LKHSu"
      },
      "execution_count": 68,
      "outputs": []
    },
    {
      "cell_type": "code",
      "source": [
        "plt.plot(range(len(rt_seq)),rt_seq)\n"
      ],
      "metadata": {
        "colab": {
          "base_uri": "https://localhost:8080/",
          "height": 295
        },
        "id": "l4840PLoKOPt",
        "outputId": "b4fa4fea-f92d-4392-c4ea-2753f87c7779"
      },
      "execution_count": 69,
      "outputs": [
        {
          "output_type": "execute_result",
          "data": {
            "text/plain": [
              "[<matplotlib.lines.Line2D at 0x7f1d2a54f710>]"
            ]
          },
          "metadata": {},
          "execution_count": 69
        },
        {
          "output_type": "display_data",
          "data": {
            "text/plain": [
              "<Figure size 432x288 with 1 Axes>"
            ],
            "image/png": "[encoded data removed]"
          },
          "metadata": {
            "needs_background": "light"
          }
        }
      ]
    },
    {
      "cell_type": "code",
      "source": [
        "\n",
        "print(sum(rt_seq))\n",
        "print(sum(rt_sim))\n",
        "print(sum(rt_diag_sim))\n",
        "print(sum(rt_dp_sim))\n",
        "print(sum(rt_kb))\n",
        "print(sum(rt_diag_kb))\n",
        "print(sum(rt_dp_kb))\n",
        "print(sum(rt_dame_leve))\n",
        "print(sum(rt_jw))"
      ],
      "metadata": {
        "colab": {
          "base_uri": "https://localhost:8080/"
        },
        "id": "8gGVFc4PKfkI",
        "outputId": "7eb9972b-ca55-4a94-9af1-bf2b3649bced"
      },
      "execution_count": 71,
      "outputs": [
        {
          "output_type": "stream",
          "name": "stdout",
          "text": [
            "165.87175614908082\n",
            "218.1199897900161\n",
            "236.07954732810256\n",
            "292.1482978150174\n",
            "524.4441610419083\n",
            "542.476661218961\n",
            "604.4303245150195\n",
            "5.908505513147716\n",
            "21.024431412107127\n"
          ]
        }
      ]
    },
    {
      "cell_type": "code",
      "source": [
        "print(len(rt_seq))\n",
        "print(len(rt_sim))\n",
        "print(len(rt_diag_sim))\n",
        "print(len(rt_dp_sim))\n",
        "print(len(rt_kb))\n",
        "print(len(rt_diag_kb))\n",
        "print(len(rt_dp_kb))\n",
        "print(len(rt_dame_leve))\n",
        "print(len(rt_jw))"
      ],
      "metadata": {
        "colab": {
          "base_uri": "https://localhost:8080/"
        },
        "id": "fsKE5cJCLALY",
        "outputId": "a8eb3efa-b49a-469e-eb0a-fb03792d87b8"
      },
      "execution_count": 72,
      "outputs": [
        {
          "output_type": "stream",
          "name": "stdout",
          "text": [
            "1000003\n",
            "1000003\n",
            "1000002\n",
            "1000001\n",
            "1000001\n",
            "1000001\n",
            "1000001\n",
            "1000001\n",
            "1000000\n"
          ]
        }
      ]
    },
    {
      "cell_type": "code",
      "source": [
        "import pickle"
      ],
      "metadata": {
        "id": "rW4NDHR_LY6U"
      },
      "execution_count": 74,
      "outputs": []
    },
    {
      "cell_type": "code",
      "source": [
        "\n",
        "f = open(\"ip_list.pkl\", \"wb\")\n",
        "pickle.dump(input_list, f)\n",
        "f.close()\n",
        "\n"
      ],
      "metadata": {
        "id": "hO0WKGAXLXyp"
      },
      "execution_count": 95,
      "outputs": []
    },
    {
      "cell_type": "code",
      "source": [
        "f=open(\"pat_list.pkl\",\"wb\")\n",
        "pickle.dump(pattern_list,f)\n",
        "f.close()\n"
      ],
      "metadata": {
        "id": "cFAA0yzQNLFc"
      },
      "execution_count": 80,
      "outputs": []
    },
    {
      "cell_type": "code",
      "source": [
        "with open('ip_list.pkl', 'rb') as f:\n",
        "  ip_list_l = pickle.load(f)\n",
        "with open('pat_list.pkl','rb') as f:\n",
        "  pat_list_l=pickle.load(f)"
      ],
      "metadata": {
        "id": "0Ii140QsPggb"
      },
      "execution_count": 90,
      "outputs": []
    },
    {
      "cell_type": "code",
      "source": [
        "import collections"
      ],
      "metadata": {
        "id": "pqr3l82xP3kD"
      },
      "execution_count": 91,
      "outputs": []
    },
    {
      "cell_type": "code",
      "source": [
        "if collections.Counter(ip_list_l) == collections.Counter(input_list):\n",
        "    print (\"The lists are identical\")\n",
        "else :\n",
        "    print (\"The lists are not identical\")\n",
        "if collections.Counter(pat_list_l) == collections.Counter(pattern_list):\n",
        "    print (\"The lists are identical\")\n",
        "else :\n",
        "    print (\"The lists are not identical\")"
      ],
      "metadata": {
        "colab": {
          "base_uri": "https://localhost:8080/"
        },
        "id": "8_-Vpth3P_tr",
        "outputId": "caea3667-4cb4-4348-d54c-b84d7f114cf4"
      },
      "execution_count": 92,
      "outputs": [
        {
          "output_type": "stream",
          "name": "stdout",
          "text": [
            "The lists are identical\n",
            "The lists are identical\n"
          ]
        }
      ]
    },
    {
      "cell_type": "code",
      "source": [
        "with open('runtime.npy', 'wb') as f:\n",
        "    np.save(f, np.array(rt_seq))\n",
        "    np.save(f, np.array(rt_sim))\n",
        "    np.save(f,np.array(rt_diag_sim))\n",
        "    np.save(f,np.array(rt_dp_sim))\n",
        "    np.save(f,np.array(rt_kb))\n",
        "    np.save(f,np.array(rt_diag_kb))\n",
        "    np.save(f,np.array(rt_dp_kb))\n",
        "    np.save(f,np.array(rt_dame_leve))\n",
        "    np.save(f,rt_jw)\n",
        "    \n"
      ],
      "metadata": {
        "id": "BVZkqIszNUH4"
      },
      "execution_count": 81,
      "outputs": []
    },
    {
      "cell_type": "code",
      "source": [
        "with open('runtime.npy', 'rb') as f:\n",
        "    rt_seq_l = np.load(f)\n",
        "    rt_sim_l = np.load(f)\n",
        "    rt_diag_sim_l = np.load(f)\n",
        "    rt_dp_sim_l = np.load(f)\n",
        "    rt_kb_l = np.load(f)\n",
        "    rt_diag_kb_l = np.load(f)\n",
        "    rt_dp_kb_l= np.load(f)\n",
        "    rt_dame_leve_l = np.load(f)\n",
        "    rt_jw_l= np.load(f)"
      ],
      "metadata": {
        "id": "fofrTFmNOVs5"
      },
      "execution_count": 88,
      "outputs": []
    },
    {
      "cell_type": "code",
      "source": [
        "with open('distance.npy', 'wb') as f:\n",
        "    np.save(f, np.array(d_seq))\n",
        "    np.save(f, np.array(d_sim))\n",
        "    np.save(f,np.array(d_diag_sim))\n",
        "    np.save(f,np.array(d_dp_sim))\n",
        "    np.save(f,np.array(d_kb))\n",
        "    np.save(f,np.array(d_diag_kb))\n",
        "    np.save(f,np.array(d_dp_kb))\n",
        "    np.save(f,np.array(d_dame_leve))\n",
        "    np.save(f,d_jw)\n",
        "    "
      ],
      "metadata": {
        "id": "6wQLlDcoOyLq"
      },
      "execution_count": 86,
      "outputs": []
    },
    {
      "cell_type": "code",
      "source": [
        "with open('distance.npy', 'rb') as f:\n",
        "    d_seq_l = np.load(f)\n",
        "    d_sim_l = np.load(f)\n",
        "    d_diag_sim_l = np.load(f)\n",
        "    d_dp_sim_l = np.load(f)\n",
        "    d_kb_l = np.load(f)\n",
        "    d_diag_kb_l = np.load(f)\n",
        "    d_dp_kb_l= np.load(f)\n",
        "    d_dame_leve_l = np.load(f)\n",
        "    d_jw_l= np.load(f)"
      ],
      "metadata": {
        "id": "NXObKxt8O6xk"
      },
      "execution_count": 89,
      "outputs": []
    },
    {
      "cell_type": "code",
      "source": [
        "from google.colab import drive\n",
        "drive.mount('/content/gdrive')"
      ],
      "metadata": {
        "colab": {
          "base_uri": "https://localhost:8080/"
        },
        "id": "K9S6dVi6QVrg",
        "outputId": "da71be1e-1de1-4b4d-c491-80dfcca4c13e"
      },
      "execution_count": 93,
      "outputs": [
        {
          "output_type": "stream",
          "name": "stdout",
          "text": [
            "Mounted at /content/gdrive\n"
          ]
        }
      ]
    },
    {
      "cell_type": "code",
      "source": [
        ""
      ],
      "metadata": {
        "id": "gkTQWoDCQZjo"
      },
      "execution_count": null,
      "outputs": []
    }
  ]
}